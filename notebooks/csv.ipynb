{
 "cells": [
  {
   "cell_type": "markdown",
   "id": "6806e4cb",
   "metadata": {},
   "source": [
    "# Notebook to create csv files for TDB"
   ]
  },
  {
   "cell_type": "markdown",
   "id": "6714b0cd",
   "metadata": {},
   "source": [
    "Creates four csv files following the schema below:\n",
    "\n",
    "\n",
    "![db schema](db.png \"Title\")"
   ]
  },
  {
   "cell_type": "markdown",
   "id": "30705c1f",
   "metadata": {},
   "source": [
    "## Imports"
   ]
  },
  {
   "cell_type": "code",
   "execution_count": 24,
   "id": "c0c18f6a",
   "metadata": {},
   "outputs": [],
   "source": [
    "import pandas as pd\n",
    "import numpy as np"
   ]
  },
  {
   "cell_type": "code",
   "execution_count": 25,
   "id": "eba0a4a1",
   "metadata": {},
   "outputs": [],
   "source": [
    "# creates four empty dataframes\n",
    "biosignature_df = pd.DataFrame()\n",
    "research_df = pd.DataFrame()\n",
    "researcher_df = pd.DataFrame()\n",
    "environment_df = pd.DataFrame()"
   ]
  },
  {
   "cell_type": "markdown",
   "id": "18e16a2b",
   "metadata": {},
   "source": [
    "### For `research_df`"
   ]
  },
  {
   "cell_type": "code",
   "execution_count": 63,
   "id": "19d2308a",
   "metadata": {},
   "outputs": [],
   "source": [
    "column_names = ['research_id', 'researcher_id', 'methods', 'environment_id',\n",
    "                'biosignature_id', 'category_of_material', 'subcat_of_material',\n",
    "                'number_of_samples', 'min_age_of_samples', 'max_age_of_samples', 'url']"
   ]
  },
  {
   "cell_type": "code",
   "execution_count": 64,
   "id": "39c1ae74",
   "metadata": {},
   "outputs": [],
   "source": [
    "# fills in all dataframes with my research as example\n",
    "research_id = [1]\n",
    "researcher_id = [1]\n",
    "methods = ['GC-MS']\n",
    "environment_id = [[1,2]]\n",
    "biosignature_id = [1]\n",
    "category_of_material = ['geological']\n",
    "subcat_of_material = ['sedimentary']\n",
    "number_of_samples = [7]\n",
    "min_age_of_samples = [0]\n",
    "max_age_of_samples = [9400]\n",
    "url = ['https://www.semanticscholar.org/paper/Biomolecules-from-Fossilized-Hot-Spring-Sinters%3A-on-Teece-George/9135d76c4e366de27c8d6f2cb09b3299e2ae3d3b']\n",
    "columns = [research_id, researcher_id, methods, environment_id, biosignature_id,\n",
    "           category_of_material, subcat_of_material, number_of_samples, min_age_of_samples, max_age_of_samples, url]"
   ]
  },
  {
   "cell_type": "code",
   "execution_count": 65,
   "id": "1c9e00e7",
   "metadata": {},
   "outputs": [],
   "source": [
    "for index, column in enumerate(column_names):\n",
    "    research_df[column] = columns[index]"
   ]
  },
  {
   "cell_type": "code",
   "execution_count": 66,
   "id": "fa0beb8e",
   "metadata": {},
   "outputs": [
    {
     "data": {
      "text/html": [
       "<div>\n",
       "<style scoped>\n",
       "    .dataframe tbody tr th:only-of-type {\n",
       "        vertical-align: middle;\n",
       "    }\n",
       "\n",
       "    .dataframe tbody tr th {\n",
       "        vertical-align: top;\n",
       "    }\n",
       "\n",
       "    .dataframe thead th {\n",
       "        text-align: right;\n",
       "    }\n",
       "</style>\n",
       "<table border=\"1\" class=\"dataframe\">\n",
       "  <thead>\n",
       "    <tr style=\"text-align: right;\">\n",
       "      <th></th>\n",
       "      <th>research_id</th>\n",
       "      <th>researcher_id</th>\n",
       "      <th>methods</th>\n",
       "      <th>environment_id</th>\n",
       "      <th>biosignature_id</th>\n",
       "      <th>category_of_material</th>\n",
       "      <th>subcat_of_material</th>\n",
       "      <th>number_of_samples</th>\n",
       "      <th>min_age_of_samples</th>\n",
       "      <th>max_age_of_samples</th>\n",
       "      <th>url</th>\n",
       "    </tr>\n",
       "  </thead>\n",
       "  <tbody>\n",
       "    <tr>\n",
       "      <th>0</th>\n",
       "      <td>1</td>\n",
       "      <td>1</td>\n",
       "      <td>GC-MS</td>\n",
       "      <td>[1, 2]</td>\n",
       "      <td>1</td>\n",
       "      <td>geological</td>\n",
       "      <td>sedimentary</td>\n",
       "      <td>7</td>\n",
       "      <td>0</td>\n",
       "      <td>9400</td>\n",
       "      <td>https://www.semanticscholar.org/paper/Biomolec...</td>\n",
       "    </tr>\n",
       "  </tbody>\n",
       "</table>\n",
       "</div>"
      ],
      "text/plain": [
       "   research_id  researcher_id methods environment_id  biosignature_id  \\\n",
       "0            1              1   GC-MS         [1, 2]                1   \n",
       "\n",
       "  category_of_material subcat_of_material  number_of_samples  \\\n",
       "0           geological        sedimentary                  7   \n",
       "\n",
       "   min_age_of_samples  max_age_of_samples  \\\n",
       "0                   0                9400   \n",
       "\n",
       "                                                 url  \n",
       "0  https://www.semanticscholar.org/paper/Biomolec...  "
      ]
     },
     "execution_count": 66,
     "metadata": {},
     "output_type": "execute_result"
    }
   ],
   "source": [
    "research_df"
   ]
  },
  {
   "cell_type": "markdown",
   "id": "42bb9e1b",
   "metadata": {},
   "source": [
    "### For `researcher_df`"
   ]
  },
  {
   "cell_type": "code",
   "execution_count": 30,
   "id": "ae4ee74d",
   "metadata": {},
   "outputs": [],
   "source": [
    "column_names = ['researcher_id', 'name', 'affiliation', 'url']"
   ]
  },
  {
   "cell_type": "code",
   "execution_count": 31,
   "id": "d5e9f605",
   "metadata": {},
   "outputs": [],
   "source": [
    "# fills in all dataframes with my research as example\n",
    "researcher_id = [1]\n",
    "name = ['B. L. Teece']\n",
    "affiliation = ['Australian Centre for Astrobiology (ACA) and PANGEA Research Centre,\\\n",
    "                School of Biological, Earth and Environmental Sciences, University of\\\n",
    "                New South Wales Sydney, Sydney, Australia']\n",
    "url = ['https://www.semanticscholar.org/author/B.-Teece/89948855']\n",
    "columns = [researcher_id, name, affiliation, url]"
   ]
  },
  {
   "cell_type": "code",
   "execution_count": 32,
   "id": "9400a80d",
   "metadata": {},
   "outputs": [],
   "source": [
    "for index, column in enumerate(column_names):\n",
    "    researcher_df[column] = columns[index]"
   ]
  },
  {
   "cell_type": "code",
   "execution_count": 33,
   "id": "a4de5a6a",
   "metadata": {},
   "outputs": [
    {
     "data": {
      "text/html": [
       "<div>\n",
       "<style scoped>\n",
       "    .dataframe tbody tr th:only-of-type {\n",
       "        vertical-align: middle;\n",
       "    }\n",
       "\n",
       "    .dataframe tbody tr th {\n",
       "        vertical-align: top;\n",
       "    }\n",
       "\n",
       "    .dataframe thead th {\n",
       "        text-align: right;\n",
       "    }\n",
       "</style>\n",
       "<table border=\"1\" class=\"dataframe\">\n",
       "  <thead>\n",
       "    <tr style=\"text-align: right;\">\n",
       "      <th></th>\n",
       "      <th>researcher_id</th>\n",
       "      <th>name</th>\n",
       "      <th>affiliation</th>\n",
       "      <th>url</th>\n",
       "    </tr>\n",
       "  </thead>\n",
       "  <tbody>\n",
       "    <tr>\n",
       "      <th>0</th>\n",
       "      <td>1</td>\n",
       "      <td>B. L. Teece</td>\n",
       "      <td>Australian Centre for Astrobiology (ACA) and P...</td>\n",
       "      <td>https://www.semanticscholar.org/author/B.-Teec...</td>\n",
       "    </tr>\n",
       "  </tbody>\n",
       "</table>\n",
       "</div>"
      ],
      "text/plain": [
       "   researcher_id         name  \\\n",
       "0              1  B. L. Teece   \n",
       "\n",
       "                                         affiliation  \\\n",
       "0  Australian Centre for Astrobiology (ACA) and P...   \n",
       "\n",
       "                                                 url  \n",
       "0  https://www.semanticscholar.org/author/B.-Teec...  "
      ]
     },
     "execution_count": 33,
     "metadata": {},
     "output_type": "execute_result"
    }
   ],
   "source": [
    "researcher_df"
   ]
  },
  {
   "cell_type": "markdown",
   "id": "e8ef48f1",
   "metadata": {},
   "source": [
    "### For `biosignature_df`\n"
   ]
  },
  {
   "cell_type": "code",
   "execution_count": 39,
   "id": "c7589dac",
   "metadata": {},
   "outputs": [],
   "source": [
    "column_names = ['biosignature_id', 'category', 'sub_category', 'biosignatures']"
   ]
  },
  {
   "cell_type": "code",
   "execution_count": 44,
   "id": "24310501",
   "metadata": {},
   "outputs": [],
   "source": [
    "# fills in all dataframes with my research as example\n",
    "biosignature_id = [1]\n",
    "category = ['organics']\n",
    "sub_category = ['hydrocarbons']\n",
    "biosignatures = [['n-alkanes', 'methylalkanes', 'aromatics']]\n",
    "\n",
    "columns = [biosignature_id, category, sub_category, biosignatures]"
   ]
  },
  {
   "cell_type": "code",
   "execution_count": 46,
   "id": "07ff90cb",
   "metadata": {},
   "outputs": [],
   "source": [
    "for index, column in enumerate(column_names):\n",
    "    biosignature_df[column] = columns[index]"
   ]
  },
  {
   "cell_type": "code",
   "execution_count": 47,
   "id": "21b0628e",
   "metadata": {},
   "outputs": [
    {
     "data": {
      "text/html": [
       "<div>\n",
       "<style scoped>\n",
       "    .dataframe tbody tr th:only-of-type {\n",
       "        vertical-align: middle;\n",
       "    }\n",
       "\n",
       "    .dataframe tbody tr th {\n",
       "        vertical-align: top;\n",
       "    }\n",
       "\n",
       "    .dataframe thead th {\n",
       "        text-align: right;\n",
       "    }\n",
       "</style>\n",
       "<table border=\"1\" class=\"dataframe\">\n",
       "  <thead>\n",
       "    <tr style=\"text-align: right;\">\n",
       "      <th></th>\n",
       "      <th>biosignature_id</th>\n",
       "      <th>category</th>\n",
       "      <th>sub_category</th>\n",
       "      <th>biosignatures</th>\n",
       "    </tr>\n",
       "  </thead>\n",
       "  <tbody>\n",
       "    <tr>\n",
       "      <th>0</th>\n",
       "      <td>1</td>\n",
       "      <td>organics</td>\n",
       "      <td>hydrocarbons</td>\n",
       "      <td>[n-alkanes, methylalkanes, aromatics]</td>\n",
       "    </tr>\n",
       "  </tbody>\n",
       "</table>\n",
       "</div>"
      ],
      "text/plain": [
       "   biosignature_id  category  sub_category  \\\n",
       "0                1  organics  hydrocarbons   \n",
       "\n",
       "                           biosignatures  \n",
       "0  [n-alkanes, methylalkanes, aromatics]  "
      ]
     },
     "execution_count": 47,
     "metadata": {},
     "output_type": "execute_result"
    }
   ],
   "source": [
    "biosignature_df"
   ]
  },
  {
   "cell_type": "markdown",
   "id": "88ce5619",
   "metadata": {},
   "source": [
    "### For `environment_df`"
   ]
  },
  {
   "cell_type": "code",
   "execution_count": 49,
   "id": "61ee5230",
   "metadata": {},
   "outputs": [],
   "source": [
    "column_names = ['environment_id', 'extreme_conditions', 'location_name', 'latitude', 'longitude', 'et_counterpart']"
   ]
  },
  {
   "cell_type": "code",
   "execution_count": 57,
   "id": "e6250d99",
   "metadata": {},
   "outputs": [],
   "source": [
    "# fills in all dataframes with my research as example\n",
    "environment_id = [1]\n",
    "extreme_conditions = ['fossilized hot spring sinter']\n",
    "location_name = ['El Tatio, Chile']\n",
    "latitude = [-20.333333]\n",
    "longitude = [-68.016667]\n",
    "et_counterpart = ['Columbia Hills, Mars']\n",
    "\n",
    "new_line = [2, 'fossilized hot spring sinter', 'Taupo Volcanic Zone, New Zealand', -38.4, 176.216667, 'Columbia Hills, Mars']\n",
    "\n",
    "columns = [environment_id, extreme_conditions, location_name, latitude, longitude, et_counterpart]"
   ]
  },
  {
   "cell_type": "code",
   "execution_count": 60,
   "id": "aebb64a7",
   "metadata": {},
   "outputs": [
    {
     "data": {
      "text/html": [
       "<div>\n",
       "<style scoped>\n",
       "    .dataframe tbody tr th:only-of-type {\n",
       "        vertical-align: middle;\n",
       "    }\n",
       "\n",
       "    .dataframe tbody tr th {\n",
       "        vertical-align: top;\n",
       "    }\n",
       "\n",
       "    .dataframe thead th {\n",
       "        text-align: right;\n",
       "    }\n",
       "</style>\n",
       "<table border=\"1\" class=\"dataframe\">\n",
       "  <thead>\n",
       "    <tr style=\"text-align: right;\">\n",
       "      <th></th>\n",
       "      <th>environment_id</th>\n",
       "      <th>extreme_conditions</th>\n",
       "      <th>location_name</th>\n",
       "      <th>latitude</th>\n",
       "      <th>longitude</th>\n",
       "      <th>et_counterpart</th>\n",
       "    </tr>\n",
       "  </thead>\n",
       "  <tbody>\n",
       "    <tr>\n",
       "      <th>0</th>\n",
       "      <td>1</td>\n",
       "      <td>fossilized hot spring sinter</td>\n",
       "      <td>El Tatio, Chile</td>\n",
       "      <td>-20.333333</td>\n",
       "      <td>-68.016667</td>\n",
       "      <td>Columbia Hills, Mars</td>\n",
       "    </tr>\n",
       "    <tr>\n",
       "      <th>1</th>\n",
       "      <td>2</td>\n",
       "      <td>fossilized hot spring sinter</td>\n",
       "      <td>Taupo Volcanic Zone, New Zealand</td>\n",
       "      <td>-38.400000</td>\n",
       "      <td>176.216667</td>\n",
       "      <td>Columbia Hills, Mars</td>\n",
       "    </tr>\n",
       "  </tbody>\n",
       "</table>\n",
       "</div>"
      ],
      "text/plain": [
       "   environment_id            extreme_conditions  \\\n",
       "0               1  fossilized hot spring sinter   \n",
       "1               2  fossilized hot spring sinter   \n",
       "\n",
       "                      location_name   latitude   longitude  \\\n",
       "0                   El Tatio, Chile -20.333333  -68.016667   \n",
       "1  Taupo Volcanic Zone, New Zealand -38.400000  176.216667   \n",
       "\n",
       "         et_counterpart  \n",
       "0  Columbia Hills, Mars  \n",
       "1  Columbia Hills, Mars  "
      ]
     },
     "execution_count": 60,
     "metadata": {},
     "output_type": "execute_result"
    }
   ],
   "source": [
    "environment_df.loc[len(environment_df)] = new_line\n",
    "environment_df"
   ]
  },
  {
   "cell_type": "markdown",
   "id": "ff6e4af6",
   "metadata": {},
   "source": [
    "### Export dataframes to csv"
   ]
  },
  {
   "cell_type": "code",
   "execution_count": 67,
   "id": "58cefe69",
   "metadata": {},
   "outputs": [],
   "source": [
    "research_df.to_csv('../raw_data/research.csv')\n",
    "researcher_df.to_csv('../raw_data/researcher.csv')\n",
    "biosignature_df.to_csv('../raw_data/biosignature.csv')\n",
    "environment_df.to_csv('../raw_data/environment.csv')"
   ]
  }
 ],
 "metadata": {
  "kernelspec": {
   "display_name": "Python 3 (ipykernel)",
   "language": "python",
   "name": "python3"
  },
  "language_info": {
   "codemirror_mode": {
    "name": "ipython",
    "version": 3
   },
   "file_extension": ".py",
   "mimetype": "text/x-python",
   "name": "python",
   "nbconvert_exporter": "python",
   "pygments_lexer": "ipython3",
   "version": "3.8.12"
  },
  "toc": {
   "base_numbering": 1,
   "nav_menu": {},
   "number_sections": true,
   "sideBar": true,
   "skip_h1_title": false,
   "title_cell": "Table of Contents",
   "title_sidebar": "Contents",
   "toc_cell": false,
   "toc_position": {},
   "toc_section_display": true,
   "toc_window_display": false
  }
 },
 "nbformat": 4,
 "nbformat_minor": 5
}
