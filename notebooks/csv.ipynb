{
 "cells": [
  {
   "cell_type": "markdown",
   "id": "6806e4cb",
   "metadata": {},
   "source": [
    "# Notebook to create csv files for TDB"
   ]
  },
  {
   "cell_type": "markdown",
   "id": "6714b0cd",
   "metadata": {},
   "source": [
    "Creates four csv files following the schema below:\n",
    "\n",
    "\n",
    "![db schema](db.png \"Title\")"
   ]
  },
  {
   "cell_type": "markdown",
   "id": "30705c1f",
   "metadata": {},
   "source": [
    "## Imports"
   ]
  },
  {
   "cell_type": "code",
   "execution_count": 4,
   "id": "c0c18f6a",
   "metadata": {},
   "outputs": [
    {
     "name": "stdout",
     "output_type": "stream",
     "text": [
      "The autoreload extension is already loaded. To reload it, use:\n",
      "  %reload_ext autoreload\n"
     ]
    }
   ],
   "source": [
    "import pandas as pd\n",
    "import numpy as np\n",
    "\n",
    "from biosignature_db import plots\n",
    "from biosignature_db import data\n",
    "\n",
    "%load_ext autoreload\n",
    "%autoreload 2"
   ]
  },
  {
   "cell_type": "markdown",
   "id": "db77a688",
   "metadata": {
    "heading_collapsed": true
   },
   "source": [
    "## Create csv files"
   ]
  },
  {
   "cell_type": "code",
   "execution_count": null,
   "id": "c84949b6",
   "metadata": {
    "hidden": true
   },
   "outputs": [],
   "source": [
    "# creates four empty dataframes\n",
    "biosignature_df = pd.DataFrame()\n",
    "research_df = pd.DataFrame()\n",
    "researcher_df = pd.DataFrame()\n",
    "environment_df = pd.DataFrame()"
   ]
  },
  {
   "cell_type": "markdown",
   "id": "18e16a2b",
   "metadata": {
    "heading_collapsed": true,
    "hidden": true
   },
   "source": [
    "### For `research_df`"
   ]
  },
  {
   "cell_type": "code",
   "execution_count": null,
   "id": "19d2308a",
   "metadata": {
    "hidden": true
   },
   "outputs": [],
   "source": [
    "column_names = ['research_id', 'researcher_id', 'methods', 'environment_id',\n",
    "                'biosignature_id', 'category_of_material', 'subcat_of_material',\n",
    "                'number_of_samples', 'min_age_of_samples', 'max_age_of_samples', 'url']"
   ]
  },
  {
   "cell_type": "code",
   "execution_count": null,
   "id": "39c1ae74",
   "metadata": {
    "hidden": true
   },
   "outputs": [],
   "source": [
    "# fills in all dataframes with my research as example\n",
    "research_id = [1]\n",
    "researcher_id = [1]\n",
    "methods = ['GC-MS']\n",
    "environment_id = [[1,2]]\n",
    "biosignature_id = [1]\n",
    "category_of_material = ['geological']\n",
    "subcat_of_material = ['sedimentary']\n",
    "number_of_samples = [7]\n",
    "min_age_of_samples = [0]\n",
    "max_age_of_samples = [9400]\n",
    "url = ['https://www.semanticscholar.org/paper/Biomolecules-from-Fossilized-Hot-Spring-Sinters%3A-on-Teece-George/9135d76c4e366de27c8d6f2cb09b3299e2ae3d3b']\n",
    "columns = [research_id, researcher_id, methods, environment_id, biosignature_id,\n",
    "           category_of_material, subcat_of_material, number_of_samples, min_age_of_samples, max_age_of_samples, url]"
   ]
  },
  {
   "cell_type": "code",
   "execution_count": null,
   "id": "1c9e00e7",
   "metadata": {
    "hidden": true
   },
   "outputs": [],
   "source": [
    "for index, column in enumerate(column_names):\n",
    "    research_df[column] = columns[index]"
   ]
  },
  {
   "cell_type": "code",
   "execution_count": null,
   "id": "fa0beb8e",
   "metadata": {
    "hidden": true
   },
   "outputs": [],
   "source": [
    "research_df"
   ]
  },
  {
   "cell_type": "markdown",
   "id": "42bb9e1b",
   "metadata": {
    "heading_collapsed": true,
    "hidden": true
   },
   "source": [
    "### For `researcher_df`"
   ]
  },
  {
   "cell_type": "code",
   "execution_count": null,
   "id": "ae4ee74d",
   "metadata": {
    "hidden": true
   },
   "outputs": [],
   "source": [
    "column_names = ['researcher_id', 'name', 'affiliation', 'url']"
   ]
  },
  {
   "cell_type": "code",
   "execution_count": null,
   "id": "d5e9f605",
   "metadata": {
    "hidden": true
   },
   "outputs": [],
   "source": [
    "# fills in all dataframes with my research as example\n",
    "researcher_id = [1]\n",
    "name = ['B. L. Teece']\n",
    "affiliation = ['Australian Centre for Astrobiology (ACA) and PANGEA Research Centre,\\\n",
    "                School of Biological, Earth and Environmental Sciences, University of\\\n",
    "                New South Wales Sydney, Sydney, Australia']\n",
    "url = ['https://www.semanticscholar.org/author/B.-Teece/89948855']\n",
    "columns = [researcher_id, name, affiliation, url]"
   ]
  },
  {
   "cell_type": "code",
   "execution_count": null,
   "id": "9400a80d",
   "metadata": {
    "hidden": true
   },
   "outputs": [],
   "source": [
    "for index, column in enumerate(column_names):\n",
    "    researcher_df[column] = columns[index]"
   ]
  },
  {
   "cell_type": "code",
   "execution_count": null,
   "id": "a4de5a6a",
   "metadata": {
    "hidden": true
   },
   "outputs": [],
   "source": [
    "researcher_df"
   ]
  },
  {
   "cell_type": "markdown",
   "id": "e8ef48f1",
   "metadata": {
    "heading_collapsed": true,
    "hidden": true
   },
   "source": [
    "### For `biosignature_df`\n"
   ]
  },
  {
   "cell_type": "code",
   "execution_count": null,
   "id": "c7589dac",
   "metadata": {
    "hidden": true
   },
   "outputs": [],
   "source": [
    "column_names = ['biosignature_id', 'category', 'sub_category', 'biosignatures']"
   ]
  },
  {
   "cell_type": "code",
   "execution_count": null,
   "id": "24310501",
   "metadata": {
    "hidden": true
   },
   "outputs": [],
   "source": [
    "# fills in all dataframes with my research as example\n",
    "biosignature_id = [1]\n",
    "category = ['organics']\n",
    "sub_category = ['hydrocarbons']\n",
    "biosignatures = [['n-alkanes', 'methylalkanes', 'aromatics']]\n",
    "\n",
    "columns = [biosignature_id, category, sub_category, biosignatures]"
   ]
  },
  {
   "cell_type": "code",
   "execution_count": null,
   "id": "07ff90cb",
   "metadata": {
    "hidden": true
   },
   "outputs": [],
   "source": [
    "for index, column in enumerate(column_names):\n",
    "    biosignature_df[column] = columns[index]"
   ]
  },
  {
   "cell_type": "code",
   "execution_count": null,
   "id": "21b0628e",
   "metadata": {
    "hidden": true
   },
   "outputs": [],
   "source": [
    "biosignature_df"
   ]
  },
  {
   "cell_type": "markdown",
   "id": "88ce5619",
   "metadata": {
    "heading_collapsed": true,
    "hidden": true
   },
   "source": [
    "### For `environment_df`"
   ]
  },
  {
   "cell_type": "code",
   "execution_count": null,
   "id": "61ee5230",
   "metadata": {
    "hidden": true
   },
   "outputs": [],
   "source": [
    "column_names = ['environment_id', 'extreme_conditions', 'location_name', 'latitude', 'longitude', 'et_counterpart']"
   ]
  },
  {
   "cell_type": "code",
   "execution_count": null,
   "id": "e6250d99",
   "metadata": {
    "hidden": true
   },
   "outputs": [],
   "source": [
    "# fills in all dataframes with my research as example\n",
    "environment_id = [1]\n",
    "extreme_conditions = ['fossilized hot spring sinter']\n",
    "location_name = ['El Tatio, Chile']\n",
    "latitude = [-20.333333]\n",
    "longitude = [-68.016667]\n",
    "et_counterpart = ['Columbia Hills, Mars']\n",
    "\n",
    "new_line = [2, 'fossilized hot spring sinter', 'Taupo Volcanic Zone, New Zealand', -38.4, 176.216667, 'Columbia Hills, Mars']\n",
    "\n",
    "columns = [environment_id, extreme_conditions, location_name, latitude, longitude, et_counterpart]"
   ]
  },
  {
   "cell_type": "code",
   "execution_count": null,
   "id": "aebb64a7",
   "metadata": {
    "hidden": true
   },
   "outputs": [],
   "source": [
    "environment_df.loc[len(environment_df)] = new_line\n",
    "environment_df"
   ]
  },
  {
   "cell_type": "markdown",
   "id": "ff6e4af6",
   "metadata": {
    "heading_collapsed": true,
    "hidden": true
   },
   "source": [
    "### Export dataframes to csv"
   ]
  },
  {
   "cell_type": "code",
   "execution_count": null,
   "id": "58cefe69",
   "metadata": {
    "hidden": true
   },
   "outputs": [],
   "source": [
    "research_df.to_csv('../raw_data/research.csv')\n",
    "researcher_df.to_csv('../raw_data/researcher.csv')\n",
    "biosignature_df.to_csv('../raw_data/biosignature.csv')\n",
    "environment_df.to_csv('../raw_data/environment.csv')"
   ]
  },
  {
   "cell_type": "markdown",
   "id": "f4c2049c",
   "metadata": {},
   "source": [
    "## Export dataframes to JSON"
   ]
  },
  {
   "cell_type": "code",
   "execution_count": 2,
   "id": "ead50c33",
   "metadata": {},
   "outputs": [],
   "source": [
    "#publication_df = pd.read_csv('../raw_data/publication.csv')\n",
    "#author_df = pd.read_csv('../raw_data/author.csv')\n",
    "#environment_df = pd.read_csv('../raw_data/environment.csv')\n",
    "biosignature_df = pd.read_csv('../raw_data/biosignature.csv')"
   ]
  },
  {
   "cell_type": "code",
   "execution_count": 3,
   "id": "0576363b",
   "metadata": {},
   "outputs": [],
   "source": [
    "#publication_df.to_json('../biosignature_db/data/publication.json')\n",
    "#author_df.to_json('../biosignature_db/data/author.json')\n",
    "biosignature_df.to_json('../biosignature_db/data/biosignature.json')\n",
    "#environment_df.to_json('../biosignature_db/data/environment.json')"
   ]
  },
  {
   "cell_type": "code",
   "execution_count": 6,
   "id": "ae1e4b2e",
   "metadata": {},
   "outputs": [
    {
     "data": {
      "text/plain": [
       "{'biosignature_id': {'0': 1, '1': 2, '2': 3, '3': 4},\n",
       " 'category': {'0': 'geological',\n",
       "  '1': 'geological',\n",
       "  '2': 'geological',\n",
       "  '3': 'geological'},\n",
       " 'sub-category': {'0': 'hydrocarbons',\n",
       "  '1': 'hydrocarbons',\n",
       "  '2': 'hydrocarbons',\n",
       "  '3': 'hydrocarbons'},\n",
       " 'name': {'0': 'n-alkanes',\n",
       "  '1': 'methylalkanes',\n",
       "  '2': 'n-alkanes',\n",
       "  '3': 'methylalkanes'},\n",
       " 'indicative_of': {'0': 'plants',\n",
       "  '1': 'cyanobacteria',\n",
       "  '2': 'algae',\n",
       "  '3': 'cyanobacteria'},\n",
       " 'detection_methods': {'0': 'gc-ms', '1': 'gc-ms', '2': 'gc-ms', '3': 'gc-ms'},\n",
       " 'sample_type': {'0': 'geological',\n",
       "  '1': 'geological',\n",
       "  '2': 'geological',\n",
       "  '3': 'geological'},\n",
       " 'sample_subtype': {'0': 'sedimentary',\n",
       "  '1': 'sedimentary',\n",
       "  '2': 'sedimentary',\n",
       "  '3': 'sedimentary'},\n",
       " 'number of samples': {'0': 3, '1': 3, '2': 4, '3': 4},\n",
       " 'min_age': {'0': 0, '1': 0, '2': 0, '3': 0},\n",
       " 'max_age': {'0': 9400, '1': 9400, '2': 9400, '3': 9400},\n",
       " 'pub_url': {'0': 'https://www.liebertpub.com/doi/full/10.1089/ast.2018.2018',\n",
       "  '1': 'https://www.liebertpub.com/doi/full/10.1089/ast.2018.2019',\n",
       "  '2': 'https://www.liebertpub.com/doi/full/10.1089/ast.2018.2020',\n",
       "  '3': 'https://www.liebertpub.com/doi/full/10.1089/ast.2018.2021'},\n",
       " 'env_conditions': {'0': 'fossilized hot springs',\n",
       "  '1': 'fossilized hot springs',\n",
       "  '2': 'fossilized hot springs',\n",
       "  '3': 'fossilized hot springs'},\n",
       " 'location_name': {'0': 'El Tatio, Chile',\n",
       "  '1': 'El Tatio, Chile',\n",
       "  '2': 'Taupo Volcanic Zone, New Zealand',\n",
       "  '3': 'Taupo Volcanic Zone, New Zealand'},\n",
       " 'latitude': {'0': -20.333333, '1': -20.333333, '2': -38.4, '3': -38.4},\n",
       " 'longitude': {'0': -68.016667,\n",
       "  '1': -68.016667,\n",
       "  '2': 176.216667,\n",
       "  '3': 176.216667},\n",
       " 'et_counterpart': {'0': 'Columbia Hills, Mars',\n",
       "  '1': 'Columbia Hills, Mars',\n",
       "  '2': 'Columbia Hills, Mars',\n",
       "  '3': 'Columbia Hills, Mars'}}"
      ]
     },
     "execution_count": 6,
     "metadata": {},
     "output_type": "execute_result"
    }
   ],
   "source": [
    "biosignature_json = data.read_json_data('../biosignature_db/data/biosignature.json')\n",
    "biosignature_json"
   ]
  },
  {
   "cell_type": "code",
   "execution_count": 7,
   "id": "c7ffa658",
   "metadata": {},
   "outputs": [
    {
     "data": {
      "text/html": [
       "<div>\n",
       "<style scoped>\n",
       "    .dataframe tbody tr th:only-of-type {\n",
       "        vertical-align: middle;\n",
       "    }\n",
       "\n",
       "    .dataframe tbody tr th {\n",
       "        vertical-align: top;\n",
       "    }\n",
       "\n",
       "    .dataframe thead th {\n",
       "        text-align: right;\n",
       "    }\n",
       "</style>\n",
       "<table border=\"1\" class=\"dataframe\">\n",
       "  <thead>\n",
       "    <tr style=\"text-align: right;\">\n",
       "      <th></th>\n",
       "      <th>biosignature_id</th>\n",
       "      <th>category</th>\n",
       "      <th>sub-category</th>\n",
       "      <th>name</th>\n",
       "      <th>indicative_of</th>\n",
       "      <th>detection_methods</th>\n",
       "      <th>sample_type</th>\n",
       "      <th>sample_subtype</th>\n",
       "      <th>number of samples</th>\n",
       "      <th>min_age</th>\n",
       "      <th>max_age</th>\n",
       "      <th>pub_url</th>\n",
       "      <th>env_conditions</th>\n",
       "      <th>location_name</th>\n",
       "      <th>latitude</th>\n",
       "      <th>longitude</th>\n",
       "      <th>et_counterpart</th>\n",
       "    </tr>\n",
       "  </thead>\n",
       "  <tbody>\n",
       "    <tr>\n",
       "      <th>0</th>\n",
       "      <td>1</td>\n",
       "      <td>geological</td>\n",
       "      <td>hydrocarbons</td>\n",
       "      <td>n-alkanes</td>\n",
       "      <td>plants</td>\n",
       "      <td>gc-ms</td>\n",
       "      <td>geological</td>\n",
       "      <td>sedimentary</td>\n",
       "      <td>3</td>\n",
       "      <td>0</td>\n",
       "      <td>9400</td>\n",
       "      <td>https://www.liebertpub.com/doi/full/10.1089/as...</td>\n",
       "      <td>fossilized hot springs</td>\n",
       "      <td>El Tatio, Chile</td>\n",
       "      <td>-20.333333</td>\n",
       "      <td>-68.016667</td>\n",
       "      <td>Columbia Hills, Mars</td>\n",
       "    </tr>\n",
       "    <tr>\n",
       "      <th>1</th>\n",
       "      <td>2</td>\n",
       "      <td>geological</td>\n",
       "      <td>hydrocarbons</td>\n",
       "      <td>methylalkanes</td>\n",
       "      <td>cyanobacteria</td>\n",
       "      <td>gc-ms</td>\n",
       "      <td>geological</td>\n",
       "      <td>sedimentary</td>\n",
       "      <td>3</td>\n",
       "      <td>0</td>\n",
       "      <td>9400</td>\n",
       "      <td>https://www.liebertpub.com/doi/full/10.1089/as...</td>\n",
       "      <td>fossilized hot springs</td>\n",
       "      <td>El Tatio, Chile</td>\n",
       "      <td>-20.333333</td>\n",
       "      <td>-68.016667</td>\n",
       "      <td>Columbia Hills, Mars</td>\n",
       "    </tr>\n",
       "    <tr>\n",
       "      <th>2</th>\n",
       "      <td>3</td>\n",
       "      <td>geological</td>\n",
       "      <td>hydrocarbons</td>\n",
       "      <td>n-alkanes</td>\n",
       "      <td>algae</td>\n",
       "      <td>gc-ms</td>\n",
       "      <td>geological</td>\n",
       "      <td>sedimentary</td>\n",
       "      <td>4</td>\n",
       "      <td>0</td>\n",
       "      <td>9400</td>\n",
       "      <td>https://www.liebertpub.com/doi/full/10.1089/as...</td>\n",
       "      <td>fossilized hot springs</td>\n",
       "      <td>Taupo Volcanic Zone, New Zealand</td>\n",
       "      <td>-38.400000</td>\n",
       "      <td>176.216667</td>\n",
       "      <td>Columbia Hills, Mars</td>\n",
       "    </tr>\n",
       "    <tr>\n",
       "      <th>3</th>\n",
       "      <td>4</td>\n",
       "      <td>geological</td>\n",
       "      <td>hydrocarbons</td>\n",
       "      <td>methylalkanes</td>\n",
       "      <td>cyanobacteria</td>\n",
       "      <td>gc-ms</td>\n",
       "      <td>geological</td>\n",
       "      <td>sedimentary</td>\n",
       "      <td>4</td>\n",
       "      <td>0</td>\n",
       "      <td>9400</td>\n",
       "      <td>https://www.liebertpub.com/doi/full/10.1089/as...</td>\n",
       "      <td>fossilized hot springs</td>\n",
       "      <td>Taupo Volcanic Zone, New Zealand</td>\n",
       "      <td>-38.400000</td>\n",
       "      <td>176.216667</td>\n",
       "      <td>Columbia Hills, Mars</td>\n",
       "    </tr>\n",
       "  </tbody>\n",
       "</table>\n",
       "</div>"
      ],
      "text/plain": [
       "   biosignature_id    category  sub-category           name  indicative_of  \\\n",
       "0                1  geological  hydrocarbons      n-alkanes         plants   \n",
       "1                2  geological  hydrocarbons  methylalkanes  cyanobacteria   \n",
       "2                3  geological  hydrocarbons      n-alkanes          algae   \n",
       "3                4  geological  hydrocarbons  methylalkanes  cyanobacteria   \n",
       "\n",
       "  detection_methods sample_type sample_subtype  number of samples  min_age  \\\n",
       "0             gc-ms  geological    sedimentary                  3        0   \n",
       "1             gc-ms  geological    sedimentary                  3        0   \n",
       "2             gc-ms  geological    sedimentary                  4        0   \n",
       "3             gc-ms  geological    sedimentary                  4        0   \n",
       "\n",
       "   max_age                                            pub_url  \\\n",
       "0     9400  https://www.liebertpub.com/doi/full/10.1089/as...   \n",
       "1     9400  https://www.liebertpub.com/doi/full/10.1089/as...   \n",
       "2     9400  https://www.liebertpub.com/doi/full/10.1089/as...   \n",
       "3     9400  https://www.liebertpub.com/doi/full/10.1089/as...   \n",
       "\n",
       "           env_conditions                     location_name   latitude  \\\n",
       "0  fossilized hot springs                   El Tatio, Chile -20.333333   \n",
       "1  fossilized hot springs                   El Tatio, Chile -20.333333   \n",
       "2  fossilized hot springs  Taupo Volcanic Zone, New Zealand -38.400000   \n",
       "3  fossilized hot springs  Taupo Volcanic Zone, New Zealand -38.400000   \n",
       "\n",
       "    longitude        et_counterpart  \n",
       "0  -68.016667  Columbia Hills, Mars  \n",
       "1  -68.016667  Columbia Hills, Mars  \n",
       "2  176.216667  Columbia Hills, Mars  \n",
       "3  176.216667  Columbia Hills, Mars  "
      ]
     },
     "execution_count": 7,
     "metadata": {},
     "output_type": "execute_result"
    }
   ],
   "source": [
    "bio_df = pd.DataFrame(biosignature_json)\n",
    "bio_df"
   ]
  },
  {
   "cell_type": "markdown",
   "id": "453343cc",
   "metadata": {},
   "source": [
    "## Plot coordinates on 3D globe"
   ]
  },
  {
   "cell_type": "code",
   "execution_count": null,
   "id": "4d48789a",
   "metadata": {
    "scrolled": false
   },
   "outputs": [],
   "source": [
    "plots.plot_interactive_map(bio_df, projection = 'natural earth')"
   ]
  },
  {
   "cell_type": "code",
   "execution_count": 8,
   "id": "28badcaa",
   "metadata": {},
   "outputs": [],
   "source": [
    "colorscale =[[0.0, 'rgb(30, 59, 117)'],\n",
    "\n",
    "                 [0.1, 'rgb(46, 68, 21)'],\n",
    "                 [0.2, 'rgb(74, 96, 28)'],\n",
    "                 [0.3, 'rgb(115,141,90)'],\n",
    "                 [0.4, 'rgb(122, 126, 75)'],\n",
    "\n",
    "                 [0.6, 'rgb(122, 126, 75)'],\n",
    "                 [0.7, 'rgb(141,115,96)'],\n",
    "                 [0.8, 'rgb(223, 197, 170)'],\n",
    "                 [0.9, 'rgb(237,214,183)'],\n",
    "\n",
    "                 [1.0, 'rgb(255, 255, 255)']]"
   ]
  },
  {
   "cell_type": "code",
   "execution_count": null,
   "id": "89866a95",
   "metadata": {},
   "outputs": [],
   "source": [
    "from PIL import Image\n",
    "\n",
    "def sphere(size, texture): \n",
    "    N_lat = int(texture.shape[0])\n",
    "    N_lon = int(texture.shape[1])\n",
    "    theta = np.linspace(0,2*np.pi,N_lat)\n",
    "    phi = np.linspace(0,np.pi,N_lon)\n",
    "    \n",
    "    # Set up coordinates for points on the sphere\n",
    "    x0 = size * np.outer(np.cos(theta),np.sin(phi))\n",
    "    y0 = size * np.outer(np.sin(theta),np.sin(phi))\n",
    "    z0 = size * np.outer(np.ones(N_lat),np.cos(phi))\n",
    "    \n",
    "    # Set up trace\n",
    "    return x0,y0,z0\n",
    "\n",
    "texture = np.asarray(Image.open('earth.jpg'.format(planet_name))).T\n",
    "\n",
    "x,y,z = sphere(radius,texture)\n",
    "surf = go.Surface(x=x, y=y, z=z,\n",
    "                  surfacecolor=texture,\n",
    "                  colorscale=colorscale)    \n",
    "\n",
    "layout = go.Layout(scene=dict(aspectratio=dict(x=1, y=1, z=1)))\n",
    "\n",
    "fig = go.Figure(data=[surf], layout=layout)\n",
    "\n",
    "fig.show()"
   ]
  }
 ],
 "metadata": {
  "kernelspec": {
   "display_name": "Python 3 (ipykernel)",
   "language": "python",
   "name": "python3"
  },
  "language_info": {
   "codemirror_mode": {
    "name": "ipython",
    "version": 3
   },
   "file_extension": ".py",
   "mimetype": "text/x-python",
   "name": "python",
   "nbconvert_exporter": "python",
   "pygments_lexer": "ipython3",
   "version": "3.8.12"
  },
  "toc": {
   "base_numbering": 1,
   "nav_menu": {},
   "number_sections": true,
   "sideBar": true,
   "skip_h1_title": false,
   "title_cell": "Table of Contents",
   "title_sidebar": "Contents",
   "toc_cell": false,
   "toc_position": {},
   "toc_section_display": true,
   "toc_window_display": false
  }
 },
 "nbformat": 4,
 "nbformat_minor": 5
}
