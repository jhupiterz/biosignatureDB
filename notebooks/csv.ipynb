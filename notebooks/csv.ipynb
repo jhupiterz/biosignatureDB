{
 "cells": [
  {
   "cell_type": "markdown",
   "id": "6806e4cb",
   "metadata": {},
   "source": [
    "# Notebook to create csv files for TDB"
   ]
  },
  {
   "cell_type": "markdown",
   "id": "6714b0cd",
   "metadata": {},
   "source": [
    "Creates four csv files following the schema below:\n",
    "\n",
    "\n",
    "![db schema](db.png \"Title\")"
   ]
  },
  {
   "cell_type": "markdown",
   "id": "30705c1f",
   "metadata": {},
   "source": [
    "## Imports"
   ]
  },
  {
   "cell_type": "code",
   "execution_count": 1,
   "id": "c0c18f6a",
   "metadata": {},
   "outputs": [],
   "source": [
    "import pandas as pd\n",
    "import numpy as np\n",
    "\n",
    "from biosignature_db import plots\n",
    "from biosignature_db import data\n",
    "\n",
    "import plotly.express as px\n",
    "\n",
    "%load_ext autoreload\n",
    "%autoreload 2"
   ]
  },
  {
   "cell_type": "markdown",
   "id": "db77a688",
   "metadata": {
    "heading_collapsed": true
   },
   "source": [
    "## Create csv files"
   ]
  },
  {
   "cell_type": "code",
   "execution_count": null,
   "id": "c84949b6",
   "metadata": {
    "hidden": true
   },
   "outputs": [],
   "source": [
    "# creates four empty dataframes\n",
    "biosignature_df = pd.DataFrame()\n",
    "research_df = pd.DataFrame()\n",
    "researcher_df = pd.DataFrame()\n",
    "environment_df = pd.DataFrame()"
   ]
  },
  {
   "cell_type": "markdown",
   "id": "18e16a2b",
   "metadata": {
    "heading_collapsed": true,
    "hidden": true
   },
   "source": [
    "### For `research_df`"
   ]
  },
  {
   "cell_type": "code",
   "execution_count": null,
   "id": "19d2308a",
   "metadata": {
    "hidden": true
   },
   "outputs": [],
   "source": [
    "column_names = ['research_id', 'researcher_id', 'methods', 'environment_id',\n",
    "                'biosignature_id', 'category_of_material', 'subcat_of_material',\n",
    "                'number_of_samples', 'min_age_of_samples', 'max_age_of_samples', 'url']"
   ]
  },
  {
   "cell_type": "code",
   "execution_count": null,
   "id": "39c1ae74",
   "metadata": {
    "hidden": true
   },
   "outputs": [],
   "source": [
    "# fills in all dataframes with my research as example\n",
    "research_id = [1]\n",
    "researcher_id = [1]\n",
    "methods = ['GC-MS']\n",
    "environment_id = [[1,2]]\n",
    "biosignature_id = [1]\n",
    "category_of_material = ['geological']\n",
    "subcat_of_material = ['sedimentary']\n",
    "number_of_samples = [7]\n",
    "min_age_of_samples = [0]\n",
    "max_age_of_samples = [9400]\n",
    "url = ['https://www.semanticscholar.org/paper/Biomolecules-from-Fossilized-Hot-Spring-Sinters%3A-on-Teece-George/9135d76c4e366de27c8d6f2cb09b3299e2ae3d3b']\n",
    "columns = [research_id, researcher_id, methods, environment_id, biosignature_id,\n",
    "           category_of_material, subcat_of_material, number_of_samples, min_age_of_samples, max_age_of_samples, url]"
   ]
  },
  {
   "cell_type": "code",
   "execution_count": null,
   "id": "1c9e00e7",
   "metadata": {
    "hidden": true
   },
   "outputs": [],
   "source": [
    "for index, column in enumerate(column_names):\n",
    "    research_df[column] = columns[index]"
   ]
  },
  {
   "cell_type": "code",
   "execution_count": null,
   "id": "fa0beb8e",
   "metadata": {
    "hidden": true
   },
   "outputs": [],
   "source": [
    "research_df"
   ]
  },
  {
   "cell_type": "markdown",
   "id": "42bb9e1b",
   "metadata": {
    "heading_collapsed": true,
    "hidden": true
   },
   "source": [
    "### For `researcher_df`"
   ]
  },
  {
   "cell_type": "code",
   "execution_count": null,
   "id": "ae4ee74d",
   "metadata": {
    "hidden": true
   },
   "outputs": [],
   "source": [
    "column_names = ['researcher_id', 'name', 'affiliation', 'url']"
   ]
  },
  {
   "cell_type": "code",
   "execution_count": null,
   "id": "d5e9f605",
   "metadata": {
    "hidden": true
   },
   "outputs": [],
   "source": [
    "# fills in all dataframes with my research as example\n",
    "researcher_id = [1]\n",
    "name = ['B. L. Teece']\n",
    "affiliation = ['Australian Centre for Astrobiology (ACA) and PANGEA Research Centre,\\\n",
    "                School of Biological, Earth and Environmental Sciences, University of\\\n",
    "                New South Wales Sydney, Sydney, Australia']\n",
    "url = ['https://www.semanticscholar.org/author/B.-Teece/89948855']\n",
    "columns = [researcher_id, name, affiliation, url]"
   ]
  },
  {
   "cell_type": "code",
   "execution_count": null,
   "id": "9400a80d",
   "metadata": {
    "hidden": true
   },
   "outputs": [],
   "source": [
    "for index, column in enumerate(column_names):\n",
    "    researcher_df[column] = columns[index]"
   ]
  },
  {
   "cell_type": "code",
   "execution_count": null,
   "id": "a4de5a6a",
   "metadata": {
    "hidden": true
   },
   "outputs": [],
   "source": [
    "researcher_df"
   ]
  },
  {
   "cell_type": "markdown",
   "id": "e8ef48f1",
   "metadata": {
    "heading_collapsed": true,
    "hidden": true
   },
   "source": [
    "### For `biosignature_df`\n"
   ]
  },
  {
   "cell_type": "code",
   "execution_count": null,
   "id": "c7589dac",
   "metadata": {
    "hidden": true
   },
   "outputs": [],
   "source": [
    "column_names = ['biosignature_id', 'category', 'sub_category', 'biosignatures']"
   ]
  },
  {
   "cell_type": "code",
   "execution_count": null,
   "id": "24310501",
   "metadata": {
    "hidden": true
   },
   "outputs": [],
   "source": [
    "# fills in all dataframes with my research as example\n",
    "biosignature_id = [1]\n",
    "category = ['organics']\n",
    "sub_category = ['hydrocarbons']\n",
    "biosignatures = [['n-alkanes', 'methylalkanes', 'aromatics']]\n",
    "\n",
    "columns = [biosignature_id, category, sub_category, biosignatures]"
   ]
  },
  {
   "cell_type": "code",
   "execution_count": null,
   "id": "07ff90cb",
   "metadata": {
    "hidden": true
   },
   "outputs": [],
   "source": [
    "for index, column in enumerate(column_names):\n",
    "    biosignature_df[column] = columns[index]"
   ]
  },
  {
   "cell_type": "code",
   "execution_count": null,
   "id": "21b0628e",
   "metadata": {
    "hidden": true
   },
   "outputs": [],
   "source": [
    "biosignature_df"
   ]
  },
  {
   "cell_type": "markdown",
   "id": "88ce5619",
   "metadata": {
    "heading_collapsed": true,
    "hidden": true
   },
   "source": [
    "### For `environment_df`"
   ]
  },
  {
   "cell_type": "code",
   "execution_count": null,
   "id": "61ee5230",
   "metadata": {
    "hidden": true
   },
   "outputs": [],
   "source": [
    "column_names = ['environment_id', 'extreme_conditions', 'location_name', 'latitude', 'longitude', 'et_counterpart']"
   ]
  },
  {
   "cell_type": "code",
   "execution_count": null,
   "id": "e6250d99",
   "metadata": {
    "hidden": true
   },
   "outputs": [],
   "source": [
    "# fills in all dataframes with my research as example\n",
    "environment_id = [1]\n",
    "extreme_conditions = ['fossilized hot spring sinter']\n",
    "location_name = ['El Tatio, Chile']\n",
    "latitude = [-20.333333]\n",
    "longitude = [-68.016667]\n",
    "et_counterpart = ['Columbia Hills, Mars']\n",
    "\n",
    "new_line = [2, 'fossilized hot spring sinter', 'Taupo Volcanic Zone, New Zealand', -38.4, 176.216667, 'Columbia Hills, Mars']\n",
    "\n",
    "columns = [environment_id, extreme_conditions, location_name, latitude, longitude, et_counterpart]"
   ]
  },
  {
   "cell_type": "code",
   "execution_count": null,
   "id": "aebb64a7",
   "metadata": {
    "hidden": true
   },
   "outputs": [],
   "source": [
    "environment_df.loc[len(environment_df)] = new_line\n",
    "environment_df"
   ]
  },
  {
   "cell_type": "markdown",
   "id": "ff6e4af6",
   "metadata": {
    "heading_collapsed": true,
    "hidden": true
   },
   "source": [
    "### Export dataframes to csv"
   ]
  },
  {
   "cell_type": "code",
   "execution_count": null,
   "id": "58cefe69",
   "metadata": {
    "hidden": true
   },
   "outputs": [],
   "source": [
    "research_df.to_csv('../raw_data/research.csv')\n",
    "researcher_df.to_csv('../raw_data/researcher.csv')\n",
    "biosignature_df.to_csv('../raw_data/biosignature.csv')\n",
    "environment_df.to_csv('../raw_data/environment.csv')"
   ]
  },
  {
   "cell_type": "markdown",
   "id": "f4c2049c",
   "metadata": {},
   "source": [
    "## Export dataframes to JSON"
   ]
  },
  {
   "cell_type": "code",
   "execution_count": 40,
   "id": "ead50c33",
   "metadata": {},
   "outputs": [],
   "source": [
    "#publication_df = pd.read_csv('../raw_data/publication.csv')\n",
    "#author_df = pd.read_csv('../raw_data/author.csv')\n",
    "#environment_df = pd.read_csv('../raw_data/environment.csv')\n",
    "biosignature_df = pd.read_csv('../raw_data/biosignature.csv')"
   ]
  },
  {
   "cell_type": "code",
   "execution_count": 41,
   "id": "0576363b",
   "metadata": {},
   "outputs": [],
   "source": [
    "#publication_df.to_json('../biosignature_db/data/publication.json')\n",
    "#author_df.to_json('../biosignature_db/data/author.json')\n",
    "biosignature_df.to_json('../biosignature_db/data/biosignature.json')\n",
    "#environment_df.to_json('../biosignature_db/data/environment.json')"
   ]
  },
  {
   "cell_type": "code",
   "execution_count": 42,
   "id": "44af0e84",
   "metadata": {},
   "outputs": [],
   "source": [
    "biosignature_json = data.read_json_data('../biosignature_db/data/biosignature.json')"
   ]
  },
  {
   "cell_type": "code",
   "execution_count": 43,
   "id": "d9e38ae5",
   "metadata": {
    "scrolled": false
   },
   "outputs": [
    {
     "data": {
      "text/plain": [
       "array(['silica-rich hot springs', 'volcanic marine carbonate platform',\n",
       "       'acidic iron-rich river'], dtype=object)"
      ]
     },
     "execution_count": 43,
     "metadata": {},
     "output_type": "execute_result"
    }
   ],
   "source": [
    "bio_df = pd.DataFrame(biosignature_json)\n",
    "bio_df.paleoenvironment.unique()"
   ]
  },
  {
   "cell_type": "code",
   "execution_count": 50,
   "id": "80cc1b69",
   "metadata": {},
   "outputs": [
    {
     "data": {
      "text/html": [
       "<div>\n",
       "<style scoped>\n",
       "    .dataframe tbody tr th:only-of-type {\n",
       "        vertical-align: middle;\n",
       "    }\n",
       "\n",
       "    .dataframe tbody tr th {\n",
       "        vertical-align: top;\n",
       "    }\n",
       "\n",
       "    .dataframe thead th {\n",
       "        text-align: right;\n",
       "    }\n",
       "</style>\n",
       "<table border=\"1\" class=\"dataframe\">\n",
       "  <thead>\n",
       "    <tr style=\"text-align: right;\">\n",
       "      <th></th>\n",
       "      <th>biosignature_id</th>\n",
       "      <th>biosignature_cat</th>\n",
       "      <th>biosignature_subcat</th>\n",
       "      <th>name</th>\n",
       "      <th>indicative_of</th>\n",
       "      <th>detection_methods</th>\n",
       "      <th>sample_type</th>\n",
       "      <th>sample_subtype</th>\n",
       "      <th>number of samples</th>\n",
       "      <th>min_age</th>\n",
       "      <th>...</th>\n",
       "      <th>paleoenvironment</th>\n",
       "      <th>location_name</th>\n",
       "      <th>latitude</th>\n",
       "      <th>longitude</th>\n",
       "      <th>mars_counterpart_1</th>\n",
       "      <th>mars_latitude_1</th>\n",
       "      <th>mars_longitude_1</th>\n",
       "      <th>mars_counterpart_2</th>\n",
       "      <th>mars_latitude_2</th>\n",
       "      <th>mars_longitude_2</th>\n",
       "    </tr>\n",
       "  </thead>\n",
       "  <tbody>\n",
       "    <tr>\n",
       "      <th>0</th>\n",
       "      <td>1</td>\n",
       "      <td>organics</td>\n",
       "      <td>biomarker</td>\n",
       "      <td>n-alkanes</td>\n",
       "      <td>plants</td>\n",
       "      <td>gc-ms</td>\n",
       "      <td>geological</td>\n",
       "      <td>sedimentary</td>\n",
       "      <td>3</td>\n",
       "      <td>0</td>\n",
       "      <td>...</td>\n",
       "      <td>silica-rich hot springs</td>\n",
       "      <td>El Tatio, Chile</td>\n",
       "      <td>-20.333333</td>\n",
       "      <td>-68.016667</td>\n",
       "      <td>Columbia Hills, Mars</td>\n",
       "      <td>-15.194167</td>\n",
       "      <td>175.485556</td>\n",
       "      <td>None</td>\n",
       "      <td>NaN</td>\n",
       "      <td>NaN</td>\n",
       "    </tr>\n",
       "    <tr>\n",
       "      <th>1</th>\n",
       "      <td>2</td>\n",
       "      <td>organics</td>\n",
       "      <td>biomarker</td>\n",
       "      <td>methylalkanes</td>\n",
       "      <td>cyanobacteria</td>\n",
       "      <td>gc-ms</td>\n",
       "      <td>geological</td>\n",
       "      <td>sedimentary</td>\n",
       "      <td>3</td>\n",
       "      <td>0</td>\n",
       "      <td>...</td>\n",
       "      <td>silica-rich hot springs</td>\n",
       "      <td>El Tatio, Chile</td>\n",
       "      <td>-20.333333</td>\n",
       "      <td>-68.016667</td>\n",
       "      <td>Columbia Hills, Mars</td>\n",
       "      <td>-15.194167</td>\n",
       "      <td>175.485556</td>\n",
       "      <td>None</td>\n",
       "      <td>NaN</td>\n",
       "      <td>NaN</td>\n",
       "    </tr>\n",
       "    <tr>\n",
       "      <th>2</th>\n",
       "      <td>3</td>\n",
       "      <td>organics</td>\n",
       "      <td>biomarker</td>\n",
       "      <td>n-alkanes</td>\n",
       "      <td>bacteria</td>\n",
       "      <td>gc-ms</td>\n",
       "      <td>geological</td>\n",
       "      <td>sedimentary</td>\n",
       "      <td>4</td>\n",
       "      <td>0</td>\n",
       "      <td>...</td>\n",
       "      <td>silica-rich hot springs</td>\n",
       "      <td>Taupo Volcanic Zone, New Zealand</td>\n",
       "      <td>-38.400000</td>\n",
       "      <td>176.216667</td>\n",
       "      <td>Columbia Hills, Mars</td>\n",
       "      <td>-15.194167</td>\n",
       "      <td>175.485556</td>\n",
       "      <td>None</td>\n",
       "      <td>NaN</td>\n",
       "      <td>NaN</td>\n",
       "    </tr>\n",
       "    <tr>\n",
       "      <th>3</th>\n",
       "      <td>4</td>\n",
       "      <td>organics</td>\n",
       "      <td>biomarker</td>\n",
       "      <td>methylalkanes</td>\n",
       "      <td>cyanobacteria</td>\n",
       "      <td>gc-ms</td>\n",
       "      <td>geological</td>\n",
       "      <td>sedimentary</td>\n",
       "      <td>4</td>\n",
       "      <td>0</td>\n",
       "      <td>...</td>\n",
       "      <td>silica-rich hot springs</td>\n",
       "      <td>Taupo Volcanic Zone, New Zealand</td>\n",
       "      <td>-38.400000</td>\n",
       "      <td>176.216667</td>\n",
       "      <td>Columbia Hills, Mars</td>\n",
       "      <td>-15.194167</td>\n",
       "      <td>175.485556</td>\n",
       "      <td>None</td>\n",
       "      <td>NaN</td>\n",
       "      <td>NaN</td>\n",
       "    </tr>\n",
       "    <tr>\n",
       "      <th>4</th>\n",
       "      <td>5</td>\n",
       "      <td>textures</td>\n",
       "      <td>micro-texture</td>\n",
       "      <td>plant remnant</td>\n",
       "      <td>plants</td>\n",
       "      <td>microscopy</td>\n",
       "      <td>geological</td>\n",
       "      <td>sedimentary</td>\n",
       "      <td>1</td>\n",
       "      <td>20700</td>\n",
       "      <td>...</td>\n",
       "      <td>silica-rich hot springs</td>\n",
       "      <td>Taupo Volcanic Zone, New Zealand</td>\n",
       "      <td>-38.400000</td>\n",
       "      <td>176.216667</td>\n",
       "      <td>Columbia Hills, Mars</td>\n",
       "      <td>-15.194167</td>\n",
       "      <td>175.485556</td>\n",
       "      <td>None</td>\n",
       "      <td>NaN</td>\n",
       "      <td>NaN</td>\n",
       "    </tr>\n",
       "    <tr>\n",
       "      <th>5</th>\n",
       "      <td>6</td>\n",
       "      <td>organics</td>\n",
       "      <td>biomarker</td>\n",
       "      <td>n-alkanes</td>\n",
       "      <td>plants</td>\n",
       "      <td>gc-ms</td>\n",
       "      <td>geological</td>\n",
       "      <td>sedimentary</td>\n",
       "      <td>1</td>\n",
       "      <td>20700</td>\n",
       "      <td>...</td>\n",
       "      <td>silica-rich hot springs</td>\n",
       "      <td>Taupo Volcanic Zone, New Zealand</td>\n",
       "      <td>-38.400000</td>\n",
       "      <td>176.216667</td>\n",
       "      <td>Columbia Hills, Mars</td>\n",
       "      <td>-15.194167</td>\n",
       "      <td>175.485556</td>\n",
       "      <td>None</td>\n",
       "      <td>NaN</td>\n",
       "      <td>NaN</td>\n",
       "    </tr>\n",
       "    <tr>\n",
       "      <th>6</th>\n",
       "      <td>7</td>\n",
       "      <td>organics</td>\n",
       "      <td>biomarker</td>\n",
       "      <td>methylalkanes</td>\n",
       "      <td>cyanobacteria</td>\n",
       "      <td>gc-ms</td>\n",
       "      <td>geological</td>\n",
       "      <td>sedimentary</td>\n",
       "      <td>1</td>\n",
       "      <td>20700</td>\n",
       "      <td>...</td>\n",
       "      <td>silica-rich hot springs</td>\n",
       "      <td>Taupo Volcanic Zone, New Zealand</td>\n",
       "      <td>-38.400000</td>\n",
       "      <td>176.216667</td>\n",
       "      <td>Columbia Hills, Mars</td>\n",
       "      <td>-15.194167</td>\n",
       "      <td>175.485556</td>\n",
       "      <td>None</td>\n",
       "      <td>NaN</td>\n",
       "      <td>NaN</td>\n",
       "    </tr>\n",
       "    <tr>\n",
       "      <th>7</th>\n",
       "      <td>8</td>\n",
       "      <td>organics</td>\n",
       "      <td>biomarker</td>\n",
       "      <td>terpanes</td>\n",
       "      <td>bacteria</td>\n",
       "      <td>gc-ms</td>\n",
       "      <td>geological</td>\n",
       "      <td>sedimentary</td>\n",
       "      <td>1</td>\n",
       "      <td>20700</td>\n",
       "      <td>...</td>\n",
       "      <td>silica-rich hot springs</td>\n",
       "      <td>Taupo Volcanic Zone, New Zealand</td>\n",
       "      <td>-38.400000</td>\n",
       "      <td>176.216667</td>\n",
       "      <td>Columbia Hills, Mars</td>\n",
       "      <td>-15.194167</td>\n",
       "      <td>175.485556</td>\n",
       "      <td>None</td>\n",
       "      <td>NaN</td>\n",
       "      <td>NaN</td>\n",
       "    </tr>\n",
       "    <tr>\n",
       "      <th>8</th>\n",
       "      <td>9</td>\n",
       "      <td>organics</td>\n",
       "      <td>biomarker</td>\n",
       "      <td>steranes</td>\n",
       "      <td>bacteria</td>\n",
       "      <td>gc-ms</td>\n",
       "      <td>geological</td>\n",
       "      <td>sedimentary</td>\n",
       "      <td>1</td>\n",
       "      <td>20700</td>\n",
       "      <td>...</td>\n",
       "      <td>silica-rich hot springs</td>\n",
       "      <td>Taupo Volcanic Zone, New Zealand</td>\n",
       "      <td>-38.400000</td>\n",
       "      <td>176.216667</td>\n",
       "      <td>Columbia Hills, Mars</td>\n",
       "      <td>-15.194167</td>\n",
       "      <td>175.485556</td>\n",
       "      <td>None</td>\n",
       "      <td>NaN</td>\n",
       "      <td>NaN</td>\n",
       "    </tr>\n",
       "    <tr>\n",
       "      <th>9</th>\n",
       "      <td>10</td>\n",
       "      <td>textures</td>\n",
       "      <td>micro-texture</td>\n",
       "      <td>plant remnant</td>\n",
       "      <td>plants</td>\n",
       "      <td>microscopy</td>\n",
       "      <td>geological</td>\n",
       "      <td>sedimentary</td>\n",
       "      <td>1</td>\n",
       "      <td>18000000</td>\n",
       "      <td>...</td>\n",
       "      <td>silica-rich hot springs</td>\n",
       "      <td>Coromandel Volcanic Zone, New Zealand</td>\n",
       "      <td>-36.932800</td>\n",
       "      <td>175.716500</td>\n",
       "      <td>Columbia Hills, Mars</td>\n",
       "      <td>-15.194167</td>\n",
       "      <td>175.485556</td>\n",
       "      <td>None</td>\n",
       "      <td>NaN</td>\n",
       "      <td>NaN</td>\n",
       "    </tr>\n",
       "    <tr>\n",
       "      <th>10</th>\n",
       "      <td>11</td>\n",
       "      <td>organics</td>\n",
       "      <td>biomarker</td>\n",
       "      <td>n-alkanes</td>\n",
       "      <td>plants</td>\n",
       "      <td>gc-ms</td>\n",
       "      <td>geological</td>\n",
       "      <td>sedimentary</td>\n",
       "      <td>1</td>\n",
       "      <td>18000000</td>\n",
       "      <td>...</td>\n",
       "      <td>silica-rich hot springs</td>\n",
       "      <td>Coromandel Volcanic Zone, New Zealand</td>\n",
       "      <td>-36.932800</td>\n",
       "      <td>175.716500</td>\n",
       "      <td>Columbia Hills, Mars</td>\n",
       "      <td>-15.194167</td>\n",
       "      <td>175.485556</td>\n",
       "      <td>None</td>\n",
       "      <td>NaN</td>\n",
       "      <td>NaN</td>\n",
       "    </tr>\n",
       "    <tr>\n",
       "      <th>11</th>\n",
       "      <td>12</td>\n",
       "      <td>organics</td>\n",
       "      <td>biomarker</td>\n",
       "      <td>methylalkanes</td>\n",
       "      <td>cyanobacteria</td>\n",
       "      <td>gc-ms</td>\n",
       "      <td>geological</td>\n",
       "      <td>sedimentary</td>\n",
       "      <td>1</td>\n",
       "      <td>18000000</td>\n",
       "      <td>...</td>\n",
       "      <td>silica-rich hot springs</td>\n",
       "      <td>Coromandel Volcanic Zone, New Zealand</td>\n",
       "      <td>-36.932800</td>\n",
       "      <td>175.716500</td>\n",
       "      <td>Columbia Hills, Mars</td>\n",
       "      <td>-15.194167</td>\n",
       "      <td>175.485556</td>\n",
       "      <td>None</td>\n",
       "      <td>NaN</td>\n",
       "      <td>NaN</td>\n",
       "    </tr>\n",
       "    <tr>\n",
       "      <th>12</th>\n",
       "      <td>13</td>\n",
       "      <td>organics</td>\n",
       "      <td>biomarker</td>\n",
       "      <td>terpanes</td>\n",
       "      <td>bacteria</td>\n",
       "      <td>gc-ms</td>\n",
       "      <td>geological</td>\n",
       "      <td>sedimentary</td>\n",
       "      <td>1</td>\n",
       "      <td>18000000</td>\n",
       "      <td>...</td>\n",
       "      <td>silica-rich hot springs</td>\n",
       "      <td>Coromandel Volcanic Zone, New Zealand</td>\n",
       "      <td>-36.932800</td>\n",
       "      <td>175.716500</td>\n",
       "      <td>Columbia Hills, Mars</td>\n",
       "      <td>-15.194167</td>\n",
       "      <td>175.485556</td>\n",
       "      <td>None</td>\n",
       "      <td>NaN</td>\n",
       "      <td>NaN</td>\n",
       "    </tr>\n",
       "    <tr>\n",
       "      <th>13</th>\n",
       "      <td>14</td>\n",
       "      <td>organics</td>\n",
       "      <td>biomarker</td>\n",
       "      <td>steranes</td>\n",
       "      <td>bacteria</td>\n",
       "      <td>gc-ms</td>\n",
       "      <td>geological</td>\n",
       "      <td>sedimentary</td>\n",
       "      <td>1</td>\n",
       "      <td>18000000</td>\n",
       "      <td>...</td>\n",
       "      <td>silica-rich hot springs</td>\n",
       "      <td>Coromandel Volcanic Zone, New Zealand</td>\n",
       "      <td>-36.932800</td>\n",
       "      <td>175.716500</td>\n",
       "      <td>Columbia Hills, Mars</td>\n",
       "      <td>-15.194167</td>\n",
       "      <td>175.485556</td>\n",
       "      <td>None</td>\n",
       "      <td>NaN</td>\n",
       "      <td>NaN</td>\n",
       "    </tr>\n",
       "    <tr>\n",
       "      <th>14</th>\n",
       "      <td>15</td>\n",
       "      <td>textures</td>\n",
       "      <td>micro-texture</td>\n",
       "      <td>microbial</td>\n",
       "      <td>bacteria</td>\n",
       "      <td>microscopy</td>\n",
       "      <td>geological</td>\n",
       "      <td>sedimentary</td>\n",
       "      <td>1</td>\n",
       "      <td>18000000</td>\n",
       "      <td>...</td>\n",
       "      <td>silica-rich hot springs</td>\n",
       "      <td>Coromandel Volcanic Zone, New Zealand</td>\n",
       "      <td>-36.932800</td>\n",
       "      <td>175.716500</td>\n",
       "      <td>Columbia Hills, Mars</td>\n",
       "      <td>-15.194167</td>\n",
       "      <td>175.485556</td>\n",
       "      <td>None</td>\n",
       "      <td>NaN</td>\n",
       "      <td>NaN</td>\n",
       "    </tr>\n",
       "    <tr>\n",
       "      <th>15</th>\n",
       "      <td>16</td>\n",
       "      <td>organics</td>\n",
       "      <td>biomarker</td>\n",
       "      <td>n-alkanes</td>\n",
       "      <td>not specified</td>\n",
       "      <td>gc-ms</td>\n",
       "      <td>geological</td>\n",
       "      <td>sedimentary</td>\n",
       "      <td>1</td>\n",
       "      <td>18000000</td>\n",
       "      <td>...</td>\n",
       "      <td>silica-rich hot springs</td>\n",
       "      <td>Coromandel Volcanic Zone, New Zealand</td>\n",
       "      <td>-36.932800</td>\n",
       "      <td>175.716500</td>\n",
       "      <td>Columbia Hills, Mars</td>\n",
       "      <td>-15.194167</td>\n",
       "      <td>175.485556</td>\n",
       "      <td>None</td>\n",
       "      <td>NaN</td>\n",
       "      <td>NaN</td>\n",
       "    </tr>\n",
       "    <tr>\n",
       "      <th>16</th>\n",
       "      <td>17</td>\n",
       "      <td>organics</td>\n",
       "      <td>biomarker</td>\n",
       "      <td>methylalkanes</td>\n",
       "      <td>cyanobacteria</td>\n",
       "      <td>gc-ms</td>\n",
       "      <td>geological</td>\n",
       "      <td>sedimentary</td>\n",
       "      <td>1</td>\n",
       "      <td>18000000</td>\n",
       "      <td>...</td>\n",
       "      <td>silica-rich hot springs</td>\n",
       "      <td>Coromandel Volcanic Zone, New Zealand</td>\n",
       "      <td>-36.932800</td>\n",
       "      <td>175.716500</td>\n",
       "      <td>Columbia Hills, Mars</td>\n",
       "      <td>-15.194167</td>\n",
       "      <td>175.485556</td>\n",
       "      <td>None</td>\n",
       "      <td>NaN</td>\n",
       "      <td>NaN</td>\n",
       "    </tr>\n",
       "    <tr>\n",
       "      <th>17</th>\n",
       "      <td>18</td>\n",
       "      <td>organics</td>\n",
       "      <td>biomarker</td>\n",
       "      <td>terpanes</td>\n",
       "      <td>bacteria</td>\n",
       "      <td>gc-ms</td>\n",
       "      <td>geological</td>\n",
       "      <td>sedimentary</td>\n",
       "      <td>1</td>\n",
       "      <td>18000000</td>\n",
       "      <td>...</td>\n",
       "      <td>silica-rich hot springs</td>\n",
       "      <td>Coromandel Volcanic Zone, New Zealand</td>\n",
       "      <td>-36.932800</td>\n",
       "      <td>175.716500</td>\n",
       "      <td>Columbia Hills, Mars</td>\n",
       "      <td>-15.194167</td>\n",
       "      <td>175.485556</td>\n",
       "      <td>None</td>\n",
       "      <td>NaN</td>\n",
       "      <td>NaN</td>\n",
       "    </tr>\n",
       "    <tr>\n",
       "      <th>18</th>\n",
       "      <td>19</td>\n",
       "      <td>organics</td>\n",
       "      <td>biomarker</td>\n",
       "      <td>steranes</td>\n",
       "      <td>bacteria</td>\n",
       "      <td>gc-ms</td>\n",
       "      <td>geological</td>\n",
       "      <td>sedimentary</td>\n",
       "      <td>1</td>\n",
       "      <td>18000000</td>\n",
       "      <td>...</td>\n",
       "      <td>silica-rich hot springs</td>\n",
       "      <td>Coromandel Volcanic Zone, New Zealand</td>\n",
       "      <td>-36.932800</td>\n",
       "      <td>175.716500</td>\n",
       "      <td>Columbia Hills, Mars</td>\n",
       "      <td>-15.194167</td>\n",
       "      <td>175.485556</td>\n",
       "      <td>None</td>\n",
       "      <td>NaN</td>\n",
       "      <td>NaN</td>\n",
       "    </tr>\n",
       "    <tr>\n",
       "      <th>19</th>\n",
       "      <td>20</td>\n",
       "      <td>textures</td>\n",
       "      <td>macro-texture</td>\n",
       "      <td>stromatolite</td>\n",
       "      <td>cyanobacteria</td>\n",
       "      <td>naked eye</td>\n",
       "      <td>geological</td>\n",
       "      <td>sedimentary</td>\n",
       "      <td>1</td>\n",
       "      <td>18000000</td>\n",
       "      <td>...</td>\n",
       "      <td>silica-rich hot springs</td>\n",
       "      <td>Coromandel Volcanic Zone, New Zealand</td>\n",
       "      <td>-36.932800</td>\n",
       "      <td>175.716500</td>\n",
       "      <td>Columbia Hills, Mars</td>\n",
       "      <td>-15.194167</td>\n",
       "      <td>175.485556</td>\n",
       "      <td>None</td>\n",
       "      <td>NaN</td>\n",
       "      <td>NaN</td>\n",
       "    </tr>\n",
       "    <tr>\n",
       "      <th>20</th>\n",
       "      <td>21</td>\n",
       "      <td>organics</td>\n",
       "      <td>biomarker</td>\n",
       "      <td>n-alkanes</td>\n",
       "      <td>plants</td>\n",
       "      <td>gc-ms</td>\n",
       "      <td>geological</td>\n",
       "      <td>sedimentary</td>\n",
       "      <td>1</td>\n",
       "      <td>18000000</td>\n",
       "      <td>...</td>\n",
       "      <td>silica-rich hot springs</td>\n",
       "      <td>Coromandel Volcanic Zone, New Zealand</td>\n",
       "      <td>-36.932800</td>\n",
       "      <td>175.716500</td>\n",
       "      <td>Columbia Hills, Mars</td>\n",
       "      <td>-15.194167</td>\n",
       "      <td>175.485556</td>\n",
       "      <td>None</td>\n",
       "      <td>NaN</td>\n",
       "      <td>NaN</td>\n",
       "    </tr>\n",
       "    <tr>\n",
       "      <th>21</th>\n",
       "      <td>22</td>\n",
       "      <td>organics</td>\n",
       "      <td>biomarker</td>\n",
       "      <td>methylalkanes</td>\n",
       "      <td>cyanobacteria</td>\n",
       "      <td>gc-ms</td>\n",
       "      <td>geological</td>\n",
       "      <td>sedimentary</td>\n",
       "      <td>1</td>\n",
       "      <td>18000000</td>\n",
       "      <td>...</td>\n",
       "      <td>silica-rich hot springs</td>\n",
       "      <td>Coromandel Volcanic Zone, New Zealand</td>\n",
       "      <td>-36.932800</td>\n",
       "      <td>175.716500</td>\n",
       "      <td>Columbia Hills, Mars</td>\n",
       "      <td>-15.194167</td>\n",
       "      <td>175.485556</td>\n",
       "      <td>None</td>\n",
       "      <td>NaN</td>\n",
       "      <td>NaN</td>\n",
       "    </tr>\n",
       "    <tr>\n",
       "      <th>22</th>\n",
       "      <td>23</td>\n",
       "      <td>organics</td>\n",
       "      <td>biomarker</td>\n",
       "      <td>terpanes</td>\n",
       "      <td>bacteria</td>\n",
       "      <td>gc-ms</td>\n",
       "      <td>geological</td>\n",
       "      <td>sedimentary</td>\n",
       "      <td>1</td>\n",
       "      <td>18000000</td>\n",
       "      <td>...</td>\n",
       "      <td>silica-rich hot springs</td>\n",
       "      <td>Coromandel Volcanic Zone, New Zealand</td>\n",
       "      <td>-36.932800</td>\n",
       "      <td>175.716500</td>\n",
       "      <td>Columbia Hills, Mars</td>\n",
       "      <td>-15.194167</td>\n",
       "      <td>175.485556</td>\n",
       "      <td>None</td>\n",
       "      <td>NaN</td>\n",
       "      <td>NaN</td>\n",
       "    </tr>\n",
       "    <tr>\n",
       "      <th>23</th>\n",
       "      <td>24</td>\n",
       "      <td>organics</td>\n",
       "      <td>biomarker</td>\n",
       "      <td>steranes</td>\n",
       "      <td>bacteria</td>\n",
       "      <td>gc-ms</td>\n",
       "      <td>geological</td>\n",
       "      <td>sedimentary</td>\n",
       "      <td>1</td>\n",
       "      <td>18000000</td>\n",
       "      <td>...</td>\n",
       "      <td>silica-rich hot springs</td>\n",
       "      <td>Coromandel Volcanic Zone, New Zealand</td>\n",
       "      <td>-36.932800</td>\n",
       "      <td>175.716500</td>\n",
       "      <td>Columbia Hills, Mars</td>\n",
       "      <td>-15.194167</td>\n",
       "      <td>175.485556</td>\n",
       "      <td>None</td>\n",
       "      <td>NaN</td>\n",
       "      <td>NaN</td>\n",
       "    </tr>\n",
       "    <tr>\n",
       "      <th>24</th>\n",
       "      <td>25</td>\n",
       "      <td>textures</td>\n",
       "      <td>micro-texture</td>\n",
       "      <td>silicified microbial filaments</td>\n",
       "      <td>bacteria</td>\n",
       "      <td>microscopy</td>\n",
       "      <td>geological</td>\n",
       "      <td>sedimentary</td>\n",
       "      <td>1</td>\n",
       "      <td>20700</td>\n",
       "      <td>...</td>\n",
       "      <td>silica-rich hot springs</td>\n",
       "      <td>Taupo Volcanic Zone, New Zealand</td>\n",
       "      <td>-38.400000</td>\n",
       "      <td>176.216667</td>\n",
       "      <td>Columbia Hills, Mars</td>\n",
       "      <td>-15.194167</td>\n",
       "      <td>175.485556</td>\n",
       "      <td>None</td>\n",
       "      <td>NaN</td>\n",
       "      <td>NaN</td>\n",
       "    </tr>\n",
       "    <tr>\n",
       "      <th>25</th>\n",
       "      <td>26</td>\n",
       "      <td>organics</td>\n",
       "      <td>biomarker</td>\n",
       "      <td>n-alkanes</td>\n",
       "      <td>not specified</td>\n",
       "      <td>gc-ms</td>\n",
       "      <td>geological</td>\n",
       "      <td>sedimentary</td>\n",
       "      <td>1</td>\n",
       "      <td>20700</td>\n",
       "      <td>...</td>\n",
       "      <td>silica-rich hot springs</td>\n",
       "      <td>Taupo Volcanic Zone, New Zealand</td>\n",
       "      <td>-38.400000</td>\n",
       "      <td>176.216667</td>\n",
       "      <td>Columbia Hills, Mars</td>\n",
       "      <td>-15.194167</td>\n",
       "      <td>175.485556</td>\n",
       "      <td>None</td>\n",
       "      <td>NaN</td>\n",
       "      <td>NaN</td>\n",
       "    </tr>\n",
       "    <tr>\n",
       "      <th>26</th>\n",
       "      <td>27</td>\n",
       "      <td>organics</td>\n",
       "      <td>biomarker</td>\n",
       "      <td>methylalkanes</td>\n",
       "      <td>cyanobacteria</td>\n",
       "      <td>gc-ms</td>\n",
       "      <td>geological</td>\n",
       "      <td>sedimentary</td>\n",
       "      <td>1</td>\n",
       "      <td>20700</td>\n",
       "      <td>...</td>\n",
       "      <td>silica-rich hot springs</td>\n",
       "      <td>Taupo Volcanic Zone, New Zealand</td>\n",
       "      <td>-38.400000</td>\n",
       "      <td>176.216667</td>\n",
       "      <td>Columbia Hills, Mars</td>\n",
       "      <td>-15.194167</td>\n",
       "      <td>175.485556</td>\n",
       "      <td>None</td>\n",
       "      <td>NaN</td>\n",
       "      <td>NaN</td>\n",
       "    </tr>\n",
       "    <tr>\n",
       "      <th>27</th>\n",
       "      <td>28</td>\n",
       "      <td>organics</td>\n",
       "      <td>biomarker</td>\n",
       "      <td>terpanes</td>\n",
       "      <td>bacteria</td>\n",
       "      <td>gc-ms</td>\n",
       "      <td>geological</td>\n",
       "      <td>sedimentary</td>\n",
       "      <td>1</td>\n",
       "      <td>20700</td>\n",
       "      <td>...</td>\n",
       "      <td>silica-rich hot springs</td>\n",
       "      <td>Taupo Volcanic Zone, New Zealand</td>\n",
       "      <td>-38.400000</td>\n",
       "      <td>176.216667</td>\n",
       "      <td>Columbia Hills, Mars</td>\n",
       "      <td>-15.194167</td>\n",
       "      <td>175.485556</td>\n",
       "      <td>None</td>\n",
       "      <td>NaN</td>\n",
       "      <td>NaN</td>\n",
       "    </tr>\n",
       "    <tr>\n",
       "      <th>28</th>\n",
       "      <td>29</td>\n",
       "      <td>organics</td>\n",
       "      <td>biomarker</td>\n",
       "      <td>steranes</td>\n",
       "      <td>bacteria</td>\n",
       "      <td>gc-ms</td>\n",
       "      <td>geological</td>\n",
       "      <td>sedimentary</td>\n",
       "      <td>1</td>\n",
       "      <td>20700</td>\n",
       "      <td>...</td>\n",
       "      <td>silica-rich hot springs</td>\n",
       "      <td>Taupo Volcanic Zone, New Zealand</td>\n",
       "      <td>-38.400000</td>\n",
       "      <td>176.216667</td>\n",
       "      <td>Columbia Hills, Mars</td>\n",
       "      <td>-15.194167</td>\n",
       "      <td>175.485556</td>\n",
       "      <td>None</td>\n",
       "      <td>NaN</td>\n",
       "      <td>NaN</td>\n",
       "    </tr>\n",
       "    <tr>\n",
       "      <th>29</th>\n",
       "      <td>30</td>\n",
       "      <td>organics</td>\n",
       "      <td>biomarker</td>\n",
       "      <td>n-alkanes</td>\n",
       "      <td>bacteria</td>\n",
       "      <td>gc-ms</td>\n",
       "      <td>geological</td>\n",
       "      <td>sedimentary</td>\n",
       "      <td>1</td>\n",
       "      <td>18000000</td>\n",
       "      <td>...</td>\n",
       "      <td>silica-rich hot springs</td>\n",
       "      <td>Coromandel Volcanic Zone, New Zealand</td>\n",
       "      <td>-36.932800</td>\n",
       "      <td>175.716500</td>\n",
       "      <td>Columbia Hills, Mars</td>\n",
       "      <td>-15.194167</td>\n",
       "      <td>175.485556</td>\n",
       "      <td>None</td>\n",
       "      <td>NaN</td>\n",
       "      <td>NaN</td>\n",
       "    </tr>\n",
       "    <tr>\n",
       "      <th>30</th>\n",
       "      <td>31</td>\n",
       "      <td>organics</td>\n",
       "      <td>biomarker</td>\n",
       "      <td>methylalkanes</td>\n",
       "      <td>cyanobacteria</td>\n",
       "      <td>gc-ms</td>\n",
       "      <td>geological</td>\n",
       "      <td>sedimentary</td>\n",
       "      <td>1</td>\n",
       "      <td>18000000</td>\n",
       "      <td>...</td>\n",
       "      <td>silica-rich hot springs</td>\n",
       "      <td>Coromandel Volcanic Zone, New Zealand</td>\n",
       "      <td>-36.932800</td>\n",
       "      <td>175.716500</td>\n",
       "      <td>Columbia Hills, Mars</td>\n",
       "      <td>-15.194167</td>\n",
       "      <td>175.485556</td>\n",
       "      <td>None</td>\n",
       "      <td>NaN</td>\n",
       "      <td>NaN</td>\n",
       "    </tr>\n",
       "    <tr>\n",
       "      <th>31</th>\n",
       "      <td>32</td>\n",
       "      <td>organics</td>\n",
       "      <td>biomarker</td>\n",
       "      <td>terpanes</td>\n",
       "      <td>bacteria</td>\n",
       "      <td>gc-ms</td>\n",
       "      <td>geological</td>\n",
       "      <td>sedimentary</td>\n",
       "      <td>1</td>\n",
       "      <td>18000000</td>\n",
       "      <td>...</td>\n",
       "      <td>silica-rich hot springs</td>\n",
       "      <td>Coromandel Volcanic Zone, New Zealand</td>\n",
       "      <td>-36.932800</td>\n",
       "      <td>175.716500</td>\n",
       "      <td>Columbia Hills, Mars</td>\n",
       "      <td>-15.194167</td>\n",
       "      <td>175.485556</td>\n",
       "      <td>None</td>\n",
       "      <td>NaN</td>\n",
       "      <td>NaN</td>\n",
       "    </tr>\n",
       "    <tr>\n",
       "      <th>32</th>\n",
       "      <td>33</td>\n",
       "      <td>organics</td>\n",
       "      <td>biomarker</td>\n",
       "      <td>steranes</td>\n",
       "      <td>bacteria</td>\n",
       "      <td>gc-ms</td>\n",
       "      <td>geological</td>\n",
       "      <td>sedimentary</td>\n",
       "      <td>1</td>\n",
       "      <td>18000000</td>\n",
       "      <td>...</td>\n",
       "      <td>silica-rich hot springs</td>\n",
       "      <td>Coromandel Volcanic Zone, New Zealand</td>\n",
       "      <td>-36.932800</td>\n",
       "      <td>175.716500</td>\n",
       "      <td>Columbia Hills, Mars</td>\n",
       "      <td>-15.194167</td>\n",
       "      <td>175.485556</td>\n",
       "      <td>None</td>\n",
       "      <td>NaN</td>\n",
       "      <td>NaN</td>\n",
       "    </tr>\n",
       "    <tr>\n",
       "      <th>33</th>\n",
       "      <td>34</td>\n",
       "      <td>textures</td>\n",
       "      <td>micro-texture</td>\n",
       "      <td>silicified microbial filaments</td>\n",
       "      <td>bacteria</td>\n",
       "      <td>microscopy</td>\n",
       "      <td>geological</td>\n",
       "      <td>sedimentary</td>\n",
       "      <td>1</td>\n",
       "      <td>18000000</td>\n",
       "      <td>...</td>\n",
       "      <td>silica-rich hot springs</td>\n",
       "      <td>Coromandel Volcanic Zone, New Zealand</td>\n",
       "      <td>-36.932800</td>\n",
       "      <td>175.716500</td>\n",
       "      <td>Columbia Hills, Mars</td>\n",
       "      <td>-15.194167</td>\n",
       "      <td>175.485556</td>\n",
       "      <td>None</td>\n",
       "      <td>NaN</td>\n",
       "      <td>NaN</td>\n",
       "    </tr>\n",
       "    <tr>\n",
       "      <th>34</th>\n",
       "      <td>35</td>\n",
       "      <td>organics</td>\n",
       "      <td>biomarker</td>\n",
       "      <td>n-alkanes</td>\n",
       "      <td>not specified</td>\n",
       "      <td>gc-ms</td>\n",
       "      <td>geological</td>\n",
       "      <td>sedimentary</td>\n",
       "      <td>1</td>\n",
       "      <td>18000000</td>\n",
       "      <td>...</td>\n",
       "      <td>silica-rich hot springs</td>\n",
       "      <td>Coromandel Volcanic Zone, New Zealand</td>\n",
       "      <td>-36.932800</td>\n",
       "      <td>175.716500</td>\n",
       "      <td>Columbia Hills, Mars</td>\n",
       "      <td>-15.194167</td>\n",
       "      <td>175.485556</td>\n",
       "      <td>None</td>\n",
       "      <td>NaN</td>\n",
       "      <td>NaN</td>\n",
       "    </tr>\n",
       "    <tr>\n",
       "      <th>35</th>\n",
       "      <td>36</td>\n",
       "      <td>organics</td>\n",
       "      <td>biomarker</td>\n",
       "      <td>methylalkanes</td>\n",
       "      <td>cyanobacteria</td>\n",
       "      <td>gc-ms</td>\n",
       "      <td>geological</td>\n",
       "      <td>sedimentary</td>\n",
       "      <td>1</td>\n",
       "      <td>18000000</td>\n",
       "      <td>...</td>\n",
       "      <td>silica-rich hot springs</td>\n",
       "      <td>Coromandel Volcanic Zone, New Zealand</td>\n",
       "      <td>-36.932800</td>\n",
       "      <td>175.716500</td>\n",
       "      <td>Columbia Hills, Mars</td>\n",
       "      <td>-15.194167</td>\n",
       "      <td>175.485556</td>\n",
       "      <td>None</td>\n",
       "      <td>NaN</td>\n",
       "      <td>NaN</td>\n",
       "    </tr>\n",
       "    <tr>\n",
       "      <th>36</th>\n",
       "      <td>37</td>\n",
       "      <td>organics</td>\n",
       "      <td>biomarker</td>\n",
       "      <td>terpanes</td>\n",
       "      <td>bacteria</td>\n",
       "      <td>gc-ms</td>\n",
       "      <td>geological</td>\n",
       "      <td>sedimentary</td>\n",
       "      <td>1</td>\n",
       "      <td>18000000</td>\n",
       "      <td>...</td>\n",
       "      <td>silica-rich hot springs</td>\n",
       "      <td>Coromandel Volcanic Zone, New Zealand</td>\n",
       "      <td>-36.932800</td>\n",
       "      <td>175.716500</td>\n",
       "      <td>Columbia Hills, Mars</td>\n",
       "      <td>-15.194167</td>\n",
       "      <td>175.485556</td>\n",
       "      <td>None</td>\n",
       "      <td>NaN</td>\n",
       "      <td>NaN</td>\n",
       "    </tr>\n",
       "    <tr>\n",
       "      <th>37</th>\n",
       "      <td>38</td>\n",
       "      <td>organics</td>\n",
       "      <td>biomarker</td>\n",
       "      <td>steranes</td>\n",
       "      <td>bacteria</td>\n",
       "      <td>gc-ms</td>\n",
       "      <td>geological</td>\n",
       "      <td>sedimentary</td>\n",
       "      <td>1</td>\n",
       "      <td>18000000</td>\n",
       "      <td>...</td>\n",
       "      <td>silica-rich hot springs</td>\n",
       "      <td>Coromandel Volcanic Zone, New Zealand</td>\n",
       "      <td>-36.932800</td>\n",
       "      <td>175.716500</td>\n",
       "      <td>Columbia Hills, Mars</td>\n",
       "      <td>-15.194167</td>\n",
       "      <td>175.485556</td>\n",
       "      <td>None</td>\n",
       "      <td>NaN</td>\n",
       "      <td>NaN</td>\n",
       "    </tr>\n",
       "    <tr>\n",
       "      <th>38</th>\n",
       "      <td>39</td>\n",
       "      <td>textures</td>\n",
       "      <td>micro-texture</td>\n",
       "      <td>silicified microbial filaments</td>\n",
       "      <td>bacteria</td>\n",
       "      <td>microscopy</td>\n",
       "      <td>geological</td>\n",
       "      <td>sedimentary</td>\n",
       "      <td>1</td>\n",
       "      <td>18000000</td>\n",
       "      <td>...</td>\n",
       "      <td>silica-rich hot springs</td>\n",
       "      <td>Coromandel Volcanic Zone, New Zealand</td>\n",
       "      <td>-36.932800</td>\n",
       "      <td>175.716500</td>\n",
       "      <td>Columbia Hills, Mars</td>\n",
       "      <td>-15.194167</td>\n",
       "      <td>175.485556</td>\n",
       "      <td>None</td>\n",
       "      <td>NaN</td>\n",
       "      <td>NaN</td>\n",
       "    </tr>\n",
       "    <tr>\n",
       "      <th>39</th>\n",
       "      <td>40</td>\n",
       "      <td>organics</td>\n",
       "      <td>biomarker</td>\n",
       "      <td>n-alkanes</td>\n",
       "      <td>not specified</td>\n",
       "      <td>gc-ms</td>\n",
       "      <td>geological</td>\n",
       "      <td>sedimentary</td>\n",
       "      <td>1</td>\n",
       "      <td>18000000</td>\n",
       "      <td>...</td>\n",
       "      <td>silica-rich hot springs</td>\n",
       "      <td>Coromandel Volcanic Zone, New Zealand</td>\n",
       "      <td>-36.932800</td>\n",
       "      <td>175.716500</td>\n",
       "      <td>Columbia Hills, Mars</td>\n",
       "      <td>-15.194167</td>\n",
       "      <td>175.485556</td>\n",
       "      <td>None</td>\n",
       "      <td>NaN</td>\n",
       "      <td>NaN</td>\n",
       "    </tr>\n",
       "    <tr>\n",
       "      <th>40</th>\n",
       "      <td>41</td>\n",
       "      <td>organics</td>\n",
       "      <td>biomarker</td>\n",
       "      <td>methylalkanes</td>\n",
       "      <td>cyanobacteria</td>\n",
       "      <td>gc-ms</td>\n",
       "      <td>geological</td>\n",
       "      <td>sedimentary</td>\n",
       "      <td>1</td>\n",
       "      <td>18000000</td>\n",
       "      <td>...</td>\n",
       "      <td>silica-rich hot springs</td>\n",
       "      <td>Coromandel Volcanic Zone, New Zealand</td>\n",
       "      <td>-36.932800</td>\n",
       "      <td>175.716500</td>\n",
       "      <td>Columbia Hills, Mars</td>\n",
       "      <td>-15.194167</td>\n",
       "      <td>175.485556</td>\n",
       "      <td>None</td>\n",
       "      <td>NaN</td>\n",
       "      <td>NaN</td>\n",
       "    </tr>\n",
       "    <tr>\n",
       "      <th>41</th>\n",
       "      <td>42</td>\n",
       "      <td>organics</td>\n",
       "      <td>biomarker</td>\n",
       "      <td>terpanes</td>\n",
       "      <td>bacteria</td>\n",
       "      <td>gc-ms</td>\n",
       "      <td>geological</td>\n",
       "      <td>sedimentary</td>\n",
       "      <td>1</td>\n",
       "      <td>18000000</td>\n",
       "      <td>...</td>\n",
       "      <td>silica-rich hot springs</td>\n",
       "      <td>Coromandel Volcanic Zone, New Zealand</td>\n",
       "      <td>-36.932800</td>\n",
       "      <td>175.716500</td>\n",
       "      <td>Columbia Hills, Mars</td>\n",
       "      <td>-15.194167</td>\n",
       "      <td>175.485556</td>\n",
       "      <td>None</td>\n",
       "      <td>NaN</td>\n",
       "      <td>NaN</td>\n",
       "    </tr>\n",
       "    <tr>\n",
       "      <th>42</th>\n",
       "      <td>43</td>\n",
       "      <td>organics</td>\n",
       "      <td>biomarker</td>\n",
       "      <td>steranes</td>\n",
       "      <td>bacteria</td>\n",
       "      <td>gc-ms</td>\n",
       "      <td>geological</td>\n",
       "      <td>sedimentary</td>\n",
       "      <td>1</td>\n",
       "      <td>18000000</td>\n",
       "      <td>...</td>\n",
       "      <td>silica-rich hot springs</td>\n",
       "      <td>Coromandel Volcanic Zone, New Zealand</td>\n",
       "      <td>-36.932800</td>\n",
       "      <td>175.716500</td>\n",
       "      <td>Columbia Hills, Mars</td>\n",
       "      <td>-15.194167</td>\n",
       "      <td>175.485556</td>\n",
       "      <td>None</td>\n",
       "      <td>NaN</td>\n",
       "      <td>NaN</td>\n",
       "    </tr>\n",
       "    <tr>\n",
       "      <th>43</th>\n",
       "      <td>44</td>\n",
       "      <td>textures</td>\n",
       "      <td>macro-texture</td>\n",
       "      <td>stromatolite</td>\n",
       "      <td>cyanobacteria</td>\n",
       "      <td>naked eye</td>\n",
       "      <td>geological</td>\n",
       "      <td>sedimentary</td>\n",
       "      <td>5</td>\n",
       "      <td>3350000000</td>\n",
       "      <td>...</td>\n",
       "      <td>volcanic marine carbonate platform</td>\n",
       "      <td>Pilbara Craton, Australia</td>\n",
       "      <td>-21.630556</td>\n",
       "      <td>117.550556</td>\n",
       "      <td>Eberswalde delta, Mars</td>\n",
       "      <td>-24.000000</td>\n",
       "      <td>-33.116700</td>\n",
       "      <td>Nili Patera</td>\n",
       "      <td>8.899722</td>\n",
       "      <td>67.000556</td>\n",
       "    </tr>\n",
       "    <tr>\n",
       "      <th>44</th>\n",
       "      <td>45</td>\n",
       "      <td>live organisms</td>\n",
       "      <td>bacteria</td>\n",
       "      <td>filamentous iorn-oxidizing bacteria</td>\n",
       "      <td>filamentous iorn-oxidizing bacteria</td>\n",
       "      <td>sem</td>\n",
       "      <td>biological</td>\n",
       "      <td>lab culture</td>\n",
       "      <td>2</td>\n",
       "      <td>0</td>\n",
       "      <td>...</td>\n",
       "      <td>acidic iron-rich river</td>\n",
       "      <td>Rio Tinto, Spain</td>\n",
       "      <td>37.350000</td>\n",
       "      <td>-6.150000</td>\n",
       "      <td>Meridiani Planum, Mars</td>\n",
       "      <td>0.196111</td>\n",
       "      <td>-2.497778</td>\n",
       "      <td>None</td>\n",
       "      <td>NaN</td>\n",
       "      <td>NaN</td>\n",
       "    </tr>\n",
       "    <tr>\n",
       "      <th>45</th>\n",
       "      <td>46</td>\n",
       "      <td>organics</td>\n",
       "      <td>biomarker</td>\n",
       "      <td>aliphatic hydrocarbons</td>\n",
       "      <td>bacteria</td>\n",
       "      <td>ftir</td>\n",
       "      <td>biological</td>\n",
       "      <td>lab culture</td>\n",
       "      <td>2</td>\n",
       "      <td>0</td>\n",
       "      <td>...</td>\n",
       "      <td>acidic iron-rich river</td>\n",
       "      <td>Rio Tinto, Spain</td>\n",
       "      <td>37.350000</td>\n",
       "      <td>-6.150000</td>\n",
       "      <td>Meridiani Planum, Mars</td>\n",
       "      <td>0.196111</td>\n",
       "      <td>-2.497778</td>\n",
       "      <td>None</td>\n",
       "      <td>NaN</td>\n",
       "      <td>NaN</td>\n",
       "    </tr>\n",
       "    <tr>\n",
       "      <th>46</th>\n",
       "      <td>47</td>\n",
       "      <td>textures</td>\n",
       "      <td>micro-texture</td>\n",
       "      <td>filamentous iorn-oxidizing bacteria</td>\n",
       "      <td>filamentous iorn-oxidizing bacteria</td>\n",
       "      <td>sem</td>\n",
       "      <td>geological</td>\n",
       "      <td>sedimentary</td>\n",
       "      <td>2</td>\n",
       "      <td>0</td>\n",
       "      <td>...</td>\n",
       "      <td>acidic iron-rich river</td>\n",
       "      <td>Rio Tinto, Spain</td>\n",
       "      <td>37.350000</td>\n",
       "      <td>-6.150000</td>\n",
       "      <td>Meridiani Planum, Mars</td>\n",
       "      <td>0.196111</td>\n",
       "      <td>-2.497778</td>\n",
       "      <td>None</td>\n",
       "      <td>NaN</td>\n",
       "      <td>NaN</td>\n",
       "    </tr>\n",
       "    <tr>\n",
       "      <th>47</th>\n",
       "      <td>48</td>\n",
       "      <td>organics</td>\n",
       "      <td>biomarker</td>\n",
       "      <td>aliphatic hydrocarbons</td>\n",
       "      <td>bacteria</td>\n",
       "      <td>ftir</td>\n",
       "      <td>geological</td>\n",
       "      <td>sedimentary</td>\n",
       "      <td>2</td>\n",
       "      <td>0</td>\n",
       "      <td>...</td>\n",
       "      <td>acidic iron-rich river</td>\n",
       "      <td>Rio Tinto, Spain</td>\n",
       "      <td>37.350000</td>\n",
       "      <td>-6.150000</td>\n",
       "      <td>Meridiani Planum, Mars</td>\n",
       "      <td>0.196111</td>\n",
       "      <td>-2.497778</td>\n",
       "      <td>None</td>\n",
       "      <td>NaN</td>\n",
       "      <td>NaN</td>\n",
       "    </tr>\n",
       "    <tr>\n",
       "      <th>48</th>\n",
       "      <td>49</td>\n",
       "      <td>textures</td>\n",
       "      <td>micro-texture</td>\n",
       "      <td>filamentous iorn-oxidizing bacteria</td>\n",
       "      <td>filamentous iorn-oxidizing bacteria</td>\n",
       "      <td>sem</td>\n",
       "      <td>geological</td>\n",
       "      <td>sedimentary</td>\n",
       "      <td>2</td>\n",
       "      <td>0</td>\n",
       "      <td>...</td>\n",
       "      <td>acidic iron-rich river</td>\n",
       "      <td>Rio Tinto, Spain</td>\n",
       "      <td>37.350000</td>\n",
       "      <td>-6.150000</td>\n",
       "      <td>Meridiani Planum, Mars</td>\n",
       "      <td>0.196111</td>\n",
       "      <td>-2.497778</td>\n",
       "      <td>None</td>\n",
       "      <td>NaN</td>\n",
       "      <td>NaN</td>\n",
       "    </tr>\n",
       "    <tr>\n",
       "      <th>49</th>\n",
       "      <td>50</td>\n",
       "      <td>organics</td>\n",
       "      <td>biomarker</td>\n",
       "      <td>aliphatic hydrocarbons</td>\n",
       "      <td>bacteria</td>\n",
       "      <td>ftir</td>\n",
       "      <td>geological</td>\n",
       "      <td>sedimentary</td>\n",
       "      <td>2</td>\n",
       "      <td>0</td>\n",
       "      <td>...</td>\n",
       "      <td>acidic iron-rich river</td>\n",
       "      <td>Rio Tinto, Spain</td>\n",
       "      <td>37.350000</td>\n",
       "      <td>-6.150000</td>\n",
       "      <td>Meridiani Planum, Mars</td>\n",
       "      <td>0.196111</td>\n",
       "      <td>-2.497778</td>\n",
       "      <td>None</td>\n",
       "      <td>NaN</td>\n",
       "      <td>NaN</td>\n",
       "    </tr>\n",
       "  </tbody>\n",
       "</table>\n",
       "<p>50 rows × 23 columns</p>\n",
       "</div>"
      ],
      "text/plain": [
       "    biosignature_id biosignature_cat biosignature_subcat  \\\n",
       "0                 1         organics           biomarker   \n",
       "1                 2         organics           biomarker   \n",
       "2                 3         organics           biomarker   \n",
       "3                 4         organics           biomarker   \n",
       "4                 5         textures       micro-texture   \n",
       "5                 6         organics           biomarker   \n",
       "6                 7         organics           biomarker   \n",
       "7                 8         organics           biomarker   \n",
       "8                 9         organics           biomarker   \n",
       "9                10         textures       micro-texture   \n",
       "10               11         organics           biomarker   \n",
       "11               12         organics           biomarker   \n",
       "12               13         organics           biomarker   \n",
       "13               14         organics           biomarker   \n",
       "14               15         textures       micro-texture   \n",
       "15               16         organics           biomarker   \n",
       "16               17         organics           biomarker   \n",
       "17               18         organics           biomarker   \n",
       "18               19         organics           biomarker   \n",
       "19               20         textures       macro-texture   \n",
       "20               21         organics           biomarker   \n",
       "21               22         organics           biomarker   \n",
       "22               23         organics           biomarker   \n",
       "23               24         organics           biomarker   \n",
       "24               25         textures       micro-texture   \n",
       "25               26         organics           biomarker   \n",
       "26               27         organics           biomarker   \n",
       "27               28         organics           biomarker   \n",
       "28               29         organics           biomarker   \n",
       "29               30         organics           biomarker   \n",
       "30               31         organics           biomarker   \n",
       "31               32         organics           biomarker   \n",
       "32               33         organics           biomarker   \n",
       "33               34         textures       micro-texture   \n",
       "34               35         organics           biomarker   \n",
       "35               36         organics           biomarker   \n",
       "36               37         organics           biomarker   \n",
       "37               38         organics           biomarker   \n",
       "38               39         textures       micro-texture   \n",
       "39               40         organics           biomarker   \n",
       "40               41         organics           biomarker   \n",
       "41               42         organics           biomarker   \n",
       "42               43         organics           biomarker   \n",
       "43               44         textures       macro-texture   \n",
       "44               45   live organisms            bacteria   \n",
       "45               46         organics           biomarker   \n",
       "46               47         textures       micro-texture   \n",
       "47               48         organics           biomarker   \n",
       "48               49         textures       micro-texture   \n",
       "49               50         organics           biomarker   \n",
       "\n",
       "                                   name                        indicative_of  \\\n",
       "0                             n-alkanes                               plants   \n",
       "1                         methylalkanes                        cyanobacteria   \n",
       "2                             n-alkanes                             bacteria   \n",
       "3                         methylalkanes                        cyanobacteria   \n",
       "4                         plant remnant                               plants   \n",
       "5                             n-alkanes                               plants   \n",
       "6                         methylalkanes                        cyanobacteria   \n",
       "7                              terpanes                             bacteria   \n",
       "8                              steranes                             bacteria   \n",
       "9                         plant remnant                               plants   \n",
       "10                            n-alkanes                               plants   \n",
       "11                        methylalkanes                        cyanobacteria   \n",
       "12                             terpanes                             bacteria   \n",
       "13                             steranes                             bacteria   \n",
       "14                            microbial                             bacteria   \n",
       "15                            n-alkanes                        not specified   \n",
       "16                        methylalkanes                        cyanobacteria   \n",
       "17                             terpanes                             bacteria   \n",
       "18                             steranes                             bacteria   \n",
       "19                         stromatolite                        cyanobacteria   \n",
       "20                            n-alkanes                               plants   \n",
       "21                        methylalkanes                        cyanobacteria   \n",
       "22                             terpanes                             bacteria   \n",
       "23                             steranes                             bacteria   \n",
       "24       silicified microbial filaments                             bacteria   \n",
       "25                            n-alkanes                        not specified   \n",
       "26                        methylalkanes                        cyanobacteria   \n",
       "27                             terpanes                             bacteria   \n",
       "28                             steranes                             bacteria   \n",
       "29                            n-alkanes                             bacteria   \n",
       "30                        methylalkanes                        cyanobacteria   \n",
       "31                             terpanes                             bacteria   \n",
       "32                             steranes                             bacteria   \n",
       "33       silicified microbial filaments                             bacteria   \n",
       "34                            n-alkanes                        not specified   \n",
       "35                        methylalkanes                        cyanobacteria   \n",
       "36                             terpanes                             bacteria   \n",
       "37                             steranes                             bacteria   \n",
       "38       silicified microbial filaments                             bacteria   \n",
       "39                            n-alkanes                        not specified   \n",
       "40                        methylalkanes                        cyanobacteria   \n",
       "41                             terpanes                             bacteria   \n",
       "42                             steranes                             bacteria   \n",
       "43                         stromatolite                        cyanobacteria   \n",
       "44  filamentous iorn-oxidizing bacteria  filamentous iorn-oxidizing bacteria   \n",
       "45               aliphatic hydrocarbons                             bacteria   \n",
       "46  filamentous iorn-oxidizing bacteria  filamentous iorn-oxidizing bacteria   \n",
       "47               aliphatic hydrocarbons                             bacteria   \n",
       "48  filamentous iorn-oxidizing bacteria  filamentous iorn-oxidizing bacteria   \n",
       "49               aliphatic hydrocarbons                             bacteria   \n",
       "\n",
       "   detection_methods sample_type sample_subtype  number of samples  \\\n",
       "0              gc-ms  geological    sedimentary                  3   \n",
       "1              gc-ms  geological    sedimentary                  3   \n",
       "2              gc-ms  geological    sedimentary                  4   \n",
       "3              gc-ms  geological    sedimentary                  4   \n",
       "4         microscopy  geological    sedimentary                  1   \n",
       "5              gc-ms  geological    sedimentary                  1   \n",
       "6              gc-ms  geological    sedimentary                  1   \n",
       "7              gc-ms  geological    sedimentary                  1   \n",
       "8              gc-ms  geological    sedimentary                  1   \n",
       "9         microscopy  geological    sedimentary                  1   \n",
       "10             gc-ms  geological    sedimentary                  1   \n",
       "11             gc-ms  geological    sedimentary                  1   \n",
       "12             gc-ms  geological    sedimentary                  1   \n",
       "13             gc-ms  geological    sedimentary                  1   \n",
       "14        microscopy  geological    sedimentary                  1   \n",
       "15             gc-ms  geological    sedimentary                  1   \n",
       "16             gc-ms  geological    sedimentary                  1   \n",
       "17             gc-ms  geological    sedimentary                  1   \n",
       "18             gc-ms  geological    sedimentary                  1   \n",
       "19         naked eye  geological    sedimentary                  1   \n",
       "20             gc-ms  geological    sedimentary                  1   \n",
       "21             gc-ms  geological    sedimentary                  1   \n",
       "22             gc-ms  geological    sedimentary                  1   \n",
       "23             gc-ms  geological    sedimentary                  1   \n",
       "24        microscopy  geological    sedimentary                  1   \n",
       "25             gc-ms  geological    sedimentary                  1   \n",
       "26             gc-ms  geological    sedimentary                  1   \n",
       "27             gc-ms  geological    sedimentary                  1   \n",
       "28             gc-ms  geological    sedimentary                  1   \n",
       "29             gc-ms  geological    sedimentary                  1   \n",
       "30             gc-ms  geological    sedimentary                  1   \n",
       "31             gc-ms  geological    sedimentary                  1   \n",
       "32             gc-ms  geological    sedimentary                  1   \n",
       "33        microscopy  geological    sedimentary                  1   \n",
       "34             gc-ms  geological    sedimentary                  1   \n",
       "35             gc-ms  geological    sedimentary                  1   \n",
       "36             gc-ms  geological    sedimentary                  1   \n",
       "37             gc-ms  geological    sedimentary                  1   \n",
       "38        microscopy  geological    sedimentary                  1   \n",
       "39             gc-ms  geological    sedimentary                  1   \n",
       "40             gc-ms  geological    sedimentary                  1   \n",
       "41             gc-ms  geological    sedimentary                  1   \n",
       "42             gc-ms  geological    sedimentary                  1   \n",
       "43         naked eye  geological    sedimentary                  5   \n",
       "44               sem  biological    lab culture                  2   \n",
       "45              ftir  biological    lab culture                  2   \n",
       "46               sem  geological    sedimentary                  2   \n",
       "47              ftir  geological    sedimentary                  2   \n",
       "48               sem  geological    sedimentary                  2   \n",
       "49              ftir  geological    sedimentary                  2   \n",
       "\n",
       "       min_age  ...                    paleoenvironment  \\\n",
       "0            0  ...             silica-rich hot springs   \n",
       "1            0  ...             silica-rich hot springs   \n",
       "2            0  ...             silica-rich hot springs   \n",
       "3            0  ...             silica-rich hot springs   \n",
       "4        20700  ...             silica-rich hot springs   \n",
       "5        20700  ...             silica-rich hot springs   \n",
       "6        20700  ...             silica-rich hot springs   \n",
       "7        20700  ...             silica-rich hot springs   \n",
       "8        20700  ...             silica-rich hot springs   \n",
       "9     18000000  ...             silica-rich hot springs   \n",
       "10    18000000  ...             silica-rich hot springs   \n",
       "11    18000000  ...             silica-rich hot springs   \n",
       "12    18000000  ...             silica-rich hot springs   \n",
       "13    18000000  ...             silica-rich hot springs   \n",
       "14    18000000  ...             silica-rich hot springs   \n",
       "15    18000000  ...             silica-rich hot springs   \n",
       "16    18000000  ...             silica-rich hot springs   \n",
       "17    18000000  ...             silica-rich hot springs   \n",
       "18    18000000  ...             silica-rich hot springs   \n",
       "19    18000000  ...             silica-rich hot springs   \n",
       "20    18000000  ...             silica-rich hot springs   \n",
       "21    18000000  ...             silica-rich hot springs   \n",
       "22    18000000  ...             silica-rich hot springs   \n",
       "23    18000000  ...             silica-rich hot springs   \n",
       "24       20700  ...             silica-rich hot springs   \n",
       "25       20700  ...             silica-rich hot springs   \n",
       "26       20700  ...             silica-rich hot springs   \n",
       "27       20700  ...             silica-rich hot springs   \n",
       "28       20700  ...             silica-rich hot springs   \n",
       "29    18000000  ...             silica-rich hot springs   \n",
       "30    18000000  ...             silica-rich hot springs   \n",
       "31    18000000  ...             silica-rich hot springs   \n",
       "32    18000000  ...             silica-rich hot springs   \n",
       "33    18000000  ...             silica-rich hot springs   \n",
       "34    18000000  ...             silica-rich hot springs   \n",
       "35    18000000  ...             silica-rich hot springs   \n",
       "36    18000000  ...             silica-rich hot springs   \n",
       "37    18000000  ...             silica-rich hot springs   \n",
       "38    18000000  ...             silica-rich hot springs   \n",
       "39    18000000  ...             silica-rich hot springs   \n",
       "40    18000000  ...             silica-rich hot springs   \n",
       "41    18000000  ...             silica-rich hot springs   \n",
       "42    18000000  ...             silica-rich hot springs   \n",
       "43  3350000000  ...  volcanic marine carbonate platform   \n",
       "44           0  ...              acidic iron-rich river   \n",
       "45           0  ...              acidic iron-rich river   \n",
       "46           0  ...              acidic iron-rich river   \n",
       "47           0  ...              acidic iron-rich river   \n",
       "48           0  ...              acidic iron-rich river   \n",
       "49           0  ...              acidic iron-rich river   \n",
       "\n",
       "                            location_name   latitude   longitude  \\\n",
       "0                         El Tatio, Chile -20.333333  -68.016667   \n",
       "1                         El Tatio, Chile -20.333333  -68.016667   \n",
       "2        Taupo Volcanic Zone, New Zealand -38.400000  176.216667   \n",
       "3        Taupo Volcanic Zone, New Zealand -38.400000  176.216667   \n",
       "4        Taupo Volcanic Zone, New Zealand -38.400000  176.216667   \n",
       "5        Taupo Volcanic Zone, New Zealand -38.400000  176.216667   \n",
       "6        Taupo Volcanic Zone, New Zealand -38.400000  176.216667   \n",
       "7        Taupo Volcanic Zone, New Zealand -38.400000  176.216667   \n",
       "8        Taupo Volcanic Zone, New Zealand -38.400000  176.216667   \n",
       "9   Coromandel Volcanic Zone, New Zealand -36.932800  175.716500   \n",
       "10  Coromandel Volcanic Zone, New Zealand -36.932800  175.716500   \n",
       "11  Coromandel Volcanic Zone, New Zealand -36.932800  175.716500   \n",
       "12  Coromandel Volcanic Zone, New Zealand -36.932800  175.716500   \n",
       "13  Coromandel Volcanic Zone, New Zealand -36.932800  175.716500   \n",
       "14  Coromandel Volcanic Zone, New Zealand -36.932800  175.716500   \n",
       "15  Coromandel Volcanic Zone, New Zealand -36.932800  175.716500   \n",
       "16  Coromandel Volcanic Zone, New Zealand -36.932800  175.716500   \n",
       "17  Coromandel Volcanic Zone, New Zealand -36.932800  175.716500   \n",
       "18  Coromandel Volcanic Zone, New Zealand -36.932800  175.716500   \n",
       "19  Coromandel Volcanic Zone, New Zealand -36.932800  175.716500   \n",
       "20  Coromandel Volcanic Zone, New Zealand -36.932800  175.716500   \n",
       "21  Coromandel Volcanic Zone, New Zealand -36.932800  175.716500   \n",
       "22  Coromandel Volcanic Zone, New Zealand -36.932800  175.716500   \n",
       "23  Coromandel Volcanic Zone, New Zealand -36.932800  175.716500   \n",
       "24       Taupo Volcanic Zone, New Zealand -38.400000  176.216667   \n",
       "25       Taupo Volcanic Zone, New Zealand -38.400000  176.216667   \n",
       "26       Taupo Volcanic Zone, New Zealand -38.400000  176.216667   \n",
       "27       Taupo Volcanic Zone, New Zealand -38.400000  176.216667   \n",
       "28       Taupo Volcanic Zone, New Zealand -38.400000  176.216667   \n",
       "29  Coromandel Volcanic Zone, New Zealand -36.932800  175.716500   \n",
       "30  Coromandel Volcanic Zone, New Zealand -36.932800  175.716500   \n",
       "31  Coromandel Volcanic Zone, New Zealand -36.932800  175.716500   \n",
       "32  Coromandel Volcanic Zone, New Zealand -36.932800  175.716500   \n",
       "33  Coromandel Volcanic Zone, New Zealand -36.932800  175.716500   \n",
       "34  Coromandel Volcanic Zone, New Zealand -36.932800  175.716500   \n",
       "35  Coromandel Volcanic Zone, New Zealand -36.932800  175.716500   \n",
       "36  Coromandel Volcanic Zone, New Zealand -36.932800  175.716500   \n",
       "37  Coromandel Volcanic Zone, New Zealand -36.932800  175.716500   \n",
       "38  Coromandel Volcanic Zone, New Zealand -36.932800  175.716500   \n",
       "39  Coromandel Volcanic Zone, New Zealand -36.932800  175.716500   \n",
       "40  Coromandel Volcanic Zone, New Zealand -36.932800  175.716500   \n",
       "41  Coromandel Volcanic Zone, New Zealand -36.932800  175.716500   \n",
       "42  Coromandel Volcanic Zone, New Zealand -36.932800  175.716500   \n",
       "43              Pilbara Craton, Australia -21.630556  117.550556   \n",
       "44                       Rio Tinto, Spain  37.350000   -6.150000   \n",
       "45                       Rio Tinto, Spain  37.350000   -6.150000   \n",
       "46                       Rio Tinto, Spain  37.350000   -6.150000   \n",
       "47                       Rio Tinto, Spain  37.350000   -6.150000   \n",
       "48                       Rio Tinto, Spain  37.350000   -6.150000   \n",
       "49                       Rio Tinto, Spain  37.350000   -6.150000   \n",
       "\n",
       "        mars_counterpart_1  mars_latitude_1  mars_longitude_1  \\\n",
       "0     Columbia Hills, Mars       -15.194167        175.485556   \n",
       "1     Columbia Hills, Mars       -15.194167        175.485556   \n",
       "2     Columbia Hills, Mars       -15.194167        175.485556   \n",
       "3     Columbia Hills, Mars       -15.194167        175.485556   \n",
       "4     Columbia Hills, Mars       -15.194167        175.485556   \n",
       "5     Columbia Hills, Mars       -15.194167        175.485556   \n",
       "6     Columbia Hills, Mars       -15.194167        175.485556   \n",
       "7     Columbia Hills, Mars       -15.194167        175.485556   \n",
       "8     Columbia Hills, Mars       -15.194167        175.485556   \n",
       "9     Columbia Hills, Mars       -15.194167        175.485556   \n",
       "10    Columbia Hills, Mars       -15.194167        175.485556   \n",
       "11    Columbia Hills, Mars       -15.194167        175.485556   \n",
       "12    Columbia Hills, Mars       -15.194167        175.485556   \n",
       "13    Columbia Hills, Mars       -15.194167        175.485556   \n",
       "14    Columbia Hills, Mars       -15.194167        175.485556   \n",
       "15    Columbia Hills, Mars       -15.194167        175.485556   \n",
       "16    Columbia Hills, Mars       -15.194167        175.485556   \n",
       "17    Columbia Hills, Mars       -15.194167        175.485556   \n",
       "18    Columbia Hills, Mars       -15.194167        175.485556   \n",
       "19    Columbia Hills, Mars       -15.194167        175.485556   \n",
       "20    Columbia Hills, Mars       -15.194167        175.485556   \n",
       "21    Columbia Hills, Mars       -15.194167        175.485556   \n",
       "22    Columbia Hills, Mars       -15.194167        175.485556   \n",
       "23    Columbia Hills, Mars       -15.194167        175.485556   \n",
       "24    Columbia Hills, Mars       -15.194167        175.485556   \n",
       "25    Columbia Hills, Mars       -15.194167        175.485556   \n",
       "26    Columbia Hills, Mars       -15.194167        175.485556   \n",
       "27    Columbia Hills, Mars       -15.194167        175.485556   \n",
       "28    Columbia Hills, Mars       -15.194167        175.485556   \n",
       "29    Columbia Hills, Mars       -15.194167        175.485556   \n",
       "30    Columbia Hills, Mars       -15.194167        175.485556   \n",
       "31    Columbia Hills, Mars       -15.194167        175.485556   \n",
       "32    Columbia Hills, Mars       -15.194167        175.485556   \n",
       "33    Columbia Hills, Mars       -15.194167        175.485556   \n",
       "34    Columbia Hills, Mars       -15.194167        175.485556   \n",
       "35    Columbia Hills, Mars       -15.194167        175.485556   \n",
       "36    Columbia Hills, Mars       -15.194167        175.485556   \n",
       "37    Columbia Hills, Mars       -15.194167        175.485556   \n",
       "38    Columbia Hills, Mars       -15.194167        175.485556   \n",
       "39    Columbia Hills, Mars       -15.194167        175.485556   \n",
       "40    Columbia Hills, Mars       -15.194167        175.485556   \n",
       "41    Columbia Hills, Mars       -15.194167        175.485556   \n",
       "42    Columbia Hills, Mars       -15.194167        175.485556   \n",
       "43  Eberswalde delta, Mars       -24.000000        -33.116700   \n",
       "44  Meridiani Planum, Mars         0.196111         -2.497778   \n",
       "45  Meridiani Planum, Mars         0.196111         -2.497778   \n",
       "46  Meridiani Planum, Mars         0.196111         -2.497778   \n",
       "47  Meridiani Planum, Mars         0.196111         -2.497778   \n",
       "48  Meridiani Planum, Mars         0.196111         -2.497778   \n",
       "49  Meridiani Planum, Mars         0.196111         -2.497778   \n",
       "\n",
       "   mars_counterpart_2  mars_latitude_2  mars_longitude_2  \n",
       "0                None              NaN               NaN  \n",
       "1                None              NaN               NaN  \n",
       "2                None              NaN               NaN  \n",
       "3                None              NaN               NaN  \n",
       "4                None              NaN               NaN  \n",
       "5                None              NaN               NaN  \n",
       "6                None              NaN               NaN  \n",
       "7                None              NaN               NaN  \n",
       "8                None              NaN               NaN  \n",
       "9                None              NaN               NaN  \n",
       "10               None              NaN               NaN  \n",
       "11               None              NaN               NaN  \n",
       "12               None              NaN               NaN  \n",
       "13               None              NaN               NaN  \n",
       "14               None              NaN               NaN  \n",
       "15               None              NaN               NaN  \n",
       "16               None              NaN               NaN  \n",
       "17               None              NaN               NaN  \n",
       "18               None              NaN               NaN  \n",
       "19               None              NaN               NaN  \n",
       "20               None              NaN               NaN  \n",
       "21               None              NaN               NaN  \n",
       "22               None              NaN               NaN  \n",
       "23               None              NaN               NaN  \n",
       "24               None              NaN               NaN  \n",
       "25               None              NaN               NaN  \n",
       "26               None              NaN               NaN  \n",
       "27               None              NaN               NaN  \n",
       "28               None              NaN               NaN  \n",
       "29               None              NaN               NaN  \n",
       "30               None              NaN               NaN  \n",
       "31               None              NaN               NaN  \n",
       "32               None              NaN               NaN  \n",
       "33               None              NaN               NaN  \n",
       "34               None              NaN               NaN  \n",
       "35               None              NaN               NaN  \n",
       "36               None              NaN               NaN  \n",
       "37               None              NaN               NaN  \n",
       "38               None              NaN               NaN  \n",
       "39               None              NaN               NaN  \n",
       "40               None              NaN               NaN  \n",
       "41               None              NaN               NaN  \n",
       "42               None              NaN               NaN  \n",
       "43        Nili Patera         8.899722         67.000556  \n",
       "44               None              NaN               NaN  \n",
       "45               None              NaN               NaN  \n",
       "46               None              NaN               NaN  \n",
       "47               None              NaN               NaN  \n",
       "48               None              NaN               NaN  \n",
       "49               None              NaN               NaN  \n",
       "\n",
       "[50 rows x 23 columns]"
      ]
     },
     "execution_count": 50,
     "metadata": {},
     "output_type": "execute_result"
    }
   ],
   "source": [
    "bio_df"
   ]
  },
  {
   "cell_type": "code",
   "execution_count": 54,
   "id": "6fbbb4f2",
   "metadata": {},
   "outputs": [],
   "source": [
    "df = bio_df[bio_df['mars_counterpart_1'] == 'Columbia Hills, Mars']\n",
    "df = df.groupby(['latitude', 'longitude', 'location_name', 'max_age'], as_index=False).sum()[['latitude', 'longitude', 'location_name', 'number of samples', 'max_age']]"
   ]
  },
  {
   "cell_type": "code",
   "execution_count": 55,
   "id": "910f64ad",
   "metadata": {},
   "outputs": [
    {
     "data": {
      "text/html": [
       "<div>\n",
       "<style scoped>\n",
       "    .dataframe tbody tr th:only-of-type {\n",
       "        vertical-align: middle;\n",
       "    }\n",
       "\n",
       "    .dataframe tbody tr th {\n",
       "        vertical-align: top;\n",
       "    }\n",
       "\n",
       "    .dataframe thead th {\n",
       "        text-align: right;\n",
       "    }\n",
       "</style>\n",
       "<table border=\"1\" class=\"dataframe\">\n",
       "  <thead>\n",
       "    <tr style=\"text-align: right;\">\n",
       "      <th></th>\n",
       "      <th>latitude</th>\n",
       "      <th>longitude</th>\n",
       "      <th>location_name</th>\n",
       "      <th>number of samples</th>\n",
       "      <th>max_age</th>\n",
       "    </tr>\n",
       "  </thead>\n",
       "  <tbody>\n",
       "    <tr>\n",
       "      <th>0</th>\n",
       "      <td>-38.400000</td>\n",
       "      <td>176.216667</td>\n",
       "      <td>Taupo Volcanic Zone, New Zealand</td>\n",
       "      <td>8</td>\n",
       "      <td>9400</td>\n",
       "    </tr>\n",
       "    <tr>\n",
       "      <th>1</th>\n",
       "      <td>-38.400000</td>\n",
       "      <td>176.216667</td>\n",
       "      <td>Taupo Volcanic Zone, New Zealand</td>\n",
       "      <td>10</td>\n",
       "      <td>20700</td>\n",
       "    </tr>\n",
       "    <tr>\n",
       "      <th>2</th>\n",
       "      <td>-36.932800</td>\n",
       "      <td>175.716500</td>\n",
       "      <td>Coromandel Volcanic Zone, New Zealand</td>\n",
       "      <td>29</td>\n",
       "      <td>18000000</td>\n",
       "    </tr>\n",
       "    <tr>\n",
       "      <th>3</th>\n",
       "      <td>-20.333333</td>\n",
       "      <td>-68.016667</td>\n",
       "      <td>El Tatio, Chile</td>\n",
       "      <td>6</td>\n",
       "      <td>9400</td>\n",
       "    </tr>\n",
       "  </tbody>\n",
       "</table>\n",
       "</div>"
      ],
      "text/plain": [
       "    latitude   longitude                          location_name  \\\n",
       "0 -38.400000  176.216667       Taupo Volcanic Zone, New Zealand   \n",
       "1 -38.400000  176.216667       Taupo Volcanic Zone, New Zealand   \n",
       "2 -36.932800  175.716500  Coromandel Volcanic Zone, New Zealand   \n",
       "3 -20.333333  -68.016667                        El Tatio, Chile   \n",
       "\n",
       "   number of samples   max_age  \n",
       "0                  8      9400  \n",
       "1                 10     20700  \n",
       "2                 29  18000000  \n",
       "3                  6      9400  "
      ]
     },
     "execution_count": 55,
     "metadata": {},
     "output_type": "execute_result"
    }
   ],
   "source": [
    "df"
   ]
  },
  {
   "cell_type": "code",
   "execution_count": 45,
   "id": "63a29e78",
   "metadata": {},
   "outputs": [],
   "source": [
    "grouped_df = bio_df.groupby(['latitude', 'longitude', 'location_name', 'biosignature_cat', 'biosignature_subcat']).sum()[['number of samples' ]]"
   ]
  },
  {
   "cell_type": "code",
   "execution_count": 46,
   "id": "b27dc0a3",
   "metadata": {},
   "outputs": [],
   "source": [
    "#grouped_df.reset_index(level=['biosignature_cat'], inplace=True)"
   ]
  },
  {
   "cell_type": "code",
   "execution_count": 47,
   "id": "b0095f45",
   "metadata": {},
   "outputs": [],
   "source": [
    "grouped_df = bio_df.groupby(['latitude', 'longitude', 'location_name', 'max_age']).sum()[['number of samples' ]]"
   ]
  },
  {
   "cell_type": "code",
   "execution_count": 48,
   "id": "144a55e2",
   "metadata": {},
   "outputs": [],
   "source": [
    "grouped_df.reset_index(level=['max_age'], inplace=True)"
   ]
  },
  {
   "cell_type": "code",
   "execution_count": 49,
   "id": "ba720823",
   "metadata": {},
   "outputs": [
    {
     "data": {
      "text/html": [
       "<div>\n",
       "<style scoped>\n",
       "    .dataframe tbody tr th:only-of-type {\n",
       "        vertical-align: middle;\n",
       "    }\n",
       "\n",
       "    .dataframe tbody tr th {\n",
       "        vertical-align: top;\n",
       "    }\n",
       "\n",
       "    .dataframe thead th {\n",
       "        text-align: right;\n",
       "    }\n",
       "</style>\n",
       "<table border=\"1\" class=\"dataframe\">\n",
       "  <thead>\n",
       "    <tr style=\"text-align: right;\">\n",
       "      <th></th>\n",
       "      <th></th>\n",
       "      <th></th>\n",
       "      <th>max_age</th>\n",
       "      <th>number of samples</th>\n",
       "    </tr>\n",
       "    <tr>\n",
       "      <th>latitude</th>\n",
       "      <th>longitude</th>\n",
       "      <th>location_name</th>\n",
       "      <th></th>\n",
       "      <th></th>\n",
       "    </tr>\n",
       "  </thead>\n",
       "  <tbody>\n",
       "    <tr>\n",
       "      <th rowspan=\"2\" valign=\"top\">-38.400000</th>\n",
       "      <th rowspan=\"2\" valign=\"top\">176.216667</th>\n",
       "      <th>Taupo Volcanic Zone, New Zealand</th>\n",
       "      <td>9400</td>\n",
       "      <td>8</td>\n",
       "    </tr>\n",
       "    <tr>\n",
       "      <th>Taupo Volcanic Zone, New Zealand</th>\n",
       "      <td>20700</td>\n",
       "      <td>10</td>\n",
       "    </tr>\n",
       "    <tr>\n",
       "      <th>-36.932800</th>\n",
       "      <th>175.716500</th>\n",
       "      <th>Coromandel Volcanic Zone, New Zealand</th>\n",
       "      <td>18000000</td>\n",
       "      <td>29</td>\n",
       "    </tr>\n",
       "    <tr>\n",
       "      <th>-21.630556</th>\n",
       "      <th>117.550556</th>\n",
       "      <th>Pilbara Craton, Australia</th>\n",
       "      <td>3430000000</td>\n",
       "      <td>5</td>\n",
       "    </tr>\n",
       "    <tr>\n",
       "      <th>-20.333333</th>\n",
       "      <th>-68.016667</th>\n",
       "      <th>El Tatio, Chile</th>\n",
       "      <td>9400</td>\n",
       "      <td>6</td>\n",
       "    </tr>\n",
       "    <tr>\n",
       "      <th>37.350000</th>\n",
       "      <th>-6.150000</th>\n",
       "      <th>Rio Tinto, Spain</th>\n",
       "      <td>0</td>\n",
       "      <td>12</td>\n",
       "    </tr>\n",
       "  </tbody>\n",
       "</table>\n",
       "</div>"
      ],
      "text/plain": [
       "                                                                 max_age  \\\n",
       "latitude   longitude   location_name                                       \n",
       "-38.400000  176.216667 Taupo Volcanic Zone, New Zealand             9400   \n",
       "                       Taupo Volcanic Zone, New Zealand            20700   \n",
       "-36.932800  175.716500 Coromandel Volcanic Zone, New Zealand    18000000   \n",
       "-21.630556  117.550556 Pilbara Craton, Australia              3430000000   \n",
       "-20.333333 -68.016667  El Tatio, Chile                              9400   \n",
       " 37.350000 -6.150000   Rio Tinto, Spain                                0   \n",
       "\n",
       "                                                              number of samples  \n",
       "latitude   longitude   location_name                                             \n",
       "-38.400000  176.216667 Taupo Volcanic Zone, New Zealand                       8  \n",
       "                       Taupo Volcanic Zone, New Zealand                      10  \n",
       "-36.932800  175.716500 Coromandel Volcanic Zone, New Zealand                 29  \n",
       "-21.630556  117.550556 Pilbara Craton, Australia                              5  \n",
       "-20.333333 -68.016667  El Tatio, Chile                                        6  \n",
       " 37.350000 -6.150000   Rio Tinto, Spain                                      12  "
      ]
     },
     "execution_count": 49,
     "metadata": {},
     "output_type": "execute_result"
    }
   ],
   "source": [
    "grouped_df"
   ]
  },
  {
   "cell_type": "code",
   "execution_count": 35,
   "id": "93d9f19f",
   "metadata": {},
   "outputs": [
    {
     "data": {
      "application/vnd.plotly.v1+json": {
       "config": {
        "plotlyServerURL": "https://plot.ly"
       },
       "data": [
        {
         "geo": "geo",
         "hovertemplate": "<b>%{hovertext}</b><br><br>number of samples=%{marker.size}<br>latitude=%{lat}<br>longitude=%{lon}<extra></extra>",
         "hovertext": [
          "El Tatio, Chile",
          "El Tatio, Chile",
          "Taupo Volcanic Zone, New Zealand",
          "Taupo Volcanic Zone, New Zealand",
          "Taupo Volcanic Zone, New Zealand",
          "Taupo Volcanic Zone, New Zealand",
          "Taupo Volcanic Zone, New Zealand",
          "Taupo Volcanic Zone, New Zealand",
          "Taupo Volcanic Zone, New Zealand",
          "Coromandel Volcanic Zone, New Zealand",
          "Coromandel Volcanic Zone, New Zealand",
          "Coromandel Volcanic Zone, New Zealand",
          "Coromandel Volcanic Zone, New Zealand",
          "Coromandel Volcanic Zone, New Zealand",
          "Coromandel Volcanic Zone, New Zealand",
          "Coromandel Volcanic Zone, New Zealand",
          "Coromandel Volcanic Zone, New Zealand",
          "Coromandel Volcanic Zone, New Zealand",
          "Coromandel Volcanic Zone, New Zealand",
          "Coromandel Volcanic Zone, New Zealand",
          "Coromandel Volcanic Zone, New Zealand",
          "Coromandel Volcanic Zone, New Zealand",
          "Coromandel Volcanic Zone, New Zealand",
          "Coromandel Volcanic Zone, New Zealand",
          "Taupo Volcanic Zone, New Zealand",
          "Taupo Volcanic Zone, New Zealand",
          "Taupo Volcanic Zone, New Zealand",
          "Taupo Volcanic Zone, New Zealand",
          "Taupo Volcanic Zone, New Zealand",
          "Coromandel Volcanic Zone, New Zealand",
          "Coromandel Volcanic Zone, New Zealand",
          "Coromandel Volcanic Zone, New Zealand",
          "Coromandel Volcanic Zone, New Zealand",
          "Coromandel Volcanic Zone, New Zealand",
          "Coromandel Volcanic Zone, New Zealand",
          "Coromandel Volcanic Zone, New Zealand",
          "Coromandel Volcanic Zone, New Zealand",
          "Coromandel Volcanic Zone, New Zealand",
          "Coromandel Volcanic Zone, New Zealand",
          "Coromandel Volcanic Zone, New Zealand",
          "Coromandel Volcanic Zone, New Zealand",
          "Coromandel Volcanic Zone, New Zealand",
          "Coromandel Volcanic Zone, New Zealand",
          "Pilbara Craton, Australia",
          "Rio Tinto, Spain",
          "Rio Tinto, Spain",
          "Rio Tinto, Spain",
          "Rio Tinto, Spain",
          "Rio Tinto, Spain",
          "Rio Tinto, Spain"
         ],
         "lat": [
          -20.333333,
          -20.333333,
          -38.4,
          -38.4,
          -38.4,
          -38.4,
          -38.4,
          -38.4,
          -38.4,
          -36.9328,
          -36.9328,
          -36.9328,
          -36.9328,
          -36.9328,
          -36.9328,
          -36.9328,
          -36.9328,
          -36.9328,
          -36.9328,
          -36.9328,
          -36.9328,
          -36.9328,
          -36.9328,
          -36.9328,
          -38.4,
          -38.4,
          -38.4,
          -38.4,
          -38.4,
          -36.9328,
          -36.9328,
          -36.9328,
          -36.9328,
          -36.9328,
          -36.9328,
          -36.9328,
          -36.9328,
          -36.9328,
          -36.9328,
          -36.9328,
          -36.9328,
          -36.9328,
          -36.9328,
          -21.630556,
          37.35,
          37.35,
          37.35,
          37.35,
          37.35,
          37.35
         ],
         "legendgroup": "",
         "lon": [
          -68.016667,
          -68.016667,
          176.216667,
          176.216667,
          176.216667,
          176.216667,
          176.216667,
          176.216667,
          176.216667,
          175.7165,
          175.7165,
          175.7165,
          175.7165,
          175.7165,
          175.7165,
          175.7165,
          175.7165,
          175.7165,
          175.7165,
          175.7165,
          175.7165,
          175.7165,
          175.7165,
          175.7165,
          176.216667,
          176.216667,
          176.216667,
          176.216667,
          176.216667,
          175.7165,
          175.7165,
          175.7165,
          175.7165,
          175.7165,
          175.7165,
          175.7165,
          175.7165,
          175.7165,
          175.7165,
          175.7165,
          175.7165,
          175.7165,
          175.7165,
          117.550556,
          -6.15,
          -6.15,
          -6.15,
          -6.15,
          -6.15,
          -6.15
         ],
         "marker": {
          "color": "#636efa",
          "size": [
           3,
           3,
           4,
           4,
           1,
           1,
           1,
           1,
           1,
           1,
           1,
           1,
           1,
           1,
           1,
           1,
           1,
           1,
           1,
           1,
           1,
           1,
           1,
           1,
           1,
           1,
           1,
           1,
           1,
           1,
           1,
           1,
           1,
           1,
           1,
           1,
           1,
           1,
           1,
           1,
           1,
           1,
           1,
           5,
           2,
           2,
           2,
           2,
           2,
           2
          ],
          "sizemode": "area",
          "sizeref": 0.0125,
          "symbol": "circle"
         },
         "mode": "markers",
         "name": "",
         "showlegend": false,
         "type": "scattergeo"
        }
       ],
       "layout": {
        "geo": {
         "center": {},
         "domain": {
          "x": [
           0,
           1
          ],
          "y": [
           0,
           1
          ]
         },
         "projection": {
          "type": "mercator"
         }
        },
        "height": 600,
        "legend": {
         "itemsizing": "constant",
         "tracegroupgap": 0
        },
        "margin": {
         "b": 0,
         "l": 0,
         "r": 0,
         "t": 0
        },
        "paper_bgcolor": "rgba(0, 0, 0, 0)",
        "plot_bgcolor": "rgba(60, 25, 240, 0.1)",
        "showlegend": false,
        "template": {
         "data": {
          "bar": [
           {
            "error_x": {
             "color": "#2a3f5f"
            },
            "error_y": {
             "color": "#2a3f5f"
            },
            "marker": {
             "line": {
              "color": "#E5ECF6",
              "width": 0.5
             },
             "pattern": {
              "fillmode": "overlay",
              "size": 10,
              "solidity": 0.2
             }
            },
            "type": "bar"
           }
          ],
          "barpolar": [
           {
            "marker": {
             "line": {
              "color": "#E5ECF6",
              "width": 0.5
             },
             "pattern": {
              "fillmode": "overlay",
              "size": 10,
              "solidity": 0.2
             }
            },
            "type": "barpolar"
           }
          ],
          "carpet": [
           {
            "aaxis": {
             "endlinecolor": "#2a3f5f",
             "gridcolor": "white",
             "linecolor": "white",
             "minorgridcolor": "white",
             "startlinecolor": "#2a3f5f"
            },
            "baxis": {
             "endlinecolor": "#2a3f5f",
             "gridcolor": "white",
             "linecolor": "white",
             "minorgridcolor": "white",
             "startlinecolor": "#2a3f5f"
            },
            "type": "carpet"
           }
          ],
          "choropleth": [
           {
            "colorbar": {
             "outlinewidth": 0,
             "ticks": ""
            },
            "type": "choropleth"
           }
          ],
          "contour": [
           {
            "colorbar": {
             "outlinewidth": 0,
             "ticks": ""
            },
            "colorscale": [
             [
              0,
              "#0d0887"
             ],
             [
              0.1111111111111111,
              "#46039f"
             ],
             [
              0.2222222222222222,
              "#7201a8"
             ],
             [
              0.3333333333333333,
              "#9c179e"
             ],
             [
              0.4444444444444444,
              "#bd3786"
             ],
             [
              0.5555555555555556,
              "#d8576b"
             ],
             [
              0.6666666666666666,
              "#ed7953"
             ],
             [
              0.7777777777777778,
              "#fb9f3a"
             ],
             [
              0.8888888888888888,
              "#fdca26"
             ],
             [
              1,
              "#f0f921"
             ]
            ],
            "type": "contour"
           }
          ],
          "contourcarpet": [
           {
            "colorbar": {
             "outlinewidth": 0,
             "ticks": ""
            },
            "type": "contourcarpet"
           }
          ],
          "heatmap": [
           {
            "colorbar": {
             "outlinewidth": 0,
             "ticks": ""
            },
            "colorscale": [
             [
              0,
              "#0d0887"
             ],
             [
              0.1111111111111111,
              "#46039f"
             ],
             [
              0.2222222222222222,
              "#7201a8"
             ],
             [
              0.3333333333333333,
              "#9c179e"
             ],
             [
              0.4444444444444444,
              "#bd3786"
             ],
             [
              0.5555555555555556,
              "#d8576b"
             ],
             [
              0.6666666666666666,
              "#ed7953"
             ],
             [
              0.7777777777777778,
              "#fb9f3a"
             ],
             [
              0.8888888888888888,
              "#fdca26"
             ],
             [
              1,
              "#f0f921"
             ]
            ],
            "type": "heatmap"
           }
          ],
          "heatmapgl": [
           {
            "colorbar": {
             "outlinewidth": 0,
             "ticks": ""
            },
            "colorscale": [
             [
              0,
              "#0d0887"
             ],
             [
              0.1111111111111111,
              "#46039f"
             ],
             [
              0.2222222222222222,
              "#7201a8"
             ],
             [
              0.3333333333333333,
              "#9c179e"
             ],
             [
              0.4444444444444444,
              "#bd3786"
             ],
             [
              0.5555555555555556,
              "#d8576b"
             ],
             [
              0.6666666666666666,
              "#ed7953"
             ],
             [
              0.7777777777777778,
              "#fb9f3a"
             ],
             [
              0.8888888888888888,
              "#fdca26"
             ],
             [
              1,
              "#f0f921"
             ]
            ],
            "type": "heatmapgl"
           }
          ],
          "histogram": [
           {
            "marker": {
             "pattern": {
              "fillmode": "overlay",
              "size": 10,
              "solidity": 0.2
             }
            },
            "type": "histogram"
           }
          ],
          "histogram2d": [
           {
            "colorbar": {
             "outlinewidth": 0,
             "ticks": ""
            },
            "colorscale": [
             [
              0,
              "#0d0887"
             ],
             [
              0.1111111111111111,
              "#46039f"
             ],
             [
              0.2222222222222222,
              "#7201a8"
             ],
             [
              0.3333333333333333,
              "#9c179e"
             ],
             [
              0.4444444444444444,
              "#bd3786"
             ],
             [
              0.5555555555555556,
              "#d8576b"
             ],
             [
              0.6666666666666666,
              "#ed7953"
             ],
             [
              0.7777777777777778,
              "#fb9f3a"
             ],
             [
              0.8888888888888888,
              "#fdca26"
             ],
             [
              1,
              "#f0f921"
             ]
            ],
            "type": "histogram2d"
           }
          ],
          "histogram2dcontour": [
           {
            "colorbar": {
             "outlinewidth": 0,
             "ticks": ""
            },
            "colorscale": [
             [
              0,
              "#0d0887"
             ],
             [
              0.1111111111111111,
              "#46039f"
             ],
             [
              0.2222222222222222,
              "#7201a8"
             ],
             [
              0.3333333333333333,
              "#9c179e"
             ],
             [
              0.4444444444444444,
              "#bd3786"
             ],
             [
              0.5555555555555556,
              "#d8576b"
             ],
             [
              0.6666666666666666,
              "#ed7953"
             ],
             [
              0.7777777777777778,
              "#fb9f3a"
             ],
             [
              0.8888888888888888,
              "#fdca26"
             ],
             [
              1,
              "#f0f921"
             ]
            ],
            "type": "histogram2dcontour"
           }
          ],
          "mesh3d": [
           {
            "colorbar": {
             "outlinewidth": 0,
             "ticks": ""
            },
            "type": "mesh3d"
           }
          ],
          "parcoords": [
           {
            "line": {
             "colorbar": {
              "outlinewidth": 0,
              "ticks": ""
             }
            },
            "type": "parcoords"
           }
          ],
          "pie": [
           {
            "automargin": true,
            "type": "pie"
           }
          ],
          "scatter": [
           {
            "marker": {
             "colorbar": {
              "outlinewidth": 0,
              "ticks": ""
             }
            },
            "type": "scatter"
           }
          ],
          "scatter3d": [
           {
            "line": {
             "colorbar": {
              "outlinewidth": 0,
              "ticks": ""
             }
            },
            "marker": {
             "colorbar": {
              "outlinewidth": 0,
              "ticks": ""
             }
            },
            "type": "scatter3d"
           }
          ],
          "scattercarpet": [
           {
            "marker": {
             "colorbar": {
              "outlinewidth": 0,
              "ticks": ""
             }
            },
            "type": "scattercarpet"
           }
          ],
          "scattergeo": [
           {
            "marker": {
             "colorbar": {
              "outlinewidth": 0,
              "ticks": ""
             }
            },
            "type": "scattergeo"
           }
          ],
          "scattergl": [
           {
            "marker": {
             "colorbar": {
              "outlinewidth": 0,
              "ticks": ""
             }
            },
            "type": "scattergl"
           }
          ],
          "scattermapbox": [
           {
            "marker": {
             "colorbar": {
              "outlinewidth": 0,
              "ticks": ""
             }
            },
            "type": "scattermapbox"
           }
          ],
          "scatterpolar": [
           {
            "marker": {
             "colorbar": {
              "outlinewidth": 0,
              "ticks": ""
             }
            },
            "type": "scatterpolar"
           }
          ],
          "scatterpolargl": [
           {
            "marker": {
             "colorbar": {
              "outlinewidth": 0,
              "ticks": ""
             }
            },
            "type": "scatterpolargl"
           }
          ],
          "scatterternary": [
           {
            "marker": {
             "colorbar": {
              "outlinewidth": 0,
              "ticks": ""
             }
            },
            "type": "scatterternary"
           }
          ],
          "surface": [
           {
            "colorbar": {
             "outlinewidth": 0,
             "ticks": ""
            },
            "colorscale": [
             [
              0,
              "#0d0887"
             ],
             [
              0.1111111111111111,
              "#46039f"
             ],
             [
              0.2222222222222222,
              "#7201a8"
             ],
             [
              0.3333333333333333,
              "#9c179e"
             ],
             [
              0.4444444444444444,
              "#bd3786"
             ],
             [
              0.5555555555555556,
              "#d8576b"
             ],
             [
              0.6666666666666666,
              "#ed7953"
             ],
             [
              0.7777777777777778,
              "#fb9f3a"
             ],
             [
              0.8888888888888888,
              "#fdca26"
             ],
             [
              1,
              "#f0f921"
             ]
            ],
            "type": "surface"
           }
          ],
          "table": [
           {
            "cells": {
             "fill": {
              "color": "#EBF0F8"
             },
             "line": {
              "color": "white"
             }
            },
            "header": {
             "fill": {
              "color": "#C8D4E3"
             },
             "line": {
              "color": "white"
             }
            },
            "type": "table"
           }
          ]
         },
         "layout": {
          "annotationdefaults": {
           "arrowcolor": "#2a3f5f",
           "arrowhead": 0,
           "arrowwidth": 1
          },
          "autotypenumbers": "strict",
          "coloraxis": {
           "colorbar": {
            "outlinewidth": 0,
            "ticks": ""
           }
          },
          "colorscale": {
           "diverging": [
            [
             0,
             "#8e0152"
            ],
            [
             0.1,
             "#c51b7d"
            ],
            [
             0.2,
             "#de77ae"
            ],
            [
             0.3,
             "#f1b6da"
            ],
            [
             0.4,
             "#fde0ef"
            ],
            [
             0.5,
             "#f7f7f7"
            ],
            [
             0.6,
             "#e6f5d0"
            ],
            [
             0.7,
             "#b8e186"
            ],
            [
             0.8,
             "#7fbc41"
            ],
            [
             0.9,
             "#4d9221"
            ],
            [
             1,
             "#276419"
            ]
           ],
           "sequential": [
            [
             0,
             "#0d0887"
            ],
            [
             0.1111111111111111,
             "#46039f"
            ],
            [
             0.2222222222222222,
             "#7201a8"
            ],
            [
             0.3333333333333333,
             "#9c179e"
            ],
            [
             0.4444444444444444,
             "#bd3786"
            ],
            [
             0.5555555555555556,
             "#d8576b"
            ],
            [
             0.6666666666666666,
             "#ed7953"
            ],
            [
             0.7777777777777778,
             "#fb9f3a"
            ],
            [
             0.8888888888888888,
             "#fdca26"
            ],
            [
             1,
             "#f0f921"
            ]
           ],
           "sequentialminus": [
            [
             0,
             "#0d0887"
            ],
            [
             0.1111111111111111,
             "#46039f"
            ],
            [
             0.2222222222222222,
             "#7201a8"
            ],
            [
             0.3333333333333333,
             "#9c179e"
            ],
            [
             0.4444444444444444,
             "#bd3786"
            ],
            [
             0.5555555555555556,
             "#d8576b"
            ],
            [
             0.6666666666666666,
             "#ed7953"
            ],
            [
             0.7777777777777778,
             "#fb9f3a"
            ],
            [
             0.8888888888888888,
             "#fdca26"
            ],
            [
             1,
             "#f0f921"
            ]
           ]
          },
          "colorway": [
           "#636efa",
           "#EF553B",
           "#00cc96",
           "#ab63fa",
           "#FFA15A",
           "#19d3f3",
           "#FF6692",
           "#B6E880",
           "#FF97FF",
           "#FECB52"
          ],
          "font": {
           "color": "#2a3f5f"
          },
          "geo": {
           "bgcolor": "white",
           "lakecolor": "white",
           "landcolor": "#E5ECF6",
           "showlakes": true,
           "showland": true,
           "subunitcolor": "white"
          },
          "hoverlabel": {
           "align": "left"
          },
          "hovermode": "closest",
          "mapbox": {
           "style": "light"
          },
          "paper_bgcolor": "white",
          "plot_bgcolor": "#E5ECF6",
          "polar": {
           "angularaxis": {
            "gridcolor": "white",
            "linecolor": "white",
            "ticks": ""
           },
           "bgcolor": "#E5ECF6",
           "radialaxis": {
            "gridcolor": "white",
            "linecolor": "white",
            "ticks": ""
           }
          },
          "scene": {
           "xaxis": {
            "backgroundcolor": "#E5ECF6",
            "gridcolor": "white",
            "gridwidth": 2,
            "linecolor": "white",
            "showbackground": true,
            "ticks": "",
            "zerolinecolor": "white"
           },
           "yaxis": {
            "backgroundcolor": "#E5ECF6",
            "gridcolor": "white",
            "gridwidth": 2,
            "linecolor": "white",
            "showbackground": true,
            "ticks": "",
            "zerolinecolor": "white"
           },
           "zaxis": {
            "backgroundcolor": "#E5ECF6",
            "gridcolor": "white",
            "gridwidth": 2,
            "linecolor": "white",
            "showbackground": true,
            "ticks": "",
            "zerolinecolor": "white"
           }
          },
          "shapedefaults": {
           "line": {
            "color": "#2a3f5f"
           }
          },
          "ternary": {
           "aaxis": {
            "gridcolor": "white",
            "linecolor": "white",
            "ticks": ""
           },
           "baxis": {
            "gridcolor": "white",
            "linecolor": "white",
            "ticks": ""
           },
           "bgcolor": "#E5ECF6",
           "caxis": {
            "gridcolor": "white",
            "linecolor": "white",
            "ticks": ""
           }
          },
          "title": {
           "x": 0.05
          },
          "xaxis": {
           "automargin": true,
           "gridcolor": "white",
           "linecolor": "white",
           "ticks": "",
           "title": {
            "standoff": 15
           },
           "zerolinecolor": "white",
           "zerolinewidth": 2
          },
          "yaxis": {
           "automargin": true,
           "gridcolor": "white",
           "linecolor": "white",
           "ticks": "",
           "title": {
            "standoff": 15
           },
           "zerolinecolor": "white",
           "zerolinewidth": 2
          }
         }
        },
        "width": 600
       }
      },
      "text/html": [
       "<div>                            <div id=\"c2dd79ee-c8f4-468b-a87a-69decf115373\" class=\"plotly-graph-div\" style=\"height:600px; width:600px;\"></div>            <script type=\"text/javascript\">                require([\"plotly\"], function(Plotly) {                    window.PLOTLYENV=window.PLOTLYENV || {};                                    if (document.getElementById(\"c2dd79ee-c8f4-468b-a87a-69decf115373\")) {                    Plotly.newPlot(                        \"c2dd79ee-c8f4-468b-a87a-69decf115373\",                        [{\"geo\":\"geo\",\"hovertemplate\":\"<b>%{hovertext}</b><br><br>number of samples=%{marker.size}<br>latitude=%{lat}<br>longitude=%{lon}<extra></extra>\",\"hovertext\":[\"El Tatio, Chile\",\"El Tatio, Chile\",\"Taupo Volcanic Zone, New Zealand\",\"Taupo Volcanic Zone, New Zealand\",\"Taupo Volcanic Zone, New Zealand\",\"Taupo Volcanic Zone, New Zealand\",\"Taupo Volcanic Zone, New Zealand\",\"Taupo Volcanic Zone, New Zealand\",\"Taupo Volcanic Zone, New Zealand\",\"Coromandel Volcanic Zone, New Zealand\",\"Coromandel Volcanic Zone, New Zealand\",\"Coromandel Volcanic Zone, New Zealand\",\"Coromandel Volcanic Zone, New Zealand\",\"Coromandel Volcanic Zone, New Zealand\",\"Coromandel Volcanic Zone, New Zealand\",\"Coromandel Volcanic Zone, New Zealand\",\"Coromandel Volcanic Zone, New Zealand\",\"Coromandel Volcanic Zone, New Zealand\",\"Coromandel Volcanic Zone, New Zealand\",\"Coromandel Volcanic Zone, New Zealand\",\"Coromandel Volcanic Zone, New Zealand\",\"Coromandel Volcanic Zone, New Zealand\",\"Coromandel Volcanic Zone, New Zealand\",\"Coromandel Volcanic Zone, New Zealand\",\"Taupo Volcanic Zone, New Zealand\",\"Taupo Volcanic Zone, New Zealand\",\"Taupo Volcanic Zone, New Zealand\",\"Taupo Volcanic Zone, New Zealand\",\"Taupo Volcanic Zone, New Zealand\",\"Coromandel Volcanic Zone, New Zealand\",\"Coromandel Volcanic Zone, New Zealand\",\"Coromandel Volcanic Zone, New Zealand\",\"Coromandel Volcanic Zone, New Zealand\",\"Coromandel Volcanic Zone, New Zealand\",\"Coromandel Volcanic Zone, New Zealand\",\"Coromandel Volcanic Zone, New Zealand\",\"Coromandel Volcanic Zone, New Zealand\",\"Coromandel Volcanic Zone, New Zealand\",\"Coromandel Volcanic Zone, New Zealand\",\"Coromandel Volcanic Zone, New Zealand\",\"Coromandel Volcanic Zone, New Zealand\",\"Coromandel Volcanic Zone, New Zealand\",\"Coromandel Volcanic Zone, New Zealand\",\"Pilbara Craton, Australia\",\"Rio Tinto, Spain\",\"Rio Tinto, Spain\",\"Rio Tinto, Spain\",\"Rio Tinto, Spain\",\"Rio Tinto, Spain\",\"Rio Tinto, Spain\"],\"lat\":[-20.333333,-20.333333,-38.4,-38.4,-38.4,-38.4,-38.4,-38.4,-38.4,-36.9328,-36.9328,-36.9328,-36.9328,-36.9328,-36.9328,-36.9328,-36.9328,-36.9328,-36.9328,-36.9328,-36.9328,-36.9328,-36.9328,-36.9328,-38.4,-38.4,-38.4,-38.4,-38.4,-36.9328,-36.9328,-36.9328,-36.9328,-36.9328,-36.9328,-36.9328,-36.9328,-36.9328,-36.9328,-36.9328,-36.9328,-36.9328,-36.9328,-21.630556,37.35,37.35,37.35,37.35,37.35,37.35],\"legendgroup\":\"\",\"lon\":[-68.016667,-68.016667,176.216667,176.216667,176.216667,176.216667,176.216667,176.216667,176.216667,175.7165,175.7165,175.7165,175.7165,175.7165,175.7165,175.7165,175.7165,175.7165,175.7165,175.7165,175.7165,175.7165,175.7165,175.7165,176.216667,176.216667,176.216667,176.216667,176.216667,175.7165,175.7165,175.7165,175.7165,175.7165,175.7165,175.7165,175.7165,175.7165,175.7165,175.7165,175.7165,175.7165,175.7165,117.550556,-6.15,-6.15,-6.15,-6.15,-6.15,-6.15],\"marker\":{\"color\":\"#636efa\",\"size\":[3,3,4,4,1,1,1,1,1,1,1,1,1,1,1,1,1,1,1,1,1,1,1,1,1,1,1,1,1,1,1,1,1,1,1,1,1,1,1,1,1,1,1,5,2,2,2,2,2,2],\"sizemode\":\"area\",\"sizeref\":0.0125,\"symbol\":\"circle\"},\"mode\":\"markers\",\"name\":\"\",\"showlegend\":false,\"type\":\"scattergeo\"}],                        {\"template\":{\"data\":{\"bar\":[{\"error_x\":{\"color\":\"#2a3f5f\"},\"error_y\":{\"color\":\"#2a3f5f\"},\"marker\":{\"line\":{\"color\":\"#E5ECF6\",\"width\":0.5},\"pattern\":{\"fillmode\":\"overlay\",\"size\":10,\"solidity\":0.2}},\"type\":\"bar\"}],\"barpolar\":[{\"marker\":{\"line\":{\"color\":\"#E5ECF6\",\"width\":0.5},\"pattern\":{\"fillmode\":\"overlay\",\"size\":10,\"solidity\":0.2}},\"type\":\"barpolar\"}],\"carpet\":[{\"aaxis\":{\"endlinecolor\":\"#2a3f5f\",\"gridcolor\":\"white\",\"linecolor\":\"white\",\"minorgridcolor\":\"white\",\"startlinecolor\":\"#2a3f5f\"},\"baxis\":{\"endlinecolor\":\"#2a3f5f\",\"gridcolor\":\"white\",\"linecolor\":\"white\",\"minorgridcolor\":\"white\",\"startlinecolor\":\"#2a3f5f\"},\"type\":\"carpet\"}],\"choropleth\":[{\"colorbar\":{\"outlinewidth\":0,\"ticks\":\"\"},\"type\":\"choropleth\"}],\"contour\":[{\"colorbar\":{\"outlinewidth\":0,\"ticks\":\"\"},\"colorscale\":[[0.0,\"#0d0887\"],[0.1111111111111111,\"#46039f\"],[0.2222222222222222,\"#7201a8\"],[0.3333333333333333,\"#9c179e\"],[0.4444444444444444,\"#bd3786\"],[0.5555555555555556,\"#d8576b\"],[0.6666666666666666,\"#ed7953\"],[0.7777777777777778,\"#fb9f3a\"],[0.8888888888888888,\"#fdca26\"],[1.0,\"#f0f921\"]],\"type\":\"contour\"}],\"contourcarpet\":[{\"colorbar\":{\"outlinewidth\":0,\"ticks\":\"\"},\"type\":\"contourcarpet\"}],\"heatmap\":[{\"colorbar\":{\"outlinewidth\":0,\"ticks\":\"\"},\"colorscale\":[[0.0,\"#0d0887\"],[0.1111111111111111,\"#46039f\"],[0.2222222222222222,\"#7201a8\"],[0.3333333333333333,\"#9c179e\"],[0.4444444444444444,\"#bd3786\"],[0.5555555555555556,\"#d8576b\"],[0.6666666666666666,\"#ed7953\"],[0.7777777777777778,\"#fb9f3a\"],[0.8888888888888888,\"#fdca26\"],[1.0,\"#f0f921\"]],\"type\":\"heatmap\"}],\"heatmapgl\":[{\"colorbar\":{\"outlinewidth\":0,\"ticks\":\"\"},\"colorscale\":[[0.0,\"#0d0887\"],[0.1111111111111111,\"#46039f\"],[0.2222222222222222,\"#7201a8\"],[0.3333333333333333,\"#9c179e\"],[0.4444444444444444,\"#bd3786\"],[0.5555555555555556,\"#d8576b\"],[0.6666666666666666,\"#ed7953\"],[0.7777777777777778,\"#fb9f3a\"],[0.8888888888888888,\"#fdca26\"],[1.0,\"#f0f921\"]],\"type\":\"heatmapgl\"}],\"histogram\":[{\"marker\":{\"pattern\":{\"fillmode\":\"overlay\",\"size\":10,\"solidity\":0.2}},\"type\":\"histogram\"}],\"histogram2d\":[{\"colorbar\":{\"outlinewidth\":0,\"ticks\":\"\"},\"colorscale\":[[0.0,\"#0d0887\"],[0.1111111111111111,\"#46039f\"],[0.2222222222222222,\"#7201a8\"],[0.3333333333333333,\"#9c179e\"],[0.4444444444444444,\"#bd3786\"],[0.5555555555555556,\"#d8576b\"],[0.6666666666666666,\"#ed7953\"],[0.7777777777777778,\"#fb9f3a\"],[0.8888888888888888,\"#fdca26\"],[1.0,\"#f0f921\"]],\"type\":\"histogram2d\"}],\"histogram2dcontour\":[{\"colorbar\":{\"outlinewidth\":0,\"ticks\":\"\"},\"colorscale\":[[0.0,\"#0d0887\"],[0.1111111111111111,\"#46039f\"],[0.2222222222222222,\"#7201a8\"],[0.3333333333333333,\"#9c179e\"],[0.4444444444444444,\"#bd3786\"],[0.5555555555555556,\"#d8576b\"],[0.6666666666666666,\"#ed7953\"],[0.7777777777777778,\"#fb9f3a\"],[0.8888888888888888,\"#fdca26\"],[1.0,\"#f0f921\"]],\"type\":\"histogram2dcontour\"}],\"mesh3d\":[{\"colorbar\":{\"outlinewidth\":0,\"ticks\":\"\"},\"type\":\"mesh3d\"}],\"parcoords\":[{\"line\":{\"colorbar\":{\"outlinewidth\":0,\"ticks\":\"\"}},\"type\":\"parcoords\"}],\"pie\":[{\"automargin\":true,\"type\":\"pie\"}],\"scatter\":[{\"marker\":{\"colorbar\":{\"outlinewidth\":0,\"ticks\":\"\"}},\"type\":\"scatter\"}],\"scatter3d\":[{\"line\":{\"colorbar\":{\"outlinewidth\":0,\"ticks\":\"\"}},\"marker\":{\"colorbar\":{\"outlinewidth\":0,\"ticks\":\"\"}},\"type\":\"scatter3d\"}],\"scattercarpet\":[{\"marker\":{\"colorbar\":{\"outlinewidth\":0,\"ticks\":\"\"}},\"type\":\"scattercarpet\"}],\"scattergeo\":[{\"marker\":{\"colorbar\":{\"outlinewidth\":0,\"ticks\":\"\"}},\"type\":\"scattergeo\"}],\"scattergl\":[{\"marker\":{\"colorbar\":{\"outlinewidth\":0,\"ticks\":\"\"}},\"type\":\"scattergl\"}],\"scattermapbox\":[{\"marker\":{\"colorbar\":{\"outlinewidth\":0,\"ticks\":\"\"}},\"type\":\"scattermapbox\"}],\"scatterpolar\":[{\"marker\":{\"colorbar\":{\"outlinewidth\":0,\"ticks\":\"\"}},\"type\":\"scatterpolar\"}],\"scatterpolargl\":[{\"marker\":{\"colorbar\":{\"outlinewidth\":0,\"ticks\":\"\"}},\"type\":\"scatterpolargl\"}],\"scatterternary\":[{\"marker\":{\"colorbar\":{\"outlinewidth\":0,\"ticks\":\"\"}},\"type\":\"scatterternary\"}],\"surface\":[{\"colorbar\":{\"outlinewidth\":0,\"ticks\":\"\"},\"colorscale\":[[0.0,\"#0d0887\"],[0.1111111111111111,\"#46039f\"],[0.2222222222222222,\"#7201a8\"],[0.3333333333333333,\"#9c179e\"],[0.4444444444444444,\"#bd3786\"],[0.5555555555555556,\"#d8576b\"],[0.6666666666666666,\"#ed7953\"],[0.7777777777777778,\"#fb9f3a\"],[0.8888888888888888,\"#fdca26\"],[1.0,\"#f0f921\"]],\"type\":\"surface\"}],\"table\":[{\"cells\":{\"fill\":{\"color\":\"#EBF0F8\"},\"line\":{\"color\":\"white\"}},\"header\":{\"fill\":{\"color\":\"#C8D4E3\"},\"line\":{\"color\":\"white\"}},\"type\":\"table\"}]},\"layout\":{\"annotationdefaults\":{\"arrowcolor\":\"#2a3f5f\",\"arrowhead\":0,\"arrowwidth\":1},\"autotypenumbers\":\"strict\",\"coloraxis\":{\"colorbar\":{\"outlinewidth\":0,\"ticks\":\"\"}},\"colorscale\":{\"diverging\":[[0,\"#8e0152\"],[0.1,\"#c51b7d\"],[0.2,\"#de77ae\"],[0.3,\"#f1b6da\"],[0.4,\"#fde0ef\"],[0.5,\"#f7f7f7\"],[0.6,\"#e6f5d0\"],[0.7,\"#b8e186\"],[0.8,\"#7fbc41\"],[0.9,\"#4d9221\"],[1,\"#276419\"]],\"sequential\":[[0.0,\"#0d0887\"],[0.1111111111111111,\"#46039f\"],[0.2222222222222222,\"#7201a8\"],[0.3333333333333333,\"#9c179e\"],[0.4444444444444444,\"#bd3786\"],[0.5555555555555556,\"#d8576b\"],[0.6666666666666666,\"#ed7953\"],[0.7777777777777778,\"#fb9f3a\"],[0.8888888888888888,\"#fdca26\"],[1.0,\"#f0f921\"]],\"sequentialminus\":[[0.0,\"#0d0887\"],[0.1111111111111111,\"#46039f\"],[0.2222222222222222,\"#7201a8\"],[0.3333333333333333,\"#9c179e\"],[0.4444444444444444,\"#bd3786\"],[0.5555555555555556,\"#d8576b\"],[0.6666666666666666,\"#ed7953\"],[0.7777777777777778,\"#fb9f3a\"],[0.8888888888888888,\"#fdca26\"],[1.0,\"#f0f921\"]]},\"colorway\":[\"#636efa\",\"#EF553B\",\"#00cc96\",\"#ab63fa\",\"#FFA15A\",\"#19d3f3\",\"#FF6692\",\"#B6E880\",\"#FF97FF\",\"#FECB52\"],\"font\":{\"color\":\"#2a3f5f\"},\"geo\":{\"bgcolor\":\"white\",\"lakecolor\":\"white\",\"landcolor\":\"#E5ECF6\",\"showlakes\":true,\"showland\":true,\"subunitcolor\":\"white\"},\"hoverlabel\":{\"align\":\"left\"},\"hovermode\":\"closest\",\"mapbox\":{\"style\":\"light\"},\"paper_bgcolor\":\"white\",\"plot_bgcolor\":\"#E5ECF6\",\"polar\":{\"angularaxis\":{\"gridcolor\":\"white\",\"linecolor\":\"white\",\"ticks\":\"\"},\"bgcolor\":\"#E5ECF6\",\"radialaxis\":{\"gridcolor\":\"white\",\"linecolor\":\"white\",\"ticks\":\"\"}},\"scene\":{\"xaxis\":{\"backgroundcolor\":\"#E5ECF6\",\"gridcolor\":\"white\",\"gridwidth\":2,\"linecolor\":\"white\",\"showbackground\":true,\"ticks\":\"\",\"zerolinecolor\":\"white\"},\"yaxis\":{\"backgroundcolor\":\"#E5ECF6\",\"gridcolor\":\"white\",\"gridwidth\":2,\"linecolor\":\"white\",\"showbackground\":true,\"ticks\":\"\",\"zerolinecolor\":\"white\"},\"zaxis\":{\"backgroundcolor\":\"#E5ECF6\",\"gridcolor\":\"white\",\"gridwidth\":2,\"linecolor\":\"white\",\"showbackground\":true,\"ticks\":\"\",\"zerolinecolor\":\"white\"}},\"shapedefaults\":{\"line\":{\"color\":\"#2a3f5f\"}},\"ternary\":{\"aaxis\":{\"gridcolor\":\"white\",\"linecolor\":\"white\",\"ticks\":\"\"},\"baxis\":{\"gridcolor\":\"white\",\"linecolor\":\"white\",\"ticks\":\"\"},\"bgcolor\":\"#E5ECF6\",\"caxis\":{\"gridcolor\":\"white\",\"linecolor\":\"white\",\"ticks\":\"\"}},\"title\":{\"x\":0.05},\"xaxis\":{\"automargin\":true,\"gridcolor\":\"white\",\"linecolor\":\"white\",\"ticks\":\"\",\"title\":{\"standoff\":15},\"zerolinecolor\":\"white\",\"zerolinewidth\":2},\"yaxis\":{\"automargin\":true,\"gridcolor\":\"white\",\"linecolor\":\"white\",\"ticks\":\"\",\"title\":{\"standoff\":15},\"zerolinecolor\":\"white\",\"zerolinewidth\":2}}},\"geo\":{\"domain\":{\"x\":[0.0,1.0],\"y\":[0.0,1.0]},\"projection\":{\"type\":\"mercator\"},\"center\":{}},\"legend\":{\"tracegroupgap\":0,\"itemsizing\":\"constant\"},\"margin\":{\"t\":0,\"l\":0,\"r\":0,\"b\":0},\"height\":600,\"width\":600,\"showlegend\":false,\"paper_bgcolor\":\"rgba(0, 0, 0, 0)\",\"plot_bgcolor\":\"rgba(60, 25, 240, 0.1)\"},                        {\"responsive\": true}                    ).then(function(){\n",
       "                            \n",
       "var gd = document.getElementById('c2dd79ee-c8f4-468b-a87a-69decf115373');\n",
       "var x = new MutationObserver(function (mutations, observer) {{\n",
       "        var display = window.getComputedStyle(gd).display;\n",
       "        if (!display || display === 'none') {{\n",
       "            console.log([gd, 'removed!']);\n",
       "            Plotly.purge(gd);\n",
       "            observer.disconnect();\n",
       "        }}\n",
       "}});\n",
       "\n",
       "// Listen for the removal of the full notebook cells\n",
       "var notebookContainer = gd.closest('#notebook-container');\n",
       "if (notebookContainer) {{\n",
       "    x.observe(notebookContainer, {childList: true});\n",
       "}}\n",
       "\n",
       "// Listen for the clearing of the current output cell\n",
       "var outputEl = gd.closest('.output');\n",
       "if (outputEl) {{\n",
       "    x.observe(outputEl, {childList: true});\n",
       "}}\n",
       "\n",
       "                        })                };                });            </script>        </div>"
      ]
     },
     "metadata": {},
     "output_type": "display_data"
    }
   ],
   "source": [
    "plots.plot_interactive_map(bio_df, projection='mercator')"
   ]
  },
  {
   "cell_type": "code",
   "execution_count": 126,
   "id": "50b2f1d2",
   "metadata": {},
   "outputs": [],
   "source": [
    "grouped_cat = bio_df.groupby(['latitude', 'longitude', 'location_name', 'biosignature_cat']).sum()[['number of samples' ]]\n",
    "grouped_cat.reset_index(level=['biosignature_cat'], inplace=True)"
   ]
  },
  {
   "cell_type": "code",
   "execution_count": 127,
   "id": "d01ff561",
   "metadata": {},
   "outputs": [
    {
     "data": {
      "text/html": [
       "<div>\n",
       "<style scoped>\n",
       "    .dataframe tbody tr th:only-of-type {\n",
       "        vertical-align: middle;\n",
       "    }\n",
       "\n",
       "    .dataframe tbody tr th {\n",
       "        vertical-align: top;\n",
       "    }\n",
       "\n",
       "    .dataframe thead th {\n",
       "        text-align: right;\n",
       "    }\n",
       "</style>\n",
       "<table border=\"1\" class=\"dataframe\">\n",
       "  <thead>\n",
       "    <tr style=\"text-align: right;\">\n",
       "      <th></th>\n",
       "      <th></th>\n",
       "      <th></th>\n",
       "      <th>biosignature_cat</th>\n",
       "      <th>number of samples</th>\n",
       "    </tr>\n",
       "    <tr>\n",
       "      <th>latitude</th>\n",
       "      <th>longitude</th>\n",
       "      <th>location_name</th>\n",
       "      <th></th>\n",
       "      <th></th>\n",
       "    </tr>\n",
       "  </thead>\n",
       "  <tbody>\n",
       "    <tr>\n",
       "      <th rowspan=\"2\" valign=\"top\">-38.400000</th>\n",
       "      <th rowspan=\"2\" valign=\"top\">176.216667</th>\n",
       "      <th>Taupo Volcanic Zone, New Zealand</th>\n",
       "      <td>organics</td>\n",
       "      <td>16</td>\n",
       "    </tr>\n",
       "    <tr>\n",
       "      <th>Taupo Volcanic Zone, New Zealand</th>\n",
       "      <td>textures</td>\n",
       "      <td>2</td>\n",
       "    </tr>\n",
       "    <tr>\n",
       "      <th rowspan=\"2\" valign=\"top\">-36.932800</th>\n",
       "      <th rowspan=\"2\" valign=\"top\">175.716500</th>\n",
       "      <th>Coromandel Volcanic Zone</th>\n",
       "      <td>organics</td>\n",
       "      <td>24</td>\n",
       "    </tr>\n",
       "    <tr>\n",
       "      <th>Coromandel Volcanic Zone</th>\n",
       "      <td>textures</td>\n",
       "      <td>5</td>\n",
       "    </tr>\n",
       "    <tr>\n",
       "      <th>-21.630556</th>\n",
       "      <th>117.550556</th>\n",
       "      <th>Pilbara Craton, Australia</th>\n",
       "      <td>textures</td>\n",
       "      <td>5</td>\n",
       "    </tr>\n",
       "    <tr>\n",
       "      <th>-20.333333</th>\n",
       "      <th>-68.016667</th>\n",
       "      <th>El Tatio, Chile</th>\n",
       "      <td>organics</td>\n",
       "      <td>6</td>\n",
       "    </tr>\n",
       "    <tr>\n",
       "      <th rowspan=\"3\" valign=\"top\">37.350000</th>\n",
       "      <th rowspan=\"3\" valign=\"top\">-6.150000</th>\n",
       "      <th>Rio Tinto, Spain</th>\n",
       "      <td>live organisms</td>\n",
       "      <td>2</td>\n",
       "    </tr>\n",
       "    <tr>\n",
       "      <th>Rio Tinto, Spain</th>\n",
       "      <td>organics</td>\n",
       "      <td>6</td>\n",
       "    </tr>\n",
       "    <tr>\n",
       "      <th>Rio Tinto, Spain</th>\n",
       "      <td>textures</td>\n",
       "      <td>4</td>\n",
       "    </tr>\n",
       "  </tbody>\n",
       "</table>\n",
       "</div>"
      ],
      "text/plain": [
       "                                                        biosignature_cat  \\\n",
       "latitude   longitude   location_name                                       \n",
       "-38.400000  176.216667 Taupo Volcanic Zone, New Zealand         organics   \n",
       "                       Taupo Volcanic Zone, New Zealand         textures   \n",
       "-36.932800  175.716500 Coromandel Volcanic Zone                 organics   \n",
       "                       Coromandel Volcanic Zone                 textures   \n",
       "-21.630556  117.550556 Pilbara Craton, Australia                textures   \n",
       "-20.333333 -68.016667  El Tatio, Chile                          organics   \n",
       " 37.350000 -6.150000   Rio Tinto, Spain                   live organisms   \n",
       "                       Rio Tinto, Spain                         organics   \n",
       "                       Rio Tinto, Spain                         textures   \n",
       "\n",
       "                                                         number of samples  \n",
       "latitude   longitude   location_name                                        \n",
       "-38.400000  176.216667 Taupo Volcanic Zone, New Zealand                 16  \n",
       "                       Taupo Volcanic Zone, New Zealand                  2  \n",
       "-36.932800  175.716500 Coromandel Volcanic Zone                         24  \n",
       "                       Coromandel Volcanic Zone                          5  \n",
       "-21.630556  117.550556 Pilbara Craton, Australia                         5  \n",
       "-20.333333 -68.016667  El Tatio, Chile                                   6  \n",
       " 37.350000 -6.150000   Rio Tinto, Spain                                  2  \n",
       "                       Rio Tinto, Spain                                  6  \n",
       "                       Rio Tinto, Spain                                  4  "
      ]
     },
     "execution_count": 127,
     "metadata": {},
     "output_type": "execute_result"
    }
   ],
   "source": [
    "grouped_cat"
   ]
  },
  {
   "cell_type": "code",
   "execution_count": 128,
   "id": "502df154",
   "metadata": {},
   "outputs": [
    {
     "data": {
      "text/plain": [
       "(-38.4, 176.216667, 'Taupo Volcanic Zone, New Zealand')"
      ]
     },
     "execution_count": 128,
     "metadata": {},
     "output_type": "execute_result"
    }
   ],
   "source": [
    "grouped_cat.index.unique()[0]"
   ]
  },
  {
   "cell_type": "code",
   "execution_count": 129,
   "id": "1b8ae06c",
   "metadata": {},
   "outputs": [],
   "source": [
    "for multiindex in grouped_cat.index.unique():\n",
    "    px.bar(grouped_cat.loc[multiindex[0], multiindex[1],multiindex[2]].reset_index(), x='biosignature_cat', y='number of samples')"
   ]
  },
  {
   "cell_type": "code",
   "execution_count": 132,
   "id": "d0083ac3",
   "metadata": {},
   "outputs": [
    {
     "data": {
      "text/html": [
       "<div>\n",
       "<style scoped>\n",
       "    .dataframe tbody tr th:only-of-type {\n",
       "        vertical-align: middle;\n",
       "    }\n",
       "\n",
       "    .dataframe tbody tr th {\n",
       "        vertical-align: top;\n",
       "    }\n",
       "\n",
       "    .dataframe thead th {\n",
       "        text-align: right;\n",
       "    }\n",
       "</style>\n",
       "<table border=\"1\" class=\"dataframe\">\n",
       "  <thead>\n",
       "    <tr style=\"text-align: right;\">\n",
       "      <th></th>\n",
       "      <th>biosignature_cat</th>\n",
       "      <th>number of samples</th>\n",
       "    </tr>\n",
       "  </thead>\n",
       "  <tbody>\n",
       "    <tr>\n",
       "      <th>0</th>\n",
       "      <td>live organisms</td>\n",
       "      <td>2</td>\n",
       "    </tr>\n",
       "    <tr>\n",
       "      <th>1</th>\n",
       "      <td>organics</td>\n",
       "      <td>6</td>\n",
       "    </tr>\n",
       "    <tr>\n",
       "      <th>2</th>\n",
       "      <td>textures</td>\n",
       "      <td>4</td>\n",
       "    </tr>\n",
       "  </tbody>\n",
       "</table>\n",
       "</div>"
      ],
      "text/plain": [
       "  biosignature_cat  number of samples\n",
       "0   live organisms                  2\n",
       "1         organics                  6\n",
       "2         textures                  4"
      ]
     },
     "execution_count": 132,
     "metadata": {},
     "output_type": "execute_result"
    }
   ],
   "source": [
    "grouped_cat.loc[37.350000, -6.150000,'Rio Tinto, Spain'].reset_index(drop=True)"
   ]
  },
  {
   "cell_type": "code",
   "execution_count": 102,
   "id": "99a0e437",
   "metadata": {
    "collapsed": true
   },
   "outputs": [
    {
     "data": {
      "application/vnd.plotly.v1+json": {
       "config": {
        "plotlyServerURL": "https://plot.ly"
       },
       "data": [
        {
         "alignmentgroup": "True",
         "hovertemplate": "biosignature_cat=%{x}<br>number of samples=%{y}<extra></extra>",
         "legendgroup": "",
         "marker": {
          "color": "#636efa",
          "pattern": {
           "shape": ""
          }
         },
         "name": "",
         "offsetgroup": "",
         "orientation": "v",
         "showlegend": false,
         "textposition": "auto",
         "type": "bar",
         "x": [
          "live organisms",
          "organics",
          "textures"
         ],
         "xaxis": "x",
         "y": [
          2,
          6,
          4
         ],
         "yaxis": "y"
        }
       ],
       "layout": {
        "barmode": "relative",
        "legend": {
         "tracegroupgap": 0
        },
        "margin": {
         "t": 60
        },
        "template": {
         "data": {
          "bar": [
           {
            "error_x": {
             "color": "#2a3f5f"
            },
            "error_y": {
             "color": "#2a3f5f"
            },
            "marker": {
             "line": {
              "color": "#E5ECF6",
              "width": 0.5
             },
             "pattern": {
              "fillmode": "overlay",
              "size": 10,
              "solidity": 0.2
             }
            },
            "type": "bar"
           }
          ],
          "barpolar": [
           {
            "marker": {
             "line": {
              "color": "#E5ECF6",
              "width": 0.5
             },
             "pattern": {
              "fillmode": "overlay",
              "size": 10,
              "solidity": 0.2
             }
            },
            "type": "barpolar"
           }
          ],
          "carpet": [
           {
            "aaxis": {
             "endlinecolor": "#2a3f5f",
             "gridcolor": "white",
             "linecolor": "white",
             "minorgridcolor": "white",
             "startlinecolor": "#2a3f5f"
            },
            "baxis": {
             "endlinecolor": "#2a3f5f",
             "gridcolor": "white",
             "linecolor": "white",
             "minorgridcolor": "white",
             "startlinecolor": "#2a3f5f"
            },
            "type": "carpet"
           }
          ],
          "choropleth": [
           {
            "colorbar": {
             "outlinewidth": 0,
             "ticks": ""
            },
            "type": "choropleth"
           }
          ],
          "contour": [
           {
            "colorbar": {
             "outlinewidth": 0,
             "ticks": ""
            },
            "colorscale": [
             [
              0,
              "#0d0887"
             ],
             [
              0.1111111111111111,
              "#46039f"
             ],
             [
              0.2222222222222222,
              "#7201a8"
             ],
             [
              0.3333333333333333,
              "#9c179e"
             ],
             [
              0.4444444444444444,
              "#bd3786"
             ],
             [
              0.5555555555555556,
              "#d8576b"
             ],
             [
              0.6666666666666666,
              "#ed7953"
             ],
             [
              0.7777777777777778,
              "#fb9f3a"
             ],
             [
              0.8888888888888888,
              "#fdca26"
             ],
             [
              1,
              "#f0f921"
             ]
            ],
            "type": "contour"
           }
          ],
          "contourcarpet": [
           {
            "colorbar": {
             "outlinewidth": 0,
             "ticks": ""
            },
            "type": "contourcarpet"
           }
          ],
          "heatmap": [
           {
            "colorbar": {
             "outlinewidth": 0,
             "ticks": ""
            },
            "colorscale": [
             [
              0,
              "#0d0887"
             ],
             [
              0.1111111111111111,
              "#46039f"
             ],
             [
              0.2222222222222222,
              "#7201a8"
             ],
             [
              0.3333333333333333,
              "#9c179e"
             ],
             [
              0.4444444444444444,
              "#bd3786"
             ],
             [
              0.5555555555555556,
              "#d8576b"
             ],
             [
              0.6666666666666666,
              "#ed7953"
             ],
             [
              0.7777777777777778,
              "#fb9f3a"
             ],
             [
              0.8888888888888888,
              "#fdca26"
             ],
             [
              1,
              "#f0f921"
             ]
            ],
            "type": "heatmap"
           }
          ],
          "heatmapgl": [
           {
            "colorbar": {
             "outlinewidth": 0,
             "ticks": ""
            },
            "colorscale": [
             [
              0,
              "#0d0887"
             ],
             [
              0.1111111111111111,
              "#46039f"
             ],
             [
              0.2222222222222222,
              "#7201a8"
             ],
             [
              0.3333333333333333,
              "#9c179e"
             ],
             [
              0.4444444444444444,
              "#bd3786"
             ],
             [
              0.5555555555555556,
              "#d8576b"
             ],
             [
              0.6666666666666666,
              "#ed7953"
             ],
             [
              0.7777777777777778,
              "#fb9f3a"
             ],
             [
              0.8888888888888888,
              "#fdca26"
             ],
             [
              1,
              "#f0f921"
             ]
            ],
            "type": "heatmapgl"
           }
          ],
          "histogram": [
           {
            "marker": {
             "pattern": {
              "fillmode": "overlay",
              "size": 10,
              "solidity": 0.2
             }
            },
            "type": "histogram"
           }
          ],
          "histogram2d": [
           {
            "colorbar": {
             "outlinewidth": 0,
             "ticks": ""
            },
            "colorscale": [
             [
              0,
              "#0d0887"
             ],
             [
              0.1111111111111111,
              "#46039f"
             ],
             [
              0.2222222222222222,
              "#7201a8"
             ],
             [
              0.3333333333333333,
              "#9c179e"
             ],
             [
              0.4444444444444444,
              "#bd3786"
             ],
             [
              0.5555555555555556,
              "#d8576b"
             ],
             [
              0.6666666666666666,
              "#ed7953"
             ],
             [
              0.7777777777777778,
              "#fb9f3a"
             ],
             [
              0.8888888888888888,
              "#fdca26"
             ],
             [
              1,
              "#f0f921"
             ]
            ],
            "type": "histogram2d"
           }
          ],
          "histogram2dcontour": [
           {
            "colorbar": {
             "outlinewidth": 0,
             "ticks": ""
            },
            "colorscale": [
             [
              0,
              "#0d0887"
             ],
             [
              0.1111111111111111,
              "#46039f"
             ],
             [
              0.2222222222222222,
              "#7201a8"
             ],
             [
              0.3333333333333333,
              "#9c179e"
             ],
             [
              0.4444444444444444,
              "#bd3786"
             ],
             [
              0.5555555555555556,
              "#d8576b"
             ],
             [
              0.6666666666666666,
              "#ed7953"
             ],
             [
              0.7777777777777778,
              "#fb9f3a"
             ],
             [
              0.8888888888888888,
              "#fdca26"
             ],
             [
              1,
              "#f0f921"
             ]
            ],
            "type": "histogram2dcontour"
           }
          ],
          "mesh3d": [
           {
            "colorbar": {
             "outlinewidth": 0,
             "ticks": ""
            },
            "type": "mesh3d"
           }
          ],
          "parcoords": [
           {
            "line": {
             "colorbar": {
              "outlinewidth": 0,
              "ticks": ""
             }
            },
            "type": "parcoords"
           }
          ],
          "pie": [
           {
            "automargin": true,
            "type": "pie"
           }
          ],
          "scatter": [
           {
            "marker": {
             "colorbar": {
              "outlinewidth": 0,
              "ticks": ""
             }
            },
            "type": "scatter"
           }
          ],
          "scatter3d": [
           {
            "line": {
             "colorbar": {
              "outlinewidth": 0,
              "ticks": ""
             }
            },
            "marker": {
             "colorbar": {
              "outlinewidth": 0,
              "ticks": ""
             }
            },
            "type": "scatter3d"
           }
          ],
          "scattercarpet": [
           {
            "marker": {
             "colorbar": {
              "outlinewidth": 0,
              "ticks": ""
             }
            },
            "type": "scattercarpet"
           }
          ],
          "scattergeo": [
           {
            "marker": {
             "colorbar": {
              "outlinewidth": 0,
              "ticks": ""
             }
            },
            "type": "scattergeo"
           }
          ],
          "scattergl": [
           {
            "marker": {
             "colorbar": {
              "outlinewidth": 0,
              "ticks": ""
             }
            },
            "type": "scattergl"
           }
          ],
          "scattermapbox": [
           {
            "marker": {
             "colorbar": {
              "outlinewidth": 0,
              "ticks": ""
             }
            },
            "type": "scattermapbox"
           }
          ],
          "scatterpolar": [
           {
            "marker": {
             "colorbar": {
              "outlinewidth": 0,
              "ticks": ""
             }
            },
            "type": "scatterpolar"
           }
          ],
          "scatterpolargl": [
           {
            "marker": {
             "colorbar": {
              "outlinewidth": 0,
              "ticks": ""
             }
            },
            "type": "scatterpolargl"
           }
          ],
          "scatterternary": [
           {
            "marker": {
             "colorbar": {
              "outlinewidth": 0,
              "ticks": ""
             }
            },
            "type": "scatterternary"
           }
          ],
          "surface": [
           {
            "colorbar": {
             "outlinewidth": 0,
             "ticks": ""
            },
            "colorscale": [
             [
              0,
              "#0d0887"
             ],
             [
              0.1111111111111111,
              "#46039f"
             ],
             [
              0.2222222222222222,
              "#7201a8"
             ],
             [
              0.3333333333333333,
              "#9c179e"
             ],
             [
              0.4444444444444444,
              "#bd3786"
             ],
             [
              0.5555555555555556,
              "#d8576b"
             ],
             [
              0.6666666666666666,
              "#ed7953"
             ],
             [
              0.7777777777777778,
              "#fb9f3a"
             ],
             [
              0.8888888888888888,
              "#fdca26"
             ],
             [
              1,
              "#f0f921"
             ]
            ],
            "type": "surface"
           }
          ],
          "table": [
           {
            "cells": {
             "fill": {
              "color": "#EBF0F8"
             },
             "line": {
              "color": "white"
             }
            },
            "header": {
             "fill": {
              "color": "#C8D4E3"
             },
             "line": {
              "color": "white"
             }
            },
            "type": "table"
           }
          ]
         },
         "layout": {
          "annotationdefaults": {
           "arrowcolor": "#2a3f5f",
           "arrowhead": 0,
           "arrowwidth": 1
          },
          "autotypenumbers": "strict",
          "coloraxis": {
           "colorbar": {
            "outlinewidth": 0,
            "ticks": ""
           }
          },
          "colorscale": {
           "diverging": [
            [
             0,
             "#8e0152"
            ],
            [
             0.1,
             "#c51b7d"
            ],
            [
             0.2,
             "#de77ae"
            ],
            [
             0.3,
             "#f1b6da"
            ],
            [
             0.4,
             "#fde0ef"
            ],
            [
             0.5,
             "#f7f7f7"
            ],
            [
             0.6,
             "#e6f5d0"
            ],
            [
             0.7,
             "#b8e186"
            ],
            [
             0.8,
             "#7fbc41"
            ],
            [
             0.9,
             "#4d9221"
            ],
            [
             1,
             "#276419"
            ]
           ],
           "sequential": [
            [
             0,
             "#0d0887"
            ],
            [
             0.1111111111111111,
             "#46039f"
            ],
            [
             0.2222222222222222,
             "#7201a8"
            ],
            [
             0.3333333333333333,
             "#9c179e"
            ],
            [
             0.4444444444444444,
             "#bd3786"
            ],
            [
             0.5555555555555556,
             "#d8576b"
            ],
            [
             0.6666666666666666,
             "#ed7953"
            ],
            [
             0.7777777777777778,
             "#fb9f3a"
            ],
            [
             0.8888888888888888,
             "#fdca26"
            ],
            [
             1,
             "#f0f921"
            ]
           ],
           "sequentialminus": [
            [
             0,
             "#0d0887"
            ],
            [
             0.1111111111111111,
             "#46039f"
            ],
            [
             0.2222222222222222,
             "#7201a8"
            ],
            [
             0.3333333333333333,
             "#9c179e"
            ],
            [
             0.4444444444444444,
             "#bd3786"
            ],
            [
             0.5555555555555556,
             "#d8576b"
            ],
            [
             0.6666666666666666,
             "#ed7953"
            ],
            [
             0.7777777777777778,
             "#fb9f3a"
            ],
            [
             0.8888888888888888,
             "#fdca26"
            ],
            [
             1,
             "#f0f921"
            ]
           ]
          },
          "colorway": [
           "#636efa",
           "#EF553B",
           "#00cc96",
           "#ab63fa",
           "#FFA15A",
           "#19d3f3",
           "#FF6692",
           "#B6E880",
           "#FF97FF",
           "#FECB52"
          ],
          "font": {
           "color": "#2a3f5f"
          },
          "geo": {
           "bgcolor": "white",
           "lakecolor": "white",
           "landcolor": "#E5ECF6",
           "showlakes": true,
           "showland": true,
           "subunitcolor": "white"
          },
          "hoverlabel": {
           "align": "left"
          },
          "hovermode": "closest",
          "mapbox": {
           "style": "light"
          },
          "paper_bgcolor": "white",
          "plot_bgcolor": "#E5ECF6",
          "polar": {
           "angularaxis": {
            "gridcolor": "white",
            "linecolor": "white",
            "ticks": ""
           },
           "bgcolor": "#E5ECF6",
           "radialaxis": {
            "gridcolor": "white",
            "linecolor": "white",
            "ticks": ""
           }
          },
          "scene": {
           "xaxis": {
            "backgroundcolor": "#E5ECF6",
            "gridcolor": "white",
            "gridwidth": 2,
            "linecolor": "white",
            "showbackground": true,
            "ticks": "",
            "zerolinecolor": "white"
           },
           "yaxis": {
            "backgroundcolor": "#E5ECF6",
            "gridcolor": "white",
            "gridwidth": 2,
            "linecolor": "white",
            "showbackground": true,
            "ticks": "",
            "zerolinecolor": "white"
           },
           "zaxis": {
            "backgroundcolor": "#E5ECF6",
            "gridcolor": "white",
            "gridwidth": 2,
            "linecolor": "white",
            "showbackground": true,
            "ticks": "",
            "zerolinecolor": "white"
           }
          },
          "shapedefaults": {
           "line": {
            "color": "#2a3f5f"
           }
          },
          "ternary": {
           "aaxis": {
            "gridcolor": "white",
            "linecolor": "white",
            "ticks": ""
           },
           "baxis": {
            "gridcolor": "white",
            "linecolor": "white",
            "ticks": ""
           },
           "bgcolor": "#E5ECF6",
           "caxis": {
            "gridcolor": "white",
            "linecolor": "white",
            "ticks": ""
           }
          },
          "title": {
           "x": 0.05
          },
          "xaxis": {
           "automargin": true,
           "gridcolor": "white",
           "linecolor": "white",
           "ticks": "",
           "title": {
            "standoff": 15
           },
           "zerolinecolor": "white",
           "zerolinewidth": 2
          },
          "yaxis": {
           "automargin": true,
           "gridcolor": "white",
           "linecolor": "white",
           "ticks": "",
           "title": {
            "standoff": 15
           },
           "zerolinecolor": "white",
           "zerolinewidth": 2
          }
         }
        },
        "xaxis": {
         "anchor": "y",
         "domain": [
          0,
          1
         ],
         "title": {
          "text": "biosignature_cat"
         }
        },
        "yaxis": {
         "anchor": "x",
         "domain": [
          0,
          1
         ],
         "title": {
          "text": "number of samples"
         }
        }
       }
      },
      "text/html": [
       "<div>                            <div id=\"b26d9894-d72e-43bd-b85f-8a8ab22a6017\" class=\"plotly-graph-div\" style=\"height:525px; width:100%;\"></div>            <script type=\"text/javascript\">                require([\"plotly\"], function(Plotly) {                    window.PLOTLYENV=window.PLOTLYENV || {};                                    if (document.getElementById(\"b26d9894-d72e-43bd-b85f-8a8ab22a6017\")) {                    Plotly.newPlot(                        \"b26d9894-d72e-43bd-b85f-8a8ab22a6017\",                        [{\"alignmentgroup\":\"True\",\"hovertemplate\":\"biosignature_cat=%{x}<br>number of samples=%{y}<extra></extra>\",\"legendgroup\":\"\",\"marker\":{\"color\":\"#636efa\",\"pattern\":{\"shape\":\"\"}},\"name\":\"\",\"offsetgroup\":\"\",\"orientation\":\"v\",\"showlegend\":false,\"textposition\":\"auto\",\"x\":[\"live organisms\",\"organics\",\"textures\"],\"xaxis\":\"x\",\"y\":[2,6,4],\"yaxis\":\"y\",\"type\":\"bar\"}],                        {\"template\":{\"data\":{\"bar\":[{\"error_x\":{\"color\":\"#2a3f5f\"},\"error_y\":{\"color\":\"#2a3f5f\"},\"marker\":{\"line\":{\"color\":\"#E5ECF6\",\"width\":0.5},\"pattern\":{\"fillmode\":\"overlay\",\"size\":10,\"solidity\":0.2}},\"type\":\"bar\"}],\"barpolar\":[{\"marker\":{\"line\":{\"color\":\"#E5ECF6\",\"width\":0.5},\"pattern\":{\"fillmode\":\"overlay\",\"size\":10,\"solidity\":0.2}},\"type\":\"barpolar\"}],\"carpet\":[{\"aaxis\":{\"endlinecolor\":\"#2a3f5f\",\"gridcolor\":\"white\",\"linecolor\":\"white\",\"minorgridcolor\":\"white\",\"startlinecolor\":\"#2a3f5f\"},\"baxis\":{\"endlinecolor\":\"#2a3f5f\",\"gridcolor\":\"white\",\"linecolor\":\"white\",\"minorgridcolor\":\"white\",\"startlinecolor\":\"#2a3f5f\"},\"type\":\"carpet\"}],\"choropleth\":[{\"colorbar\":{\"outlinewidth\":0,\"ticks\":\"\"},\"type\":\"choropleth\"}],\"contour\":[{\"colorbar\":{\"outlinewidth\":0,\"ticks\":\"\"},\"colorscale\":[[0.0,\"#0d0887\"],[0.1111111111111111,\"#46039f\"],[0.2222222222222222,\"#7201a8\"],[0.3333333333333333,\"#9c179e\"],[0.4444444444444444,\"#bd3786\"],[0.5555555555555556,\"#d8576b\"],[0.6666666666666666,\"#ed7953\"],[0.7777777777777778,\"#fb9f3a\"],[0.8888888888888888,\"#fdca26\"],[1.0,\"#f0f921\"]],\"type\":\"contour\"}],\"contourcarpet\":[{\"colorbar\":{\"outlinewidth\":0,\"ticks\":\"\"},\"type\":\"contourcarpet\"}],\"heatmap\":[{\"colorbar\":{\"outlinewidth\":0,\"ticks\":\"\"},\"colorscale\":[[0.0,\"#0d0887\"],[0.1111111111111111,\"#46039f\"],[0.2222222222222222,\"#7201a8\"],[0.3333333333333333,\"#9c179e\"],[0.4444444444444444,\"#bd3786\"],[0.5555555555555556,\"#d8576b\"],[0.6666666666666666,\"#ed7953\"],[0.7777777777777778,\"#fb9f3a\"],[0.8888888888888888,\"#fdca26\"],[1.0,\"#f0f921\"]],\"type\":\"heatmap\"}],\"heatmapgl\":[{\"colorbar\":{\"outlinewidth\":0,\"ticks\":\"\"},\"colorscale\":[[0.0,\"#0d0887\"],[0.1111111111111111,\"#46039f\"],[0.2222222222222222,\"#7201a8\"],[0.3333333333333333,\"#9c179e\"],[0.4444444444444444,\"#bd3786\"],[0.5555555555555556,\"#d8576b\"],[0.6666666666666666,\"#ed7953\"],[0.7777777777777778,\"#fb9f3a\"],[0.8888888888888888,\"#fdca26\"],[1.0,\"#f0f921\"]],\"type\":\"heatmapgl\"}],\"histogram\":[{\"marker\":{\"pattern\":{\"fillmode\":\"overlay\",\"size\":10,\"solidity\":0.2}},\"type\":\"histogram\"}],\"histogram2d\":[{\"colorbar\":{\"outlinewidth\":0,\"ticks\":\"\"},\"colorscale\":[[0.0,\"#0d0887\"],[0.1111111111111111,\"#46039f\"],[0.2222222222222222,\"#7201a8\"],[0.3333333333333333,\"#9c179e\"],[0.4444444444444444,\"#bd3786\"],[0.5555555555555556,\"#d8576b\"],[0.6666666666666666,\"#ed7953\"],[0.7777777777777778,\"#fb9f3a\"],[0.8888888888888888,\"#fdca26\"],[1.0,\"#f0f921\"]],\"type\":\"histogram2d\"}],\"histogram2dcontour\":[{\"colorbar\":{\"outlinewidth\":0,\"ticks\":\"\"},\"colorscale\":[[0.0,\"#0d0887\"],[0.1111111111111111,\"#46039f\"],[0.2222222222222222,\"#7201a8\"],[0.3333333333333333,\"#9c179e\"],[0.4444444444444444,\"#bd3786\"],[0.5555555555555556,\"#d8576b\"],[0.6666666666666666,\"#ed7953\"],[0.7777777777777778,\"#fb9f3a\"],[0.8888888888888888,\"#fdca26\"],[1.0,\"#f0f921\"]],\"type\":\"histogram2dcontour\"}],\"mesh3d\":[{\"colorbar\":{\"outlinewidth\":0,\"ticks\":\"\"},\"type\":\"mesh3d\"}],\"parcoords\":[{\"line\":{\"colorbar\":{\"outlinewidth\":0,\"ticks\":\"\"}},\"type\":\"parcoords\"}],\"pie\":[{\"automargin\":true,\"type\":\"pie\"}],\"scatter\":[{\"marker\":{\"colorbar\":{\"outlinewidth\":0,\"ticks\":\"\"}},\"type\":\"scatter\"}],\"scatter3d\":[{\"line\":{\"colorbar\":{\"outlinewidth\":0,\"ticks\":\"\"}},\"marker\":{\"colorbar\":{\"outlinewidth\":0,\"ticks\":\"\"}},\"type\":\"scatter3d\"}],\"scattercarpet\":[{\"marker\":{\"colorbar\":{\"outlinewidth\":0,\"ticks\":\"\"}},\"type\":\"scattercarpet\"}],\"scattergeo\":[{\"marker\":{\"colorbar\":{\"outlinewidth\":0,\"ticks\":\"\"}},\"type\":\"scattergeo\"}],\"scattergl\":[{\"marker\":{\"colorbar\":{\"outlinewidth\":0,\"ticks\":\"\"}},\"type\":\"scattergl\"}],\"scattermapbox\":[{\"marker\":{\"colorbar\":{\"outlinewidth\":0,\"ticks\":\"\"}},\"type\":\"scattermapbox\"}],\"scatterpolar\":[{\"marker\":{\"colorbar\":{\"outlinewidth\":0,\"ticks\":\"\"}},\"type\":\"scatterpolar\"}],\"scatterpolargl\":[{\"marker\":{\"colorbar\":{\"outlinewidth\":0,\"ticks\":\"\"}},\"type\":\"scatterpolargl\"}],\"scatterternary\":[{\"marker\":{\"colorbar\":{\"outlinewidth\":0,\"ticks\":\"\"}},\"type\":\"scatterternary\"}],\"surface\":[{\"colorbar\":{\"outlinewidth\":0,\"ticks\":\"\"},\"colorscale\":[[0.0,\"#0d0887\"],[0.1111111111111111,\"#46039f\"],[0.2222222222222222,\"#7201a8\"],[0.3333333333333333,\"#9c179e\"],[0.4444444444444444,\"#bd3786\"],[0.5555555555555556,\"#d8576b\"],[0.6666666666666666,\"#ed7953\"],[0.7777777777777778,\"#fb9f3a\"],[0.8888888888888888,\"#fdca26\"],[1.0,\"#f0f921\"]],\"type\":\"surface\"}],\"table\":[{\"cells\":{\"fill\":{\"color\":\"#EBF0F8\"},\"line\":{\"color\":\"white\"}},\"header\":{\"fill\":{\"color\":\"#C8D4E3\"},\"line\":{\"color\":\"white\"}},\"type\":\"table\"}]},\"layout\":{\"annotationdefaults\":{\"arrowcolor\":\"#2a3f5f\",\"arrowhead\":0,\"arrowwidth\":1},\"autotypenumbers\":\"strict\",\"coloraxis\":{\"colorbar\":{\"outlinewidth\":0,\"ticks\":\"\"}},\"colorscale\":{\"diverging\":[[0,\"#8e0152\"],[0.1,\"#c51b7d\"],[0.2,\"#de77ae\"],[0.3,\"#f1b6da\"],[0.4,\"#fde0ef\"],[0.5,\"#f7f7f7\"],[0.6,\"#e6f5d0\"],[0.7,\"#b8e186\"],[0.8,\"#7fbc41\"],[0.9,\"#4d9221\"],[1,\"#276419\"]],\"sequential\":[[0.0,\"#0d0887\"],[0.1111111111111111,\"#46039f\"],[0.2222222222222222,\"#7201a8\"],[0.3333333333333333,\"#9c179e\"],[0.4444444444444444,\"#bd3786\"],[0.5555555555555556,\"#d8576b\"],[0.6666666666666666,\"#ed7953\"],[0.7777777777777778,\"#fb9f3a\"],[0.8888888888888888,\"#fdca26\"],[1.0,\"#f0f921\"]],\"sequentialminus\":[[0.0,\"#0d0887\"],[0.1111111111111111,\"#46039f\"],[0.2222222222222222,\"#7201a8\"],[0.3333333333333333,\"#9c179e\"],[0.4444444444444444,\"#bd3786\"],[0.5555555555555556,\"#d8576b\"],[0.6666666666666666,\"#ed7953\"],[0.7777777777777778,\"#fb9f3a\"],[0.8888888888888888,\"#fdca26\"],[1.0,\"#f0f921\"]]},\"colorway\":[\"#636efa\",\"#EF553B\",\"#00cc96\",\"#ab63fa\",\"#FFA15A\",\"#19d3f3\",\"#FF6692\",\"#B6E880\",\"#FF97FF\",\"#FECB52\"],\"font\":{\"color\":\"#2a3f5f\"},\"geo\":{\"bgcolor\":\"white\",\"lakecolor\":\"white\",\"landcolor\":\"#E5ECF6\",\"showlakes\":true,\"showland\":true,\"subunitcolor\":\"white\"},\"hoverlabel\":{\"align\":\"left\"},\"hovermode\":\"closest\",\"mapbox\":{\"style\":\"light\"},\"paper_bgcolor\":\"white\",\"plot_bgcolor\":\"#E5ECF6\",\"polar\":{\"angularaxis\":{\"gridcolor\":\"white\",\"linecolor\":\"white\",\"ticks\":\"\"},\"bgcolor\":\"#E5ECF6\",\"radialaxis\":{\"gridcolor\":\"white\",\"linecolor\":\"white\",\"ticks\":\"\"}},\"scene\":{\"xaxis\":{\"backgroundcolor\":\"#E5ECF6\",\"gridcolor\":\"white\",\"gridwidth\":2,\"linecolor\":\"white\",\"showbackground\":true,\"ticks\":\"\",\"zerolinecolor\":\"white\"},\"yaxis\":{\"backgroundcolor\":\"#E5ECF6\",\"gridcolor\":\"white\",\"gridwidth\":2,\"linecolor\":\"white\",\"showbackground\":true,\"ticks\":\"\",\"zerolinecolor\":\"white\"},\"zaxis\":{\"backgroundcolor\":\"#E5ECF6\",\"gridcolor\":\"white\",\"gridwidth\":2,\"linecolor\":\"white\",\"showbackground\":true,\"ticks\":\"\",\"zerolinecolor\":\"white\"}},\"shapedefaults\":{\"line\":{\"color\":\"#2a3f5f\"}},\"ternary\":{\"aaxis\":{\"gridcolor\":\"white\",\"linecolor\":\"white\",\"ticks\":\"\"},\"baxis\":{\"gridcolor\":\"white\",\"linecolor\":\"white\",\"ticks\":\"\"},\"bgcolor\":\"#E5ECF6\",\"caxis\":{\"gridcolor\":\"white\",\"linecolor\":\"white\",\"ticks\":\"\"}},\"title\":{\"x\":0.05},\"xaxis\":{\"automargin\":true,\"gridcolor\":\"white\",\"linecolor\":\"white\",\"ticks\":\"\",\"title\":{\"standoff\":15},\"zerolinecolor\":\"white\",\"zerolinewidth\":2},\"yaxis\":{\"automargin\":true,\"gridcolor\":\"white\",\"linecolor\":\"white\",\"ticks\":\"\",\"title\":{\"standoff\":15},\"zerolinecolor\":\"white\",\"zerolinewidth\":2}}},\"xaxis\":{\"anchor\":\"y\",\"domain\":[0.0,1.0],\"title\":{\"text\":\"biosignature_cat\"}},\"yaxis\":{\"anchor\":\"x\",\"domain\":[0.0,1.0],\"title\":{\"text\":\"number of samples\"}},\"legend\":{\"tracegroupgap\":0},\"margin\":{\"t\":60},\"barmode\":\"relative\"},                        {\"responsive\": true}                    ).then(function(){\n",
       "                            \n",
       "var gd = document.getElementById('b26d9894-d72e-43bd-b85f-8a8ab22a6017');\n",
       "var x = new MutationObserver(function (mutations, observer) {{\n",
       "        var display = window.getComputedStyle(gd).display;\n",
       "        if (!display || display === 'none') {{\n",
       "            console.log([gd, 'removed!']);\n",
       "            Plotly.purge(gd);\n",
       "            observer.disconnect();\n",
       "        }}\n",
       "}});\n",
       "\n",
       "// Listen for the removal of the full notebook cells\n",
       "var notebookContainer = gd.closest('#notebook-container');\n",
       "if (notebookContainer) {{\n",
       "    x.observe(notebookContainer, {childList: true});\n",
       "}}\n",
       "\n",
       "// Listen for the clearing of the current output cell\n",
       "var outputEl = gd.closest('.output');\n",
       "if (outputEl) {{\n",
       "    x.observe(outputEl, {childList: true});\n",
       "}}\n",
       "\n",
       "                        })                };                });            </script>        </div>"
      ]
     },
     "metadata": {},
     "output_type": "display_data"
    }
   ],
   "source": [
    "px.bar(grouped_cat.loc[37.350000, -6.150000,'Rio Tinto, Spain'].reset_index(), x='biosignature_cat', y='number of samples')"
   ]
  },
  {
   "cell_type": "code",
   "execution_count": 119,
   "id": "589c9b23",
   "metadata": {},
   "outputs": [],
   "source": [
    "grouped_cat = bio_df.groupby(['latitude', 'longitude', 'location_name', 'detection_methods']).sum()[['number of samples' ]]\n",
    "grouped_cat.reset_index(level=['detection_methods'], inplace=True)"
   ]
  },
  {
   "cell_type": "code",
   "execution_count": 124,
   "id": "7a5edc7f",
   "metadata": {},
   "outputs": [
    {
     "data": {
      "text/html": [
       "<div>\n",
       "<style scoped>\n",
       "    .dataframe tbody tr th:only-of-type {\n",
       "        vertical-align: middle;\n",
       "    }\n",
       "\n",
       "    .dataframe tbody tr th {\n",
       "        vertical-align: top;\n",
       "    }\n",
       "\n",
       "    .dataframe thead th {\n",
       "        text-align: right;\n",
       "    }\n",
       "</style>\n",
       "<table border=\"1\" class=\"dataframe\">\n",
       "  <thead>\n",
       "    <tr style=\"text-align: right;\">\n",
       "      <th></th>\n",
       "      <th></th>\n",
       "      <th></th>\n",
       "      <th>detection_methods</th>\n",
       "      <th>number of samples</th>\n",
       "    </tr>\n",
       "    <tr>\n",
       "      <th>latitude</th>\n",
       "      <th>longitude</th>\n",
       "      <th>location_name</th>\n",
       "      <th></th>\n",
       "      <th></th>\n",
       "    </tr>\n",
       "  </thead>\n",
       "  <tbody>\n",
       "    <tr>\n",
       "      <th rowspan=\"2\" valign=\"top\">-38.400000</th>\n",
       "      <th rowspan=\"2\" valign=\"top\">176.216667</th>\n",
       "      <th>Taupo Volcanic Zone, New Zealand</th>\n",
       "      <td>gc-ms</td>\n",
       "      <td>16</td>\n",
       "    </tr>\n",
       "    <tr>\n",
       "      <th>Taupo Volcanic Zone, New Zealand</th>\n",
       "      <td>optical microscopy</td>\n",
       "      <td>2</td>\n",
       "    </tr>\n",
       "    <tr>\n",
       "      <th rowspan=\"3\" valign=\"top\">-36.932800</th>\n",
       "      <th rowspan=\"3\" valign=\"top\">175.716500</th>\n",
       "      <th>Coromandel Volcanic Zone</th>\n",
       "      <td>gc-ms</td>\n",
       "      <td>24</td>\n",
       "    </tr>\n",
       "    <tr>\n",
       "      <th>Coromandel Volcanic Zone</th>\n",
       "      <td>naked eye</td>\n",
       "      <td>1</td>\n",
       "    </tr>\n",
       "    <tr>\n",
       "      <th>Coromandel Volcanic Zone</th>\n",
       "      <td>optical microscopy</td>\n",
       "      <td>4</td>\n",
       "    </tr>\n",
       "    <tr>\n",
       "      <th>-21.630556</th>\n",
       "      <th>117.550556</th>\n",
       "      <th>Pilbara Craton, Australia</th>\n",
       "      <td>naked eye</td>\n",
       "      <td>5</td>\n",
       "    </tr>\n",
       "    <tr>\n",
       "      <th>-20.333333</th>\n",
       "      <th>-68.016667</th>\n",
       "      <th>El Tatio, Chile</th>\n",
       "      <td>gc-ms</td>\n",
       "      <td>6</td>\n",
       "    </tr>\n",
       "    <tr>\n",
       "      <th rowspan=\"2\" valign=\"top\">37.350000</th>\n",
       "      <th rowspan=\"2\" valign=\"top\">-6.150000</th>\n",
       "      <th>Rio Tinto, Spain</th>\n",
       "      <td>ftir</td>\n",
       "      <td>6</td>\n",
       "    </tr>\n",
       "    <tr>\n",
       "      <th>Rio Tinto, Spain</th>\n",
       "      <td>sem</td>\n",
       "      <td>6</td>\n",
       "    </tr>\n",
       "  </tbody>\n",
       "</table>\n",
       "</div>"
      ],
      "text/plain": [
       "                                                          detection_methods  \\\n",
       "latitude   longitude   location_name                                          \n",
       "-38.400000  176.216667 Taupo Volcanic Zone, New Zealand               gc-ms   \n",
       "                       Taupo Volcanic Zone, New Zealand  optical microscopy   \n",
       "-36.932800  175.716500 Coromandel Volcanic Zone                       gc-ms   \n",
       "                       Coromandel Volcanic Zone                   naked eye   \n",
       "                       Coromandel Volcanic Zone          optical microscopy   \n",
       "-21.630556  117.550556 Pilbara Craton, Australia                  naked eye   \n",
       "-20.333333 -68.016667  El Tatio, Chile                                gc-ms   \n",
       " 37.350000 -6.150000   Rio Tinto, Spain                                ftir   \n",
       "                       Rio Tinto, Spain                                 sem   \n",
       "\n",
       "                                                         number of samples  \n",
       "latitude   longitude   location_name                                        \n",
       "-38.400000  176.216667 Taupo Volcanic Zone, New Zealand                 16  \n",
       "                       Taupo Volcanic Zone, New Zealand                  2  \n",
       "-36.932800  175.716500 Coromandel Volcanic Zone                         24  \n",
       "                       Coromandel Volcanic Zone                          1  \n",
       "                       Coromandel Volcanic Zone                          4  \n",
       "-21.630556  117.550556 Pilbara Craton, Australia                         5  \n",
       "-20.333333 -68.016667  El Tatio, Chile                                   6  \n",
       " 37.350000 -6.150000   Rio Tinto, Spain                                  6  \n",
       "                       Rio Tinto, Spain                                  6  "
      ]
     },
     "execution_count": 124,
     "metadata": {},
     "output_type": "execute_result"
    }
   ],
   "source": [
    "grouped_cat"
   ]
  },
  {
   "cell_type": "code",
   "execution_count": 125,
   "id": "5fc3ad50",
   "metadata": {},
   "outputs": [
    {
     "data": {
      "text/html": [
       "<div>\n",
       "<style scoped>\n",
       "    .dataframe tbody tr th:only-of-type {\n",
       "        vertical-align: middle;\n",
       "    }\n",
       "\n",
       "    .dataframe tbody tr th {\n",
       "        vertical-align: top;\n",
       "    }\n",
       "\n",
       "    .dataframe thead th {\n",
       "        text-align: right;\n",
       "    }\n",
       "</style>\n",
       "<table border=\"1\" class=\"dataframe\">\n",
       "  <thead>\n",
       "    <tr style=\"text-align: right;\">\n",
       "      <th></th>\n",
       "      <th></th>\n",
       "      <th></th>\n",
       "      <th>detection_methods</th>\n",
       "      <th>number of samples</th>\n",
       "    </tr>\n",
       "    <tr>\n",
       "      <th>latitude</th>\n",
       "      <th>longitude</th>\n",
       "      <th>location_name</th>\n",
       "      <th></th>\n",
       "      <th></th>\n",
       "    </tr>\n",
       "  </thead>\n",
       "  <tbody>\n",
       "    <tr>\n",
       "      <th rowspan=\"2\" valign=\"top\">37.35</th>\n",
       "      <th rowspan=\"2\" valign=\"top\">-6.15</th>\n",
       "      <th>Rio Tinto, Spain</th>\n",
       "      <td>ftir</td>\n",
       "      <td>6</td>\n",
       "    </tr>\n",
       "    <tr>\n",
       "      <th>Rio Tinto, Spain</th>\n",
       "      <td>sem</td>\n",
       "      <td>6</td>\n",
       "    </tr>\n",
       "  </tbody>\n",
       "</table>\n",
       "</div>"
      ],
      "text/plain": [
       "                                    detection_methods  number of samples\n",
       "latitude longitude location_name                                        \n",
       "37.35    -6.15     Rio Tinto, Spain              ftir                  6\n",
       "                   Rio Tinto, Spain               sem                  6"
      ]
     },
     "execution_count": 125,
     "metadata": {},
     "output_type": "execute_result"
    }
   ],
   "source": [
    "grouped_cat.loc[37.350000, -6.150000,'Rio Tinto, Spain']"
   ]
  },
  {
   "cell_type": "markdown",
   "id": "453343cc",
   "metadata": {},
   "source": [
    "## Plot coordinates on 3D globe"
   ]
  },
  {
   "cell_type": "code",
   "execution_count": 115,
   "id": "4b1465cb",
   "metadata": {},
   "outputs": [
    {
     "data": {
      "text/markdown": [
       "<span style=\"font-family: monospace\">#636EFA <span style=\"color: #636EFA\">████████</span></span><br><span style=\"font-family: monospace\">#EF553B <span style=\"color: #EF553B\">████████</span></span><br><span style=\"font-family: monospace\">#00CC96 <span style=\"color: #00CC96\">████████</span></span><br><span style=\"font-family: monospace\">#AB63FA <span style=\"color: #AB63FA\">████████</span></span><br><span style=\"font-family: monospace\">#FFA15A <span style=\"color: #FFA15A\">████████</span></span><br><span style=\"font-family: monospace\">#19D3F3 <span style=\"color: #19D3F3\">████████</span></span><br><span style=\"font-family: monospace\">#FF6692 <span style=\"color: #FF6692\">████████</span></span><br><span style=\"font-family: monospace\">#B6E880 <span style=\"color: #B6E880\">████████</span></span><br><span style=\"font-family: monospace\">#FF97FF <span style=\"color: #FF97FF\">████████</span></span><br><span style=\"font-family: monospace\">#FECB52 <span style=\"color: #FECB52\">████████</span></span>"
      ],
      "text/plain": [
       "<IPython.core.display.Markdown object>"
      ]
     },
     "metadata": {},
     "output_type": "display_data"
    }
   ],
   "source": [
    "from IPython.display import Markdown, display\n",
    "\n",
    "display(Markdown('<br>'.join(\n",
    "    f'<span style=\"font-family: monospace\">{color} <span style=\"color: {color}\">████████</span></span>'\n",
    "    for color in px.colors.qualitative.Plotly\n",
    ")))"
   ]
  },
  {
   "cell_type": "code",
   "execution_count": null,
   "id": "78be293f",
   "metadata": {},
   "outputs": [],
   "source": []
  }
 ],
 "metadata": {
  "kernelspec": {
   "display_name": "Python 3 (ipykernel)",
   "language": "python",
   "name": "python3"
  },
  "language_info": {
   "codemirror_mode": {
    "name": "ipython",
    "version": 3
   },
   "file_extension": ".py",
   "mimetype": "text/x-python",
   "name": "python",
   "nbconvert_exporter": "python",
   "pygments_lexer": "ipython3",
   "version": "3.8.12"
  },
  "toc": {
   "base_numbering": 1,
   "nav_menu": {},
   "number_sections": true,
   "sideBar": true,
   "skip_h1_title": false,
   "title_cell": "Table of Contents",
   "title_sidebar": "Contents",
   "toc_cell": false,
   "toc_position": {},
   "toc_section_display": true,
   "toc_window_display": false
  }
 },
 "nbformat": 4,
 "nbformat_minor": 5
}
